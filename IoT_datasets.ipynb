{
  "nbformat": 4,
  "nbformat_minor": 0,
  "metadata": {
    "colab": {
      "name": "IoT datasets.ipynb",
      "provenance": [],
      "collapsed_sections": [],
      "toc_visible": true
    },
    "kernelspec": {
      "name": "python3",
      "display_name": "Python 3"
    }
  },
  "cells": [
    {
      "cell_type": "code",
      "metadata": {
        "id": "_RUyRtD0H8UB"
      },
      "source": [
        "import pandas as pd\r\n",
        "import os\r\n",
        "import numpy as np\r\n",
        "import matplotlib.pyplot as plt\r\n",
        "import seaborn as sns\r\n"
      ],
      "execution_count": 65,
      "outputs": []
    },
    {
      "cell_type": "code",
      "metadata": {
        "colab": {
          "base_uri": "https://localhost:8080/",
          "height": 241
        },
        "id": "Oq5ltDhZLGRc",
        "outputId": "8821aff7-5daf-48f8-ecea-c0affa4c1f10"
      },
      "source": [
        "df = pd.read_csv('/content/drive/MyDrive/iot imbalanced data 34-1', sep='\\t')\r\n",
        "\r\n",
        "df.head(5)"
      ],
      "execution_count": 66,
      "outputs": [
        {
          "output_type": "execute_result",
          "data": {
            "text/html": [
              "<div>\n",
              "<style scoped>\n",
              "    .dataframe tbody tr th:only-of-type {\n",
              "        vertical-align: middle;\n",
              "    }\n",
              "\n",
              "    .dataframe tbody tr th {\n",
              "        vertical-align: top;\n",
              "    }\n",
              "\n",
              "    .dataframe thead th {\n",
              "        text-align: right;\n",
              "    }\n",
              "</style>\n",
              "<table border=\"1\" class=\"dataframe\">\n",
              "  <thead>\n",
              "    <tr style=\"text-align: right;\">\n",
              "      <th></th>\n",
              "      <th>ts</th>\n",
              "      <th>uid</th>\n",
              "      <th>id.orig_h</th>\n",
              "      <th>id.orig_p</th>\n",
              "      <th>id.resp_h</th>\n",
              "      <th>id.resp_p</th>\n",
              "      <th>proto</th>\n",
              "      <th>service</th>\n",
              "      <th>duration</th>\n",
              "      <th>orig_bytes</th>\n",
              "      <th>resp_bytes</th>\n",
              "      <th>conn_state</th>\n",
              "      <th>local_orig</th>\n",
              "      <th>local_resp</th>\n",
              "      <th>missed_bytes</th>\n",
              "      <th>history</th>\n",
              "      <th>orig_pkts</th>\n",
              "      <th>orig_ip_bytes</th>\n",
              "      <th>resp_pkts</th>\n",
              "      <th>resp_ip_bytes</th>\n",
              "      <th>tunnel_parents</th>\n",
              "      <th>label</th>\n",
              "      <th>detailed-label</th>\n",
              "    </tr>\n",
              "  </thead>\n",
              "  <tbody>\n",
              "    <tr>\n",
              "      <th>0</th>\n",
              "      <td>1.545404e+09</td>\n",
              "      <td>CrDn63WjJEmrWGjqf</td>\n",
              "      <td>192.168.1.195</td>\n",
              "      <td>41040</td>\n",
              "      <td>185.244.25.235</td>\n",
              "      <td>80</td>\n",
              "      <td>tcp</td>\n",
              "      <td>-</td>\n",
              "      <td>3.139211</td>\n",
              "      <td>0</td>\n",
              "      <td>0</td>\n",
              "      <td>S0</td>\n",
              "      <td>-</td>\n",
              "      <td>-</td>\n",
              "      <td>0</td>\n",
              "      <td>S</td>\n",
              "      <td>3</td>\n",
              "      <td>180</td>\n",
              "      <td>0</td>\n",
              "      <td>0</td>\n",
              "      <td>-</td>\n",
              "      <td>Benign</td>\n",
              "      <td>-</td>\n",
              "    </tr>\n",
              "    <tr>\n",
              "      <th>1</th>\n",
              "      <td>1.545404e+09</td>\n",
              "      <td>CY9lJW3gh1Eje4usP6</td>\n",
              "      <td>192.168.1.195</td>\n",
              "      <td>41040</td>\n",
              "      <td>185.244.25.235</td>\n",
              "      <td>80</td>\n",
              "      <td>tcp</td>\n",
              "      <td>-</td>\n",
              "      <td>-</td>\n",
              "      <td>-</td>\n",
              "      <td>-</td>\n",
              "      <td>S0</td>\n",
              "      <td>-</td>\n",
              "      <td>-</td>\n",
              "      <td>0</td>\n",
              "      <td>S</td>\n",
              "      <td>1</td>\n",
              "      <td>60</td>\n",
              "      <td>0</td>\n",
              "      <td>0</td>\n",
              "      <td>-</td>\n",
              "      <td>Benign</td>\n",
              "      <td>-</td>\n",
              "    </tr>\n",
              "    <tr>\n",
              "      <th>2</th>\n",
              "      <td>1.545404e+09</td>\n",
              "      <td>CcFXLynukEDnUlvgl</td>\n",
              "      <td>192.168.1.195</td>\n",
              "      <td>41040</td>\n",
              "      <td>185.244.25.235</td>\n",
              "      <td>80</td>\n",
              "      <td>tcp</td>\n",
              "      <td>-</td>\n",
              "      <td>-</td>\n",
              "      <td>-</td>\n",
              "      <td>-</td>\n",
              "      <td>S0</td>\n",
              "      <td>-</td>\n",
              "      <td>-</td>\n",
              "      <td>0</td>\n",
              "      <td>S</td>\n",
              "      <td>1</td>\n",
              "      <td>60</td>\n",
              "      <td>0</td>\n",
              "      <td>0</td>\n",
              "      <td>-</td>\n",
              "      <td>Benign</td>\n",
              "      <td>-</td>\n",
              "    </tr>\n",
              "    <tr>\n",
              "      <th>3</th>\n",
              "      <td>1.545404e+09</td>\n",
              "      <td>CDrkrSobGYxHhYfth</td>\n",
              "      <td>192.168.1.195</td>\n",
              "      <td>41040</td>\n",
              "      <td>185.244.25.235</td>\n",
              "      <td>80</td>\n",
              "      <td>tcp</td>\n",
              "      <td>http</td>\n",
              "      <td>1.477656</td>\n",
              "      <td>149</td>\n",
              "      <td>128252</td>\n",
              "      <td>SF</td>\n",
              "      <td>-</td>\n",
              "      <td>-</td>\n",
              "      <td>2896</td>\n",
              "      <td>ShADadttcfF</td>\n",
              "      <td>94</td>\n",
              "      <td>5525</td>\n",
              "      <td>96</td>\n",
              "      <td>139044</td>\n",
              "      <td>-</td>\n",
              "      <td>Benign</td>\n",
              "      <td>-</td>\n",
              "    </tr>\n",
              "    <tr>\n",
              "      <th>4</th>\n",
              "      <td>1.545404e+09</td>\n",
              "      <td>CTWZQf2oJSvq6zmPAc</td>\n",
              "      <td>192.168.1.195</td>\n",
              "      <td>41042</td>\n",
              "      <td>185.244.25.235</td>\n",
              "      <td>80</td>\n",
              "      <td>tcp</td>\n",
              "      <td>-</td>\n",
              "      <td>3.147116</td>\n",
              "      <td>0</td>\n",
              "      <td>0</td>\n",
              "      <td>S0</td>\n",
              "      <td>-</td>\n",
              "      <td>-</td>\n",
              "      <td>0</td>\n",
              "      <td>S</td>\n",
              "      <td>3</td>\n",
              "      <td>180</td>\n",
              "      <td>0</td>\n",
              "      <td>0</td>\n",
              "      <td>-</td>\n",
              "      <td>Benign</td>\n",
              "      <td>-</td>\n",
              "    </tr>\n",
              "  </tbody>\n",
              "</table>\n",
              "</div>"
            ],
            "text/plain": [
              "             ts                 uid  ...   label  detailed-label\n",
              "0  1.545404e+09   CrDn63WjJEmrWGjqf  ...  Benign               -\n",
              "1  1.545404e+09  CY9lJW3gh1Eje4usP6  ...  Benign               -\n",
              "2  1.545404e+09   CcFXLynukEDnUlvgl  ...  Benign               -\n",
              "3  1.545404e+09   CDrkrSobGYxHhYfth  ...  Benign               -\n",
              "4  1.545404e+09  CTWZQf2oJSvq6zmPAc  ...  Benign               -\n",
              "\n",
              "[5 rows x 23 columns]"
            ]
          },
          "metadata": {
            "tags": []
          },
          "execution_count": 66
        }
      ]
    },
    {
      "cell_type": "code",
      "metadata": {
        "colab": {
          "base_uri": "https://localhost:8080/"
        },
        "id": "n6Jil7I33i6D",
        "outputId": "1423d895-947a-4619-981c-c963136281a7"
      },
      "source": [
        "df.shape"
      ],
      "execution_count": 4,
      "outputs": [
        {
          "output_type": "execute_result",
          "data": {
            "text/plain": [
              "(23145, 23)"
            ]
          },
          "metadata": {
            "tags": []
          },
          "execution_count": 4
        }
      ]
    },
    {
      "cell_type": "code",
      "metadata": {
        "colab": {
          "base_uri": "https://localhost:8080/"
        },
        "id": "dVOm0J6955eN",
        "outputId": "048c2e51-4a6a-4bc5-ea9a-5e6e2c17b252"
      },
      "source": [
        "df.tunnel_parents.unique()"
      ],
      "execution_count": 5,
      "outputs": [
        {
          "output_type": "execute_result",
          "data": {
            "text/plain": [
              "array(['-'], dtype=object)"
            ]
          },
          "metadata": {
            "tags": []
          },
          "execution_count": 5
        }
      ]
    },
    {
      "cell_type": "code",
      "metadata": {
        "colab": {
          "base_uri": "https://localhost:8080/"
        },
        "id": "bFmBOSik3pb8",
        "outputId": "b80423d6-aabe-49ed-9b79-671eb9e8cfe4"
      },
      "source": [
        "df.columns"
      ],
      "execution_count": 6,
      "outputs": [
        {
          "output_type": "execute_result",
          "data": {
            "text/plain": [
              "Index(['ts', 'uid', 'id.orig_h', 'id.orig_p', 'id.resp_h', 'id.resp_p',\n",
              "       'proto', 'service', 'duration', 'orig_bytes', 'resp_bytes',\n",
              "       'conn_state', 'local_orig', 'local_resp', 'missed_bytes', 'history',\n",
              "       'orig_pkts', 'orig_ip_bytes', 'resp_pkts', 'resp_ip_bytes',\n",
              "       'tunnel_parents', 'label', 'detailed-label'],\n",
              "      dtype='object')"
            ]
          },
          "metadata": {
            "tags": []
          },
          "execution_count": 6
        }
      ]
    },
    {
      "cell_type": "code",
      "metadata": {
        "colab": {
          "base_uri": "https://localhost:8080/"
        },
        "id": "zU0HCCAa79i1",
        "outputId": "a43c225b-8d73-4bf1-a8b1-ec3d2317f00c"
      },
      "source": [
        "df.label.unique()"
      ],
      "execution_count": 7,
      "outputs": [
        {
          "output_type": "execute_result",
          "data": {
            "text/plain": [
              "array(['Benign', 'Malicious'], dtype=object)"
            ]
          },
          "metadata": {
            "tags": []
          },
          "execution_count": 7
        }
      ]
    },
    {
      "cell_type": "code",
      "metadata": {
        "colab": {
          "base_uri": "https://localhost:8080/"
        },
        "id": "RTi2D8cJ8FAX",
        "outputId": "79ebf716-a598-4ba7-bc5f-0afd697036bf"
      },
      "source": [
        "df['detailed-label'].unique()"
      ],
      "execution_count": 67,
      "outputs": [
        {
          "output_type": "execute_result",
          "data": {
            "text/plain": [
              "array(['-', 'C&C', 'PartOfAHorizontalPortScan', 'DDoS'], dtype=object)"
            ]
          },
          "metadata": {
            "tags": []
          },
          "execution_count": 67
        }
      ]
    },
    {
      "cell_type": "code",
      "metadata": {
        "colab": {
          "base_uri": "https://localhost:8080/",
          "height": 241
        },
        "id": "0TNim-E59BZE",
        "outputId": "e6cddc92-c006-4fa0-ca22-f2434d7dc788"
      },
      "source": [
        "df = pd.read_csv('/content/drive/MyDrive/iot imbalanced data 1-1', sep='\\t')\r\n",
        "\r\n",
        "df.head(5)"
      ],
      "execution_count": 68,
      "outputs": [
        {
          "output_type": "execute_result",
          "data": {
            "text/html": [
              "<div>\n",
              "<style scoped>\n",
              "    .dataframe tbody tr th:only-of-type {\n",
              "        vertical-align: middle;\n",
              "    }\n",
              "\n",
              "    .dataframe tbody tr th {\n",
              "        vertical-align: top;\n",
              "    }\n",
              "\n",
              "    .dataframe thead th {\n",
              "        text-align: right;\n",
              "    }\n",
              "</style>\n",
              "<table border=\"1\" class=\"dataframe\">\n",
              "  <thead>\n",
              "    <tr style=\"text-align: right;\">\n",
              "      <th></th>\n",
              "      <th>ts</th>\n",
              "      <th>uid</th>\n",
              "      <th>id.orig_h</th>\n",
              "      <th>id.orig_p</th>\n",
              "      <th>id.resp_h</th>\n",
              "      <th>id.resp_p</th>\n",
              "      <th>proto</th>\n",
              "      <th>service</th>\n",
              "      <th>duration</th>\n",
              "      <th>orig_bytes</th>\n",
              "      <th>resp_bytes</th>\n",
              "      <th>conn_state</th>\n",
              "      <th>local_orig</th>\n",
              "      <th>local_resp</th>\n",
              "      <th>missed_bytes</th>\n",
              "      <th>history</th>\n",
              "      <th>orig_pkts</th>\n",
              "      <th>orig_ip_bytes</th>\n",
              "      <th>resp_pkts</th>\n",
              "      <th>resp_ip_bytes</th>\n",
              "      <th>tunnel_parents</th>\n",
              "      <th>label</th>\n",
              "      <th>detailed-label</th>\n",
              "    </tr>\n",
              "  </thead>\n",
              "  <tbody>\n",
              "    <tr>\n",
              "      <th>0</th>\n",
              "      <td>1.545404e+09</td>\n",
              "      <td>CrDn63WjJEmrWGjqf</td>\n",
              "      <td>192.168.1.195</td>\n",
              "      <td>41040</td>\n",
              "      <td>185.244.25.235</td>\n",
              "      <td>80</td>\n",
              "      <td>tcp</td>\n",
              "      <td>-</td>\n",
              "      <td>3.139211</td>\n",
              "      <td>0</td>\n",
              "      <td>0</td>\n",
              "      <td>S0</td>\n",
              "      <td>-</td>\n",
              "      <td>-</td>\n",
              "      <td>0</td>\n",
              "      <td>S</td>\n",
              "      <td>3</td>\n",
              "      <td>180</td>\n",
              "      <td>0</td>\n",
              "      <td>0</td>\n",
              "      <td>-</td>\n",
              "      <td>Benign</td>\n",
              "      <td>-</td>\n",
              "    </tr>\n",
              "    <tr>\n",
              "      <th>1</th>\n",
              "      <td>1.545404e+09</td>\n",
              "      <td>CY9lJW3gh1Eje4usP6</td>\n",
              "      <td>192.168.1.195</td>\n",
              "      <td>41040</td>\n",
              "      <td>185.244.25.235</td>\n",
              "      <td>80</td>\n",
              "      <td>tcp</td>\n",
              "      <td>-</td>\n",
              "      <td>-</td>\n",
              "      <td>-</td>\n",
              "      <td>-</td>\n",
              "      <td>S0</td>\n",
              "      <td>-</td>\n",
              "      <td>-</td>\n",
              "      <td>0</td>\n",
              "      <td>S</td>\n",
              "      <td>1</td>\n",
              "      <td>60</td>\n",
              "      <td>0</td>\n",
              "      <td>0</td>\n",
              "      <td>-</td>\n",
              "      <td>Benign</td>\n",
              "      <td>-</td>\n",
              "    </tr>\n",
              "    <tr>\n",
              "      <th>2</th>\n",
              "      <td>1.545404e+09</td>\n",
              "      <td>CcFXLynukEDnUlvgl</td>\n",
              "      <td>192.168.1.195</td>\n",
              "      <td>41040</td>\n",
              "      <td>185.244.25.235</td>\n",
              "      <td>80</td>\n",
              "      <td>tcp</td>\n",
              "      <td>-</td>\n",
              "      <td>-</td>\n",
              "      <td>-</td>\n",
              "      <td>-</td>\n",
              "      <td>S0</td>\n",
              "      <td>-</td>\n",
              "      <td>-</td>\n",
              "      <td>0</td>\n",
              "      <td>S</td>\n",
              "      <td>1</td>\n",
              "      <td>60</td>\n",
              "      <td>0</td>\n",
              "      <td>0</td>\n",
              "      <td>-</td>\n",
              "      <td>Benign</td>\n",
              "      <td>-</td>\n",
              "    </tr>\n",
              "    <tr>\n",
              "      <th>3</th>\n",
              "      <td>1.545404e+09</td>\n",
              "      <td>CDrkrSobGYxHhYfth</td>\n",
              "      <td>192.168.1.195</td>\n",
              "      <td>41040</td>\n",
              "      <td>185.244.25.235</td>\n",
              "      <td>80</td>\n",
              "      <td>tcp</td>\n",
              "      <td>http</td>\n",
              "      <td>1.477656</td>\n",
              "      <td>149</td>\n",
              "      <td>128252</td>\n",
              "      <td>SF</td>\n",
              "      <td>-</td>\n",
              "      <td>-</td>\n",
              "      <td>2896</td>\n",
              "      <td>ShADadttcfF</td>\n",
              "      <td>94</td>\n",
              "      <td>5525</td>\n",
              "      <td>96</td>\n",
              "      <td>139044</td>\n",
              "      <td>-</td>\n",
              "      <td>Benign</td>\n",
              "      <td>-</td>\n",
              "    </tr>\n",
              "    <tr>\n",
              "      <th>4</th>\n",
              "      <td>1.545404e+09</td>\n",
              "      <td>CTWZQf2oJSvq6zmPAc</td>\n",
              "      <td>192.168.1.195</td>\n",
              "      <td>41042</td>\n",
              "      <td>185.244.25.235</td>\n",
              "      <td>80</td>\n",
              "      <td>tcp</td>\n",
              "      <td>-</td>\n",
              "      <td>3.147116</td>\n",
              "      <td>0</td>\n",
              "      <td>0</td>\n",
              "      <td>S0</td>\n",
              "      <td>-</td>\n",
              "      <td>-</td>\n",
              "      <td>0</td>\n",
              "      <td>S</td>\n",
              "      <td>3</td>\n",
              "      <td>180</td>\n",
              "      <td>0</td>\n",
              "      <td>0</td>\n",
              "      <td>-</td>\n",
              "      <td>Benign</td>\n",
              "      <td>-</td>\n",
              "    </tr>\n",
              "  </tbody>\n",
              "</table>\n",
              "</div>"
            ],
            "text/plain": [
              "             ts                 uid  ...   label  detailed-label\n",
              "0  1.545404e+09   CrDn63WjJEmrWGjqf  ...  Benign               -\n",
              "1  1.545404e+09  CY9lJW3gh1Eje4usP6  ...  Benign               -\n",
              "2  1.545404e+09   CcFXLynukEDnUlvgl  ...  Benign               -\n",
              "3  1.545404e+09   CDrkrSobGYxHhYfth  ...  Benign               -\n",
              "4  1.545404e+09  CTWZQf2oJSvq6zmPAc  ...  Benign               -\n",
              "\n",
              "[5 rows x 23 columns]"
            ]
          },
          "metadata": {
            "tags": []
          },
          "execution_count": 68
        }
      ]
    },
    {
      "cell_type": "code",
      "metadata": {
        "colab": {
          "base_uri": "https://localhost:8080/"
        },
        "id": "BHMw1OxZFb7q",
        "outputId": "05db4aba-1518-485c-fd9d-06083365b3e2"
      },
      "source": [
        "df['detailed-label'].unique()"
      ],
      "execution_count": 69,
      "outputs": [
        {
          "output_type": "execute_result",
          "data": {
            "text/plain": [
              "array(['-', 'C&C', 'PartOfAHorizontalPortScan', 'DDoS'], dtype=object)"
            ]
          },
          "metadata": {
            "tags": []
          },
          "execution_count": 69
        }
      ]
    },
    {
      "cell_type": "code",
      "metadata": {
        "colab": {
          "base_uri": "https://localhost:8080/"
        },
        "id": "2ffONosJFOuC",
        "outputId": "5c8d554e-e6d6-448d-ef13-d945304f2e3e"
      },
      "source": [
        "df.label.unique()"
      ],
      "execution_count": 71,
      "outputs": [
        {
          "output_type": "execute_result",
          "data": {
            "text/plain": [
              "array(['Benign', 'Malicious'], dtype=object)"
            ]
          },
          "metadata": {
            "tags": []
          },
          "execution_count": 71
        }
      ]
    },
    {
      "cell_type": "code",
      "metadata": {
        "colab": {
          "base_uri": "https://localhost:8080/"
        },
        "id": "jVIhIF0PALiC",
        "outputId": "01e04e37-1ac0-4644-c3e8-6823703757ca"
      },
      "source": [
        "df.info()"
      ],
      "execution_count": 72,
      "outputs": [
        {
          "output_type": "stream",
          "text": [
            "<class 'pandas.core.frame.DataFrame'>\n",
            "RangeIndex: 23145 entries, 0 to 23144\n",
            "Data columns (total 23 columns):\n",
            " #   Column          Non-Null Count  Dtype  \n",
            "---  ------          --------------  -----  \n",
            " 0   ts              23145 non-null  float64\n",
            " 1   uid             23145 non-null  object \n",
            " 2   id.orig_h       23145 non-null  object \n",
            " 3   id.orig_p       23145 non-null  int64  \n",
            " 4   id.resp_h       23145 non-null  object \n",
            " 5   id.resp_p       23145 non-null  int64  \n",
            " 6   proto           23145 non-null  object \n",
            " 7   service         23145 non-null  object \n",
            " 8   duration        23145 non-null  object \n",
            " 9   orig_bytes      23145 non-null  object \n",
            " 10  resp_bytes      23145 non-null  object \n",
            " 11  conn_state      23145 non-null  object \n",
            " 12  local_orig      23145 non-null  object \n",
            " 13  local_resp      23145 non-null  object \n",
            " 14  missed_bytes    23145 non-null  int64  \n",
            " 15  history         23145 non-null  object \n",
            " 16  orig_pkts       23145 non-null  int64  \n",
            " 17  orig_ip_bytes   23145 non-null  int64  \n",
            " 18  resp_pkts       23145 non-null  int64  \n",
            " 19  resp_ip_bytes   23145 non-null  int64  \n",
            " 20  tunnel_parents  23145 non-null  object \n",
            " 21  label           23145 non-null  object \n",
            " 22  detailed-label  23145 non-null  object \n",
            "dtypes: float64(1), int64(7), object(15)\n",
            "memory usage: 4.1+ MB\n"
          ],
          "name": "stdout"
        }
      ]
    },
    {
      "cell_type": "code",
      "metadata": {
        "id": "2IM4I_8JBh4z"
      },
      "source": [
        "from sklearn.impute import SimpleImputer \r\n",
        "imputer=SimpleImputer(missing_values='-',strategy='most_frequent')\r\n",
        "imputer=imputer.fit(df.iloc[:,[-1]])\r\n",
        "df.iloc[:,[-1]]=imputer.transform(df.iloc[:,[-1]])"
      ],
      "execution_count": 73,
      "outputs": []
    },
    {
      "cell_type": "code",
      "metadata": {
        "colab": {
          "base_uri": "https://localhost:8080/",
          "height": 456
        },
        "id": "C10P7C-RDDoN",
        "outputId": "e39b5629-93e7-4e50-cbd3-66320cb947ad"
      },
      "source": [
        "df.loc[:,:]"
      ],
      "execution_count": 74,
      "outputs": [
        {
          "output_type": "execute_result",
          "data": {
            "text/html": [
              "<div>\n",
              "<style scoped>\n",
              "    .dataframe tbody tr th:only-of-type {\n",
              "        vertical-align: middle;\n",
              "    }\n",
              "\n",
              "    .dataframe tbody tr th {\n",
              "        vertical-align: top;\n",
              "    }\n",
              "\n",
              "    .dataframe thead th {\n",
              "        text-align: right;\n",
              "    }\n",
              "</style>\n",
              "<table border=\"1\" class=\"dataframe\">\n",
              "  <thead>\n",
              "    <tr style=\"text-align: right;\">\n",
              "      <th></th>\n",
              "      <th>ts</th>\n",
              "      <th>uid</th>\n",
              "      <th>id.orig_h</th>\n",
              "      <th>id.orig_p</th>\n",
              "      <th>id.resp_h</th>\n",
              "      <th>id.resp_p</th>\n",
              "      <th>proto</th>\n",
              "      <th>service</th>\n",
              "      <th>duration</th>\n",
              "      <th>orig_bytes</th>\n",
              "      <th>resp_bytes</th>\n",
              "      <th>conn_state</th>\n",
              "      <th>local_orig</th>\n",
              "      <th>local_resp</th>\n",
              "      <th>missed_bytes</th>\n",
              "      <th>history</th>\n",
              "      <th>orig_pkts</th>\n",
              "      <th>orig_ip_bytes</th>\n",
              "      <th>resp_pkts</th>\n",
              "      <th>resp_ip_bytes</th>\n",
              "      <th>tunnel_parents</th>\n",
              "      <th>label</th>\n",
              "      <th>detailed-label</th>\n",
              "    </tr>\n",
              "  </thead>\n",
              "  <tbody>\n",
              "    <tr>\n",
              "      <th>0</th>\n",
              "      <td>1.545404e+09</td>\n",
              "      <td>CrDn63WjJEmrWGjqf</td>\n",
              "      <td>192.168.1.195</td>\n",
              "      <td>41040</td>\n",
              "      <td>185.244.25.235</td>\n",
              "      <td>80</td>\n",
              "      <td>tcp</td>\n",
              "      <td>-</td>\n",
              "      <td>3.139211</td>\n",
              "      <td>0</td>\n",
              "      <td>0</td>\n",
              "      <td>S0</td>\n",
              "      <td>-</td>\n",
              "      <td>-</td>\n",
              "      <td>0</td>\n",
              "      <td>S</td>\n",
              "      <td>3</td>\n",
              "      <td>180</td>\n",
              "      <td>0</td>\n",
              "      <td>0</td>\n",
              "      <td>-</td>\n",
              "      <td>Benign</td>\n",
              "      <td>DDoS</td>\n",
              "    </tr>\n",
              "    <tr>\n",
              "      <th>1</th>\n",
              "      <td>1.545404e+09</td>\n",
              "      <td>CY9lJW3gh1Eje4usP6</td>\n",
              "      <td>192.168.1.195</td>\n",
              "      <td>41040</td>\n",
              "      <td>185.244.25.235</td>\n",
              "      <td>80</td>\n",
              "      <td>tcp</td>\n",
              "      <td>-</td>\n",
              "      <td>-</td>\n",
              "      <td>-</td>\n",
              "      <td>-</td>\n",
              "      <td>S0</td>\n",
              "      <td>-</td>\n",
              "      <td>-</td>\n",
              "      <td>0</td>\n",
              "      <td>S</td>\n",
              "      <td>1</td>\n",
              "      <td>60</td>\n",
              "      <td>0</td>\n",
              "      <td>0</td>\n",
              "      <td>-</td>\n",
              "      <td>Benign</td>\n",
              "      <td>DDoS</td>\n",
              "    </tr>\n",
              "    <tr>\n",
              "      <th>2</th>\n",
              "      <td>1.545404e+09</td>\n",
              "      <td>CcFXLynukEDnUlvgl</td>\n",
              "      <td>192.168.1.195</td>\n",
              "      <td>41040</td>\n",
              "      <td>185.244.25.235</td>\n",
              "      <td>80</td>\n",
              "      <td>tcp</td>\n",
              "      <td>-</td>\n",
              "      <td>-</td>\n",
              "      <td>-</td>\n",
              "      <td>-</td>\n",
              "      <td>S0</td>\n",
              "      <td>-</td>\n",
              "      <td>-</td>\n",
              "      <td>0</td>\n",
              "      <td>S</td>\n",
              "      <td>1</td>\n",
              "      <td>60</td>\n",
              "      <td>0</td>\n",
              "      <td>0</td>\n",
              "      <td>-</td>\n",
              "      <td>Benign</td>\n",
              "      <td>DDoS</td>\n",
              "    </tr>\n",
              "    <tr>\n",
              "      <th>3</th>\n",
              "      <td>1.545404e+09</td>\n",
              "      <td>CDrkrSobGYxHhYfth</td>\n",
              "      <td>192.168.1.195</td>\n",
              "      <td>41040</td>\n",
              "      <td>185.244.25.235</td>\n",
              "      <td>80</td>\n",
              "      <td>tcp</td>\n",
              "      <td>http</td>\n",
              "      <td>1.477656</td>\n",
              "      <td>149</td>\n",
              "      <td>128252</td>\n",
              "      <td>SF</td>\n",
              "      <td>-</td>\n",
              "      <td>-</td>\n",
              "      <td>2896</td>\n",
              "      <td>ShADadttcfF</td>\n",
              "      <td>94</td>\n",
              "      <td>5525</td>\n",
              "      <td>96</td>\n",
              "      <td>139044</td>\n",
              "      <td>-</td>\n",
              "      <td>Benign</td>\n",
              "      <td>DDoS</td>\n",
              "    </tr>\n",
              "    <tr>\n",
              "      <th>4</th>\n",
              "      <td>1.545404e+09</td>\n",
              "      <td>CTWZQf2oJSvq6zmPAc</td>\n",
              "      <td>192.168.1.195</td>\n",
              "      <td>41042</td>\n",
              "      <td>185.244.25.235</td>\n",
              "      <td>80</td>\n",
              "      <td>tcp</td>\n",
              "      <td>-</td>\n",
              "      <td>3.147116</td>\n",
              "      <td>0</td>\n",
              "      <td>0</td>\n",
              "      <td>S0</td>\n",
              "      <td>-</td>\n",
              "      <td>-</td>\n",
              "      <td>0</td>\n",
              "      <td>S</td>\n",
              "      <td>3</td>\n",
              "      <td>180</td>\n",
              "      <td>0</td>\n",
              "      <td>0</td>\n",
              "      <td>-</td>\n",
              "      <td>Benign</td>\n",
              "      <td>DDoS</td>\n",
              "    </tr>\n",
              "    <tr>\n",
              "      <th>...</th>\n",
              "      <td>...</td>\n",
              "      <td>...</td>\n",
              "      <td>...</td>\n",
              "      <td>...</td>\n",
              "      <td>...</td>\n",
              "      <td>...</td>\n",
              "      <td>...</td>\n",
              "      <td>...</td>\n",
              "      <td>...</td>\n",
              "      <td>...</td>\n",
              "      <td>...</td>\n",
              "      <td>...</td>\n",
              "      <td>...</td>\n",
              "      <td>...</td>\n",
              "      <td>...</td>\n",
              "      <td>...</td>\n",
              "      <td>...</td>\n",
              "      <td>...</td>\n",
              "      <td>...</td>\n",
              "      <td>...</td>\n",
              "      <td>...</td>\n",
              "      <td>...</td>\n",
              "      <td>...</td>\n",
              "    </tr>\n",
              "    <tr>\n",
              "      <th>23140</th>\n",
              "      <td>1.545490e+09</td>\n",
              "      <td>C2F17zSUnGOcWzBa7</td>\n",
              "      <td>192.168.1.195</td>\n",
              "      <td>57110</td>\n",
              "      <td>185.244.25.235</td>\n",
              "      <td>6667</td>\n",
              "      <td>tcp</td>\n",
              "      <td>irc</td>\n",
              "      <td>32.840994</td>\n",
              "      <td>62</td>\n",
              "      <td>269</td>\n",
              "      <td>S3</td>\n",
              "      <td>-</td>\n",
              "      <td>-</td>\n",
              "      <td>0</td>\n",
              "      <td>ShAdDaf</td>\n",
              "      <td>7</td>\n",
              "      <td>434</td>\n",
              "      <td>6</td>\n",
              "      <td>589</td>\n",
              "      <td>-</td>\n",
              "      <td>Malicious</td>\n",
              "      <td>C&amp;C</td>\n",
              "    </tr>\n",
              "    <tr>\n",
              "      <th>23141</th>\n",
              "      <td>1.545490e+09</td>\n",
              "      <td>C93P4z4k5IRJD1rXJg</td>\n",
              "      <td>192.168.1.195</td>\n",
              "      <td>57092</td>\n",
              "      <td>185.244.25.235</td>\n",
              "      <td>6667</td>\n",
              "      <td>tcp</td>\n",
              "      <td>irc</td>\n",
              "      <td>36.290833</td>\n",
              "      <td>62</td>\n",
              "      <td>260</td>\n",
              "      <td>S3</td>\n",
              "      <td>-</td>\n",
              "      <td>-</td>\n",
              "      <td>0</td>\n",
              "      <td>ShAdDaf</td>\n",
              "      <td>10</td>\n",
              "      <td>606</td>\n",
              "      <td>7</td>\n",
              "      <td>632</td>\n",
              "      <td>-</td>\n",
              "      <td>Malicious</td>\n",
              "      <td>C&amp;C</td>\n",
              "    </tr>\n",
              "    <tr>\n",
              "      <th>23142</th>\n",
              "      <td>1.545490e+09</td>\n",
              "      <td>CXLZ3A2QY5E8weqpDk</td>\n",
              "      <td>192.168.1.195</td>\n",
              "      <td>123</td>\n",
              "      <td>147.251.48.140</td>\n",
              "      <td>123</td>\n",
              "      <td>udp</td>\n",
              "      <td>-</td>\n",
              "      <td>-</td>\n",
              "      <td>-</td>\n",
              "      <td>-</td>\n",
              "      <td>S0</td>\n",
              "      <td>-</td>\n",
              "      <td>-</td>\n",
              "      <td>0</td>\n",
              "      <td>D</td>\n",
              "      <td>1</td>\n",
              "      <td>76</td>\n",
              "      <td>0</td>\n",
              "      <td>0</td>\n",
              "      <td>-</td>\n",
              "      <td>Benign</td>\n",
              "      <td>DDoS</td>\n",
              "    </tr>\n",
              "    <tr>\n",
              "      <th>23143</th>\n",
              "      <td>1.545490e+09</td>\n",
              "      <td>CuXpFN3fWesWBXUhq1</td>\n",
              "      <td>192.168.1.195</td>\n",
              "      <td>123</td>\n",
              "      <td>82.113.53.40</td>\n",
              "      <td>123</td>\n",
              "      <td>udp</td>\n",
              "      <td>-</td>\n",
              "      <td>-</td>\n",
              "      <td>-</td>\n",
              "      <td>-</td>\n",
              "      <td>S0</td>\n",
              "      <td>-</td>\n",
              "      <td>-</td>\n",
              "      <td>0</td>\n",
              "      <td>D</td>\n",
              "      <td>1</td>\n",
              "      <td>76</td>\n",
              "      <td>0</td>\n",
              "      <td>0</td>\n",
              "      <td>-</td>\n",
              "      <td>Benign</td>\n",
              "      <td>DDoS</td>\n",
              "    </tr>\n",
              "    <tr>\n",
              "      <th>23144</th>\n",
              "      <td>1.545490e+09</td>\n",
              "      <td>Ct2Yhy4d33oL3yyZY9</td>\n",
              "      <td>192.168.1.195</td>\n",
              "      <td>123</td>\n",
              "      <td>89.221.210.188</td>\n",
              "      <td>123</td>\n",
              "      <td>udp</td>\n",
              "      <td>-</td>\n",
              "      <td>-</td>\n",
              "      <td>-</td>\n",
              "      <td>-</td>\n",
              "      <td>S0</td>\n",
              "      <td>-</td>\n",
              "      <td>-</td>\n",
              "      <td>0</td>\n",
              "      <td>D</td>\n",
              "      <td>1</td>\n",
              "      <td>76</td>\n",
              "      <td>0</td>\n",
              "      <td>0</td>\n",
              "      <td>-</td>\n",
              "      <td>Benign</td>\n",
              "      <td>DDoS</td>\n",
              "    </tr>\n",
              "  </tbody>\n",
              "</table>\n",
              "<p>23145 rows × 23 columns</p>\n",
              "</div>"
            ],
            "text/plain": [
              "                 ts                 uid  ...      label  detailed-label\n",
              "0      1.545404e+09   CrDn63WjJEmrWGjqf  ...     Benign            DDoS\n",
              "1      1.545404e+09  CY9lJW3gh1Eje4usP6  ...     Benign            DDoS\n",
              "2      1.545404e+09   CcFXLynukEDnUlvgl  ...     Benign            DDoS\n",
              "3      1.545404e+09   CDrkrSobGYxHhYfth  ...     Benign            DDoS\n",
              "4      1.545404e+09  CTWZQf2oJSvq6zmPAc  ...     Benign            DDoS\n",
              "...             ...                 ...  ...        ...             ...\n",
              "23140  1.545490e+09   C2F17zSUnGOcWzBa7  ...  Malicious             C&C\n",
              "23141  1.545490e+09  C93P4z4k5IRJD1rXJg  ...  Malicious             C&C\n",
              "23142  1.545490e+09  CXLZ3A2QY5E8weqpDk  ...     Benign            DDoS\n",
              "23143  1.545490e+09  CuXpFN3fWesWBXUhq1  ...     Benign            DDoS\n",
              "23144  1.545490e+09  Ct2Yhy4d33oL3yyZY9  ...     Benign            DDoS\n",
              "\n",
              "[23145 rows x 23 columns]"
            ]
          },
          "metadata": {
            "tags": []
          },
          "execution_count": 74
        }
      ]
    },
    {
      "cell_type": "code",
      "metadata": {
        "colab": {
          "base_uri": "https://localhost:8080/"
        },
        "id": "O5EMfmq2Kdii",
        "outputId": "af83dc6c-6c8f-49e5-d78e-46b7188fdf9b"
      },
      "source": [
        "df['tunnel_parents'].unique()"
      ],
      "execution_count": 75,
      "outputs": [
        {
          "output_type": "execute_result",
          "data": {
            "text/plain": [
              "array(['-'], dtype=object)"
            ]
          },
          "metadata": {
            "tags": []
          },
          "execution_count": 75
        }
      ]
    },
    {
      "cell_type": "code",
      "metadata": {
        "id": "VoCsDxEkKmPS"
      },
      "source": [
        "df.drop('tunnel_parents', axis=1, inplace=True)"
      ],
      "execution_count": 76,
      "outputs": []
    },
    {
      "cell_type": "code",
      "metadata": {
        "colab": {
          "base_uri": "https://localhost:8080/",
          "height": 241
        },
        "id": "e_a_tyoULvVQ",
        "outputId": "5b69fbac-6e1f-4dd1-ef93-2aab48b22b69"
      },
      "source": [
        "df.head(5)"
      ],
      "execution_count": 77,
      "outputs": [
        {
          "output_type": "execute_result",
          "data": {
            "text/html": [
              "<div>\n",
              "<style scoped>\n",
              "    .dataframe tbody tr th:only-of-type {\n",
              "        vertical-align: middle;\n",
              "    }\n",
              "\n",
              "    .dataframe tbody tr th {\n",
              "        vertical-align: top;\n",
              "    }\n",
              "\n",
              "    .dataframe thead th {\n",
              "        text-align: right;\n",
              "    }\n",
              "</style>\n",
              "<table border=\"1\" class=\"dataframe\">\n",
              "  <thead>\n",
              "    <tr style=\"text-align: right;\">\n",
              "      <th></th>\n",
              "      <th>ts</th>\n",
              "      <th>uid</th>\n",
              "      <th>id.orig_h</th>\n",
              "      <th>id.orig_p</th>\n",
              "      <th>id.resp_h</th>\n",
              "      <th>id.resp_p</th>\n",
              "      <th>proto</th>\n",
              "      <th>service</th>\n",
              "      <th>duration</th>\n",
              "      <th>orig_bytes</th>\n",
              "      <th>resp_bytes</th>\n",
              "      <th>conn_state</th>\n",
              "      <th>local_orig</th>\n",
              "      <th>local_resp</th>\n",
              "      <th>missed_bytes</th>\n",
              "      <th>history</th>\n",
              "      <th>orig_pkts</th>\n",
              "      <th>orig_ip_bytes</th>\n",
              "      <th>resp_pkts</th>\n",
              "      <th>resp_ip_bytes</th>\n",
              "      <th>label</th>\n",
              "      <th>detailed-label</th>\n",
              "    </tr>\n",
              "  </thead>\n",
              "  <tbody>\n",
              "    <tr>\n",
              "      <th>0</th>\n",
              "      <td>1.545404e+09</td>\n",
              "      <td>CrDn63WjJEmrWGjqf</td>\n",
              "      <td>192.168.1.195</td>\n",
              "      <td>41040</td>\n",
              "      <td>185.244.25.235</td>\n",
              "      <td>80</td>\n",
              "      <td>tcp</td>\n",
              "      <td>-</td>\n",
              "      <td>3.139211</td>\n",
              "      <td>0</td>\n",
              "      <td>0</td>\n",
              "      <td>S0</td>\n",
              "      <td>-</td>\n",
              "      <td>-</td>\n",
              "      <td>0</td>\n",
              "      <td>S</td>\n",
              "      <td>3</td>\n",
              "      <td>180</td>\n",
              "      <td>0</td>\n",
              "      <td>0</td>\n",
              "      <td>Benign</td>\n",
              "      <td>DDoS</td>\n",
              "    </tr>\n",
              "    <tr>\n",
              "      <th>1</th>\n",
              "      <td>1.545404e+09</td>\n",
              "      <td>CY9lJW3gh1Eje4usP6</td>\n",
              "      <td>192.168.1.195</td>\n",
              "      <td>41040</td>\n",
              "      <td>185.244.25.235</td>\n",
              "      <td>80</td>\n",
              "      <td>tcp</td>\n",
              "      <td>-</td>\n",
              "      <td>-</td>\n",
              "      <td>-</td>\n",
              "      <td>-</td>\n",
              "      <td>S0</td>\n",
              "      <td>-</td>\n",
              "      <td>-</td>\n",
              "      <td>0</td>\n",
              "      <td>S</td>\n",
              "      <td>1</td>\n",
              "      <td>60</td>\n",
              "      <td>0</td>\n",
              "      <td>0</td>\n",
              "      <td>Benign</td>\n",
              "      <td>DDoS</td>\n",
              "    </tr>\n",
              "    <tr>\n",
              "      <th>2</th>\n",
              "      <td>1.545404e+09</td>\n",
              "      <td>CcFXLynukEDnUlvgl</td>\n",
              "      <td>192.168.1.195</td>\n",
              "      <td>41040</td>\n",
              "      <td>185.244.25.235</td>\n",
              "      <td>80</td>\n",
              "      <td>tcp</td>\n",
              "      <td>-</td>\n",
              "      <td>-</td>\n",
              "      <td>-</td>\n",
              "      <td>-</td>\n",
              "      <td>S0</td>\n",
              "      <td>-</td>\n",
              "      <td>-</td>\n",
              "      <td>0</td>\n",
              "      <td>S</td>\n",
              "      <td>1</td>\n",
              "      <td>60</td>\n",
              "      <td>0</td>\n",
              "      <td>0</td>\n",
              "      <td>Benign</td>\n",
              "      <td>DDoS</td>\n",
              "    </tr>\n",
              "    <tr>\n",
              "      <th>3</th>\n",
              "      <td>1.545404e+09</td>\n",
              "      <td>CDrkrSobGYxHhYfth</td>\n",
              "      <td>192.168.1.195</td>\n",
              "      <td>41040</td>\n",
              "      <td>185.244.25.235</td>\n",
              "      <td>80</td>\n",
              "      <td>tcp</td>\n",
              "      <td>http</td>\n",
              "      <td>1.477656</td>\n",
              "      <td>149</td>\n",
              "      <td>128252</td>\n",
              "      <td>SF</td>\n",
              "      <td>-</td>\n",
              "      <td>-</td>\n",
              "      <td>2896</td>\n",
              "      <td>ShADadttcfF</td>\n",
              "      <td>94</td>\n",
              "      <td>5525</td>\n",
              "      <td>96</td>\n",
              "      <td>139044</td>\n",
              "      <td>Benign</td>\n",
              "      <td>DDoS</td>\n",
              "    </tr>\n",
              "    <tr>\n",
              "      <th>4</th>\n",
              "      <td>1.545404e+09</td>\n",
              "      <td>CTWZQf2oJSvq6zmPAc</td>\n",
              "      <td>192.168.1.195</td>\n",
              "      <td>41042</td>\n",
              "      <td>185.244.25.235</td>\n",
              "      <td>80</td>\n",
              "      <td>tcp</td>\n",
              "      <td>-</td>\n",
              "      <td>3.147116</td>\n",
              "      <td>0</td>\n",
              "      <td>0</td>\n",
              "      <td>S0</td>\n",
              "      <td>-</td>\n",
              "      <td>-</td>\n",
              "      <td>0</td>\n",
              "      <td>S</td>\n",
              "      <td>3</td>\n",
              "      <td>180</td>\n",
              "      <td>0</td>\n",
              "      <td>0</td>\n",
              "      <td>Benign</td>\n",
              "      <td>DDoS</td>\n",
              "    </tr>\n",
              "  </tbody>\n",
              "</table>\n",
              "</div>"
            ],
            "text/plain": [
              "             ts                 uid  ...   label  detailed-label\n",
              "0  1.545404e+09   CrDn63WjJEmrWGjqf  ...  Benign            DDoS\n",
              "1  1.545404e+09  CY9lJW3gh1Eje4usP6  ...  Benign            DDoS\n",
              "2  1.545404e+09   CcFXLynukEDnUlvgl  ...  Benign            DDoS\n",
              "3  1.545404e+09   CDrkrSobGYxHhYfth  ...  Benign            DDoS\n",
              "4  1.545404e+09  CTWZQf2oJSvq6zmPAc  ...  Benign            DDoS\n",
              "\n",
              "[5 rows x 22 columns]"
            ]
          },
          "metadata": {
            "tags": []
          },
          "execution_count": 77
        }
      ]
    },
    {
      "cell_type": "code",
      "metadata": {
        "colab": {
          "base_uri": "https://localhost:8080/"
        },
        "id": "QriIozO1L6wi",
        "outputId": "ecbf63bc-f8ab-46fd-d8bc-ca8a31dc9249"
      },
      "source": [
        "df['local_resp'].unique()"
      ],
      "execution_count": 78,
      "outputs": [
        {
          "output_type": "execute_result",
          "data": {
            "text/plain": [
              "array(['-'], dtype=object)"
            ]
          },
          "metadata": {
            "tags": []
          },
          "execution_count": 78
        }
      ]
    },
    {
      "cell_type": "code",
      "metadata": {
        "id": "SiMfQBRHM0N8"
      },
      "source": [
        "df.drop('local_resp', axis=1, inplace=True)"
      ],
      "execution_count": 79,
      "outputs": []
    },
    {
      "cell_type": "code",
      "metadata": {
        "colab": {
          "base_uri": "https://localhost:8080/",
          "height": 241
        },
        "id": "4zDoCDdoMYft",
        "outputId": "cc0a1c00-73f5-473a-90e1-7601a3b68e02"
      },
      "source": [
        "df.head(5)"
      ],
      "execution_count": 80,
      "outputs": [
        {
          "output_type": "execute_result",
          "data": {
            "text/html": [
              "<div>\n",
              "<style scoped>\n",
              "    .dataframe tbody tr th:only-of-type {\n",
              "        vertical-align: middle;\n",
              "    }\n",
              "\n",
              "    .dataframe tbody tr th {\n",
              "        vertical-align: top;\n",
              "    }\n",
              "\n",
              "    .dataframe thead th {\n",
              "        text-align: right;\n",
              "    }\n",
              "</style>\n",
              "<table border=\"1\" class=\"dataframe\">\n",
              "  <thead>\n",
              "    <tr style=\"text-align: right;\">\n",
              "      <th></th>\n",
              "      <th>ts</th>\n",
              "      <th>uid</th>\n",
              "      <th>id.orig_h</th>\n",
              "      <th>id.orig_p</th>\n",
              "      <th>id.resp_h</th>\n",
              "      <th>id.resp_p</th>\n",
              "      <th>proto</th>\n",
              "      <th>service</th>\n",
              "      <th>duration</th>\n",
              "      <th>orig_bytes</th>\n",
              "      <th>resp_bytes</th>\n",
              "      <th>conn_state</th>\n",
              "      <th>local_orig</th>\n",
              "      <th>missed_bytes</th>\n",
              "      <th>history</th>\n",
              "      <th>orig_pkts</th>\n",
              "      <th>orig_ip_bytes</th>\n",
              "      <th>resp_pkts</th>\n",
              "      <th>resp_ip_bytes</th>\n",
              "      <th>label</th>\n",
              "      <th>detailed-label</th>\n",
              "    </tr>\n",
              "  </thead>\n",
              "  <tbody>\n",
              "    <tr>\n",
              "      <th>0</th>\n",
              "      <td>1.545404e+09</td>\n",
              "      <td>CrDn63WjJEmrWGjqf</td>\n",
              "      <td>192.168.1.195</td>\n",
              "      <td>41040</td>\n",
              "      <td>185.244.25.235</td>\n",
              "      <td>80</td>\n",
              "      <td>tcp</td>\n",
              "      <td>-</td>\n",
              "      <td>3.139211</td>\n",
              "      <td>0</td>\n",
              "      <td>0</td>\n",
              "      <td>S0</td>\n",
              "      <td>-</td>\n",
              "      <td>0</td>\n",
              "      <td>S</td>\n",
              "      <td>3</td>\n",
              "      <td>180</td>\n",
              "      <td>0</td>\n",
              "      <td>0</td>\n",
              "      <td>Benign</td>\n",
              "      <td>DDoS</td>\n",
              "    </tr>\n",
              "    <tr>\n",
              "      <th>1</th>\n",
              "      <td>1.545404e+09</td>\n",
              "      <td>CY9lJW3gh1Eje4usP6</td>\n",
              "      <td>192.168.1.195</td>\n",
              "      <td>41040</td>\n",
              "      <td>185.244.25.235</td>\n",
              "      <td>80</td>\n",
              "      <td>tcp</td>\n",
              "      <td>-</td>\n",
              "      <td>-</td>\n",
              "      <td>-</td>\n",
              "      <td>-</td>\n",
              "      <td>S0</td>\n",
              "      <td>-</td>\n",
              "      <td>0</td>\n",
              "      <td>S</td>\n",
              "      <td>1</td>\n",
              "      <td>60</td>\n",
              "      <td>0</td>\n",
              "      <td>0</td>\n",
              "      <td>Benign</td>\n",
              "      <td>DDoS</td>\n",
              "    </tr>\n",
              "    <tr>\n",
              "      <th>2</th>\n",
              "      <td>1.545404e+09</td>\n",
              "      <td>CcFXLynukEDnUlvgl</td>\n",
              "      <td>192.168.1.195</td>\n",
              "      <td>41040</td>\n",
              "      <td>185.244.25.235</td>\n",
              "      <td>80</td>\n",
              "      <td>tcp</td>\n",
              "      <td>-</td>\n",
              "      <td>-</td>\n",
              "      <td>-</td>\n",
              "      <td>-</td>\n",
              "      <td>S0</td>\n",
              "      <td>-</td>\n",
              "      <td>0</td>\n",
              "      <td>S</td>\n",
              "      <td>1</td>\n",
              "      <td>60</td>\n",
              "      <td>0</td>\n",
              "      <td>0</td>\n",
              "      <td>Benign</td>\n",
              "      <td>DDoS</td>\n",
              "    </tr>\n",
              "    <tr>\n",
              "      <th>3</th>\n",
              "      <td>1.545404e+09</td>\n",
              "      <td>CDrkrSobGYxHhYfth</td>\n",
              "      <td>192.168.1.195</td>\n",
              "      <td>41040</td>\n",
              "      <td>185.244.25.235</td>\n",
              "      <td>80</td>\n",
              "      <td>tcp</td>\n",
              "      <td>http</td>\n",
              "      <td>1.477656</td>\n",
              "      <td>149</td>\n",
              "      <td>128252</td>\n",
              "      <td>SF</td>\n",
              "      <td>-</td>\n",
              "      <td>2896</td>\n",
              "      <td>ShADadttcfF</td>\n",
              "      <td>94</td>\n",
              "      <td>5525</td>\n",
              "      <td>96</td>\n",
              "      <td>139044</td>\n",
              "      <td>Benign</td>\n",
              "      <td>DDoS</td>\n",
              "    </tr>\n",
              "    <tr>\n",
              "      <th>4</th>\n",
              "      <td>1.545404e+09</td>\n",
              "      <td>CTWZQf2oJSvq6zmPAc</td>\n",
              "      <td>192.168.1.195</td>\n",
              "      <td>41042</td>\n",
              "      <td>185.244.25.235</td>\n",
              "      <td>80</td>\n",
              "      <td>tcp</td>\n",
              "      <td>-</td>\n",
              "      <td>3.147116</td>\n",
              "      <td>0</td>\n",
              "      <td>0</td>\n",
              "      <td>S0</td>\n",
              "      <td>-</td>\n",
              "      <td>0</td>\n",
              "      <td>S</td>\n",
              "      <td>3</td>\n",
              "      <td>180</td>\n",
              "      <td>0</td>\n",
              "      <td>0</td>\n",
              "      <td>Benign</td>\n",
              "      <td>DDoS</td>\n",
              "    </tr>\n",
              "  </tbody>\n",
              "</table>\n",
              "</div>"
            ],
            "text/plain": [
              "             ts                 uid  ...   label  detailed-label\n",
              "0  1.545404e+09   CrDn63WjJEmrWGjqf  ...  Benign            DDoS\n",
              "1  1.545404e+09  CY9lJW3gh1Eje4usP6  ...  Benign            DDoS\n",
              "2  1.545404e+09   CcFXLynukEDnUlvgl  ...  Benign            DDoS\n",
              "3  1.545404e+09   CDrkrSobGYxHhYfth  ...  Benign            DDoS\n",
              "4  1.545404e+09  CTWZQf2oJSvq6zmPAc  ...  Benign            DDoS\n",
              "\n",
              "[5 rows x 21 columns]"
            ]
          },
          "metadata": {
            "tags": []
          },
          "execution_count": 80
        }
      ]
    },
    {
      "cell_type": "code",
      "metadata": {
        "colab": {
          "base_uri": "https://localhost:8080/"
        },
        "id": "ExBYzW_DM6_9",
        "outputId": "3fef0027-e975-4301-e52d-428c9b3802b0"
      },
      "source": [
        "df['local_orig'].unique()"
      ],
      "execution_count": 81,
      "outputs": [
        {
          "output_type": "execute_result",
          "data": {
            "text/plain": [
              "array(['-'], dtype=object)"
            ]
          },
          "metadata": {
            "tags": []
          },
          "execution_count": 81
        }
      ]
    },
    {
      "cell_type": "code",
      "metadata": {
        "id": "9cp8B6C0NR9m"
      },
      "source": [
        "df.drop('local_orig', axis=1, inplace=True)"
      ],
      "execution_count": 82,
      "outputs": []
    },
    {
      "cell_type": "code",
      "metadata": {
        "colab": {
          "base_uri": "https://localhost:8080/",
          "height": 241
        },
        "id": "kSjW7iPlNYj2",
        "outputId": "f42cf96a-c328-455a-adbe-948fba1cc8f5"
      },
      "source": [
        "df.head(5)"
      ],
      "execution_count": 83,
      "outputs": [
        {
          "output_type": "execute_result",
          "data": {
            "text/html": [
              "<div>\n",
              "<style scoped>\n",
              "    .dataframe tbody tr th:only-of-type {\n",
              "        vertical-align: middle;\n",
              "    }\n",
              "\n",
              "    .dataframe tbody tr th {\n",
              "        vertical-align: top;\n",
              "    }\n",
              "\n",
              "    .dataframe thead th {\n",
              "        text-align: right;\n",
              "    }\n",
              "</style>\n",
              "<table border=\"1\" class=\"dataframe\">\n",
              "  <thead>\n",
              "    <tr style=\"text-align: right;\">\n",
              "      <th></th>\n",
              "      <th>ts</th>\n",
              "      <th>uid</th>\n",
              "      <th>id.orig_h</th>\n",
              "      <th>id.orig_p</th>\n",
              "      <th>id.resp_h</th>\n",
              "      <th>id.resp_p</th>\n",
              "      <th>proto</th>\n",
              "      <th>service</th>\n",
              "      <th>duration</th>\n",
              "      <th>orig_bytes</th>\n",
              "      <th>resp_bytes</th>\n",
              "      <th>conn_state</th>\n",
              "      <th>missed_bytes</th>\n",
              "      <th>history</th>\n",
              "      <th>orig_pkts</th>\n",
              "      <th>orig_ip_bytes</th>\n",
              "      <th>resp_pkts</th>\n",
              "      <th>resp_ip_bytes</th>\n",
              "      <th>label</th>\n",
              "      <th>detailed-label</th>\n",
              "    </tr>\n",
              "  </thead>\n",
              "  <tbody>\n",
              "    <tr>\n",
              "      <th>0</th>\n",
              "      <td>1.545404e+09</td>\n",
              "      <td>CrDn63WjJEmrWGjqf</td>\n",
              "      <td>192.168.1.195</td>\n",
              "      <td>41040</td>\n",
              "      <td>185.244.25.235</td>\n",
              "      <td>80</td>\n",
              "      <td>tcp</td>\n",
              "      <td>-</td>\n",
              "      <td>3.139211</td>\n",
              "      <td>0</td>\n",
              "      <td>0</td>\n",
              "      <td>S0</td>\n",
              "      <td>0</td>\n",
              "      <td>S</td>\n",
              "      <td>3</td>\n",
              "      <td>180</td>\n",
              "      <td>0</td>\n",
              "      <td>0</td>\n",
              "      <td>Benign</td>\n",
              "      <td>DDoS</td>\n",
              "    </tr>\n",
              "    <tr>\n",
              "      <th>1</th>\n",
              "      <td>1.545404e+09</td>\n",
              "      <td>CY9lJW3gh1Eje4usP6</td>\n",
              "      <td>192.168.1.195</td>\n",
              "      <td>41040</td>\n",
              "      <td>185.244.25.235</td>\n",
              "      <td>80</td>\n",
              "      <td>tcp</td>\n",
              "      <td>-</td>\n",
              "      <td>-</td>\n",
              "      <td>-</td>\n",
              "      <td>-</td>\n",
              "      <td>S0</td>\n",
              "      <td>0</td>\n",
              "      <td>S</td>\n",
              "      <td>1</td>\n",
              "      <td>60</td>\n",
              "      <td>0</td>\n",
              "      <td>0</td>\n",
              "      <td>Benign</td>\n",
              "      <td>DDoS</td>\n",
              "    </tr>\n",
              "    <tr>\n",
              "      <th>2</th>\n",
              "      <td>1.545404e+09</td>\n",
              "      <td>CcFXLynukEDnUlvgl</td>\n",
              "      <td>192.168.1.195</td>\n",
              "      <td>41040</td>\n",
              "      <td>185.244.25.235</td>\n",
              "      <td>80</td>\n",
              "      <td>tcp</td>\n",
              "      <td>-</td>\n",
              "      <td>-</td>\n",
              "      <td>-</td>\n",
              "      <td>-</td>\n",
              "      <td>S0</td>\n",
              "      <td>0</td>\n",
              "      <td>S</td>\n",
              "      <td>1</td>\n",
              "      <td>60</td>\n",
              "      <td>0</td>\n",
              "      <td>0</td>\n",
              "      <td>Benign</td>\n",
              "      <td>DDoS</td>\n",
              "    </tr>\n",
              "    <tr>\n",
              "      <th>3</th>\n",
              "      <td>1.545404e+09</td>\n",
              "      <td>CDrkrSobGYxHhYfth</td>\n",
              "      <td>192.168.1.195</td>\n",
              "      <td>41040</td>\n",
              "      <td>185.244.25.235</td>\n",
              "      <td>80</td>\n",
              "      <td>tcp</td>\n",
              "      <td>http</td>\n",
              "      <td>1.477656</td>\n",
              "      <td>149</td>\n",
              "      <td>128252</td>\n",
              "      <td>SF</td>\n",
              "      <td>2896</td>\n",
              "      <td>ShADadttcfF</td>\n",
              "      <td>94</td>\n",
              "      <td>5525</td>\n",
              "      <td>96</td>\n",
              "      <td>139044</td>\n",
              "      <td>Benign</td>\n",
              "      <td>DDoS</td>\n",
              "    </tr>\n",
              "    <tr>\n",
              "      <th>4</th>\n",
              "      <td>1.545404e+09</td>\n",
              "      <td>CTWZQf2oJSvq6zmPAc</td>\n",
              "      <td>192.168.1.195</td>\n",
              "      <td>41042</td>\n",
              "      <td>185.244.25.235</td>\n",
              "      <td>80</td>\n",
              "      <td>tcp</td>\n",
              "      <td>-</td>\n",
              "      <td>3.147116</td>\n",
              "      <td>0</td>\n",
              "      <td>0</td>\n",
              "      <td>S0</td>\n",
              "      <td>0</td>\n",
              "      <td>S</td>\n",
              "      <td>3</td>\n",
              "      <td>180</td>\n",
              "      <td>0</td>\n",
              "      <td>0</td>\n",
              "      <td>Benign</td>\n",
              "      <td>DDoS</td>\n",
              "    </tr>\n",
              "  </tbody>\n",
              "</table>\n",
              "</div>"
            ],
            "text/plain": [
              "             ts                 uid  ...   label  detailed-label\n",
              "0  1.545404e+09   CrDn63WjJEmrWGjqf  ...  Benign            DDoS\n",
              "1  1.545404e+09  CY9lJW3gh1Eje4usP6  ...  Benign            DDoS\n",
              "2  1.545404e+09   CcFXLynukEDnUlvgl  ...  Benign            DDoS\n",
              "3  1.545404e+09   CDrkrSobGYxHhYfth  ...  Benign            DDoS\n",
              "4  1.545404e+09  CTWZQf2oJSvq6zmPAc  ...  Benign            DDoS\n",
              "\n",
              "[5 rows x 20 columns]"
            ]
          },
          "metadata": {
            "tags": []
          },
          "execution_count": 83
        }
      ]
    },
    {
      "cell_type": "code",
      "metadata": {
        "colab": {
          "base_uri": "https://localhost:8080/"
        },
        "id": "4_ZAtmBmNijq",
        "outputId": "c72879cd-b81c-4624-f650-da3982f17ecd"
      },
      "source": [
        "df['resp_bytes'].unique()"
      ],
      "execution_count": 84,
      "outputs": [
        {
          "output_type": "execute_result",
          "data": {
            "text/plain": [
              "array(['0', '-', '128252', '128348', '91961', '99303', '48', '164266',\n",
              "       '17192', '124067', '84592', '243', '100178', '83792', '242',\n",
              "       '103381', '110211', '234', '112443', '124', '288', '241', '197',\n",
              "       '103', '206', '94', '39', '384', '192', '240', '300', '144',\n",
              "       '18031', '260', '269', '17210', '151', '195', '4324', '198',\n",
              "       '4016', '133', '10996', '7313'], dtype=object)"
            ]
          },
          "metadata": {
            "tags": []
          },
          "execution_count": 84
        }
      ]
    },
    {
      "cell_type": "code",
      "metadata": {
        "id": "PPPhVQ2cNxgj"
      },
      "source": [
        "from sklearn.impute import SimpleImputer \r\n",
        "imputer=SimpleImputer(missing_values='-',strategy='most_frequent')\r\n",
        "imputer=imputer.fit(df.iloc[:,[-10]])\r\n",
        "df.iloc[:,[-10]]=imputer.transform(df.iloc[:,[-10]])"
      ],
      "execution_count": 85,
      "outputs": []
    },
    {
      "cell_type": "code",
      "metadata": {
        "colab": {
          "base_uri": "https://localhost:8080/"
        },
        "id": "U6qMoT6JObK1",
        "outputId": "384297ab-28ae-4b5e-ebc1-cfa8bbbca3f6"
      },
      "source": [
        "df['resp_bytes'].unique()"
      ],
      "execution_count": 86,
      "outputs": [
        {
          "output_type": "execute_result",
          "data": {
            "text/plain": [
              "array(['0', '128252', '128348', '91961', '99303', '48', '164266', '17192',\n",
              "       '124067', '84592', '243', '100178', '83792', '242', '103381',\n",
              "       '110211', '234', '112443', '124', '288', '241', '197', '103',\n",
              "       '206', '94', '39', '384', '192', '240', '300', '144', '18031',\n",
              "       '260', '269', '17210', '151', '195', '4324', '198', '4016', '133',\n",
              "       '10996', '7313'], dtype=object)"
            ]
          },
          "metadata": {
            "tags": []
          },
          "execution_count": 86
        }
      ]
    },
    {
      "cell_type": "code",
      "metadata": {
        "colab": {
          "base_uri": "https://localhost:8080/",
          "height": 241
        },
        "id": "k5h5S7d3N97R",
        "outputId": "ff4a9c92-b984-4781-fdf7-fefe2e3ecc54"
      },
      "source": [
        "df.head(5)"
      ],
      "execution_count": 87,
      "outputs": [
        {
          "output_type": "execute_result",
          "data": {
            "text/html": [
              "<div>\n",
              "<style scoped>\n",
              "    .dataframe tbody tr th:only-of-type {\n",
              "        vertical-align: middle;\n",
              "    }\n",
              "\n",
              "    .dataframe tbody tr th {\n",
              "        vertical-align: top;\n",
              "    }\n",
              "\n",
              "    .dataframe thead th {\n",
              "        text-align: right;\n",
              "    }\n",
              "</style>\n",
              "<table border=\"1\" class=\"dataframe\">\n",
              "  <thead>\n",
              "    <tr style=\"text-align: right;\">\n",
              "      <th></th>\n",
              "      <th>ts</th>\n",
              "      <th>uid</th>\n",
              "      <th>id.orig_h</th>\n",
              "      <th>id.orig_p</th>\n",
              "      <th>id.resp_h</th>\n",
              "      <th>id.resp_p</th>\n",
              "      <th>proto</th>\n",
              "      <th>service</th>\n",
              "      <th>duration</th>\n",
              "      <th>orig_bytes</th>\n",
              "      <th>resp_bytes</th>\n",
              "      <th>conn_state</th>\n",
              "      <th>missed_bytes</th>\n",
              "      <th>history</th>\n",
              "      <th>orig_pkts</th>\n",
              "      <th>orig_ip_bytes</th>\n",
              "      <th>resp_pkts</th>\n",
              "      <th>resp_ip_bytes</th>\n",
              "      <th>label</th>\n",
              "      <th>detailed-label</th>\n",
              "    </tr>\n",
              "  </thead>\n",
              "  <tbody>\n",
              "    <tr>\n",
              "      <th>0</th>\n",
              "      <td>1.545404e+09</td>\n",
              "      <td>CrDn63WjJEmrWGjqf</td>\n",
              "      <td>192.168.1.195</td>\n",
              "      <td>41040</td>\n",
              "      <td>185.244.25.235</td>\n",
              "      <td>80</td>\n",
              "      <td>tcp</td>\n",
              "      <td>-</td>\n",
              "      <td>3.139211</td>\n",
              "      <td>0</td>\n",
              "      <td>0</td>\n",
              "      <td>S0</td>\n",
              "      <td>0</td>\n",
              "      <td>S</td>\n",
              "      <td>3</td>\n",
              "      <td>180</td>\n",
              "      <td>0</td>\n",
              "      <td>0</td>\n",
              "      <td>Benign</td>\n",
              "      <td>DDoS</td>\n",
              "    </tr>\n",
              "    <tr>\n",
              "      <th>1</th>\n",
              "      <td>1.545404e+09</td>\n",
              "      <td>CY9lJW3gh1Eje4usP6</td>\n",
              "      <td>192.168.1.195</td>\n",
              "      <td>41040</td>\n",
              "      <td>185.244.25.235</td>\n",
              "      <td>80</td>\n",
              "      <td>tcp</td>\n",
              "      <td>-</td>\n",
              "      <td>-</td>\n",
              "      <td>-</td>\n",
              "      <td>0</td>\n",
              "      <td>S0</td>\n",
              "      <td>0</td>\n",
              "      <td>S</td>\n",
              "      <td>1</td>\n",
              "      <td>60</td>\n",
              "      <td>0</td>\n",
              "      <td>0</td>\n",
              "      <td>Benign</td>\n",
              "      <td>DDoS</td>\n",
              "    </tr>\n",
              "    <tr>\n",
              "      <th>2</th>\n",
              "      <td>1.545404e+09</td>\n",
              "      <td>CcFXLynukEDnUlvgl</td>\n",
              "      <td>192.168.1.195</td>\n",
              "      <td>41040</td>\n",
              "      <td>185.244.25.235</td>\n",
              "      <td>80</td>\n",
              "      <td>tcp</td>\n",
              "      <td>-</td>\n",
              "      <td>-</td>\n",
              "      <td>-</td>\n",
              "      <td>0</td>\n",
              "      <td>S0</td>\n",
              "      <td>0</td>\n",
              "      <td>S</td>\n",
              "      <td>1</td>\n",
              "      <td>60</td>\n",
              "      <td>0</td>\n",
              "      <td>0</td>\n",
              "      <td>Benign</td>\n",
              "      <td>DDoS</td>\n",
              "    </tr>\n",
              "    <tr>\n",
              "      <th>3</th>\n",
              "      <td>1.545404e+09</td>\n",
              "      <td>CDrkrSobGYxHhYfth</td>\n",
              "      <td>192.168.1.195</td>\n",
              "      <td>41040</td>\n",
              "      <td>185.244.25.235</td>\n",
              "      <td>80</td>\n",
              "      <td>tcp</td>\n",
              "      <td>http</td>\n",
              "      <td>1.477656</td>\n",
              "      <td>149</td>\n",
              "      <td>128252</td>\n",
              "      <td>SF</td>\n",
              "      <td>2896</td>\n",
              "      <td>ShADadttcfF</td>\n",
              "      <td>94</td>\n",
              "      <td>5525</td>\n",
              "      <td>96</td>\n",
              "      <td>139044</td>\n",
              "      <td>Benign</td>\n",
              "      <td>DDoS</td>\n",
              "    </tr>\n",
              "    <tr>\n",
              "      <th>4</th>\n",
              "      <td>1.545404e+09</td>\n",
              "      <td>CTWZQf2oJSvq6zmPAc</td>\n",
              "      <td>192.168.1.195</td>\n",
              "      <td>41042</td>\n",
              "      <td>185.244.25.235</td>\n",
              "      <td>80</td>\n",
              "      <td>tcp</td>\n",
              "      <td>-</td>\n",
              "      <td>3.147116</td>\n",
              "      <td>0</td>\n",
              "      <td>0</td>\n",
              "      <td>S0</td>\n",
              "      <td>0</td>\n",
              "      <td>S</td>\n",
              "      <td>3</td>\n",
              "      <td>180</td>\n",
              "      <td>0</td>\n",
              "      <td>0</td>\n",
              "      <td>Benign</td>\n",
              "      <td>DDoS</td>\n",
              "    </tr>\n",
              "  </tbody>\n",
              "</table>\n",
              "</div>"
            ],
            "text/plain": [
              "             ts                 uid  ...   label  detailed-label\n",
              "0  1.545404e+09   CrDn63WjJEmrWGjqf  ...  Benign            DDoS\n",
              "1  1.545404e+09  CY9lJW3gh1Eje4usP6  ...  Benign            DDoS\n",
              "2  1.545404e+09   CcFXLynukEDnUlvgl  ...  Benign            DDoS\n",
              "3  1.545404e+09   CDrkrSobGYxHhYfth  ...  Benign            DDoS\n",
              "4  1.545404e+09  CTWZQf2oJSvq6zmPAc  ...  Benign            DDoS\n",
              "\n",
              "[5 rows x 20 columns]"
            ]
          },
          "metadata": {
            "tags": []
          },
          "execution_count": 87
        }
      ]
    },
    {
      "cell_type": "code",
      "metadata": {
        "colab": {
          "base_uri": "https://localhost:8080/"
        },
        "id": "cBb-6wCmOFQ3",
        "outputId": "257eddb7-0bc6-4606-cbc8-8a27b4197481"
      },
      "source": [
        "df['orig_bytes'].unique()"
      ],
      "execution_count": 88,
      "outputs": [
        {
          "output_type": "execute_result",
          "data": {
            "text/plain": [
              "array(['0', '-', '149', '151', '148', '48', '952', '75', '152', '74',\n",
              "       '150', '60', '288', '73', '156', '78', '39', '96', '384', '345',\n",
              "       '13115', '2945024', '62', '2572', '595', '470', '75546624', '3643',\n",
              "       '3445'], dtype=object)"
            ]
          },
          "metadata": {
            "tags": []
          },
          "execution_count": 88
        }
      ]
    },
    {
      "cell_type": "code",
      "metadata": {
        "id": "GkSJWkJaOWd8"
      },
      "source": [
        "from sklearn.impute import SimpleImputer \r\n",
        "imputer=SimpleImputer(missing_values='-',strategy='most_frequent')\r\n",
        "imputer=imputer.fit(df.iloc[:,[-11]])\r\n",
        "df.iloc[:,[-11]]=imputer.transform(df.iloc[:,[-11]])"
      ],
      "execution_count": 89,
      "outputs": []
    },
    {
      "cell_type": "code",
      "metadata": {
        "colab": {
          "base_uri": "https://localhost:8080/"
        },
        "id": "Uo_DxAzDOobf",
        "outputId": "2769d67d-ab5d-4fa7-9338-5b49d002ace8"
      },
      "source": [
        "df['orig_bytes'].unique()"
      ],
      "execution_count": 90,
      "outputs": [
        {
          "output_type": "execute_result",
          "data": {
            "text/plain": [
              "array(['0', '149', '151', '148', '48', '952', '75', '152', '74', '150',\n",
              "       '60', '288', '73', '156', '78', '39', '96', '384', '345', '13115',\n",
              "       '2945024', '62', '2572', '595', '470', '75546624', '3643', '3445'],\n",
              "      dtype=object)"
            ]
          },
          "metadata": {
            "tags": []
          },
          "execution_count": 90
        }
      ]
    },
    {
      "cell_type": "code",
      "metadata": {
        "colab": {
          "base_uri": "https://localhost:8080/"
        },
        "id": "yetiJ7r8Or4f",
        "outputId": "b6335652-cc52-4986-cbb2-4565a3e4a6a9"
      },
      "source": [
        "df['duration'].unique()"
      ],
      "execution_count": 31,
      "outputs": [
        {
          "output_type": "execute_result",
          "data": {
            "text/plain": [
              "array(['3.139211', '-', '1.477656', ..., '33.498912', '32.840994',\n",
              "       '36.290833'], dtype=object)"
            ]
          },
          "metadata": {
            "tags": []
          },
          "execution_count": 31
        }
      ]
    },
    {
      "cell_type": "code",
      "metadata": {
        "colab": {
          "base_uri": "https://localhost:8080/"
        },
        "id": "ncfv9tibO1aj",
        "outputId": "7285355a-59d8-4e9f-cee0-62a972be2b9d"
      },
      "source": [
        "df['service'].unique()"
      ],
      "execution_count": 32,
      "outputs": [
        {
          "output_type": "execute_result",
          "data": {
            "text/plain": [
              "array(['-', 'http', 'irc', 'dns', 'dhcp'], dtype=object)"
            ]
          },
          "metadata": {
            "tags": []
          },
          "execution_count": 32
        }
      ]
    },
    {
      "cell_type": "code",
      "metadata": {
        "id": "9R26z7rTPOW2"
      },
      "source": [
        "from sklearn.impute import SimpleImputer \r\n",
        "imputer=SimpleImputer(missing_values='-',strategy='most_frequent')\r\n",
        "imputer=imputer.fit(df.iloc[:,[-12, -13]])\r\n",
        "df.iloc[:,[-12, -13]]=imputer.transform(df.iloc[:,[-12, -13]])"
      ],
      "execution_count": 33,
      "outputs": []
    },
    {
      "cell_type": "code",
      "metadata": {
        "colab": {
          "base_uri": "https://localhost:8080/"
        },
        "id": "gAqCFuuxPefY",
        "outputId": "06ba6f29-455b-4280-eef9-ee07d6d28a41"
      },
      "source": [
        "df['service'].unique()"
      ],
      "execution_count": 91,
      "outputs": [
        {
          "output_type": "execute_result",
          "data": {
            "text/plain": [
              "array(['-', 'http', 'irc', 'dns', 'dhcp'], dtype=object)"
            ]
          },
          "metadata": {
            "tags": []
          },
          "execution_count": 91
        }
      ]
    },
    {
      "cell_type": "code",
      "metadata": {
        "colab": {
          "base_uri": "https://localhost:8080/"
        },
        "id": "Jb5ag2qWPoLb",
        "outputId": "c596d333-ffc9-4fc3-a0f9-ec84ca4fed6c"
      },
      "source": [
        "df['duration'].unique()"
      ],
      "execution_count": 92,
      "outputs": [
        {
          "output_type": "execute_result",
          "data": {
            "text/plain": [
              "array(['3.139211', '-', '1.477656', ..., '33.498912', '32.840994',\n",
              "       '36.290833'], dtype=object)"
            ]
          },
          "metadata": {
            "tags": []
          },
          "execution_count": 92
        }
      ]
    },
    {
      "cell_type": "code",
      "metadata": {
        "colab": {
          "base_uri": "https://localhost:8080/",
          "height": 241
        },
        "id": "oSSYZiKrPs5-",
        "outputId": "c7f822ba-e823-4ac0-db2e-bcd01f322945"
      },
      "source": [
        "df.head()"
      ],
      "execution_count": 93,
      "outputs": [
        {
          "output_type": "execute_result",
          "data": {
            "text/html": [
              "<div>\n",
              "<style scoped>\n",
              "    .dataframe tbody tr th:only-of-type {\n",
              "        vertical-align: middle;\n",
              "    }\n",
              "\n",
              "    .dataframe tbody tr th {\n",
              "        vertical-align: top;\n",
              "    }\n",
              "\n",
              "    .dataframe thead th {\n",
              "        text-align: right;\n",
              "    }\n",
              "</style>\n",
              "<table border=\"1\" class=\"dataframe\">\n",
              "  <thead>\n",
              "    <tr style=\"text-align: right;\">\n",
              "      <th></th>\n",
              "      <th>ts</th>\n",
              "      <th>uid</th>\n",
              "      <th>id.orig_h</th>\n",
              "      <th>id.orig_p</th>\n",
              "      <th>id.resp_h</th>\n",
              "      <th>id.resp_p</th>\n",
              "      <th>proto</th>\n",
              "      <th>service</th>\n",
              "      <th>duration</th>\n",
              "      <th>orig_bytes</th>\n",
              "      <th>resp_bytes</th>\n",
              "      <th>conn_state</th>\n",
              "      <th>missed_bytes</th>\n",
              "      <th>history</th>\n",
              "      <th>orig_pkts</th>\n",
              "      <th>orig_ip_bytes</th>\n",
              "      <th>resp_pkts</th>\n",
              "      <th>resp_ip_bytes</th>\n",
              "      <th>label</th>\n",
              "      <th>detailed-label</th>\n",
              "    </tr>\n",
              "  </thead>\n",
              "  <tbody>\n",
              "    <tr>\n",
              "      <th>0</th>\n",
              "      <td>1.545404e+09</td>\n",
              "      <td>CrDn63WjJEmrWGjqf</td>\n",
              "      <td>192.168.1.195</td>\n",
              "      <td>41040</td>\n",
              "      <td>185.244.25.235</td>\n",
              "      <td>80</td>\n",
              "      <td>tcp</td>\n",
              "      <td>-</td>\n",
              "      <td>3.139211</td>\n",
              "      <td>0</td>\n",
              "      <td>0</td>\n",
              "      <td>S0</td>\n",
              "      <td>0</td>\n",
              "      <td>S</td>\n",
              "      <td>3</td>\n",
              "      <td>180</td>\n",
              "      <td>0</td>\n",
              "      <td>0</td>\n",
              "      <td>Benign</td>\n",
              "      <td>DDoS</td>\n",
              "    </tr>\n",
              "    <tr>\n",
              "      <th>1</th>\n",
              "      <td>1.545404e+09</td>\n",
              "      <td>CY9lJW3gh1Eje4usP6</td>\n",
              "      <td>192.168.1.195</td>\n",
              "      <td>41040</td>\n",
              "      <td>185.244.25.235</td>\n",
              "      <td>80</td>\n",
              "      <td>tcp</td>\n",
              "      <td>-</td>\n",
              "      <td>-</td>\n",
              "      <td>0</td>\n",
              "      <td>0</td>\n",
              "      <td>S0</td>\n",
              "      <td>0</td>\n",
              "      <td>S</td>\n",
              "      <td>1</td>\n",
              "      <td>60</td>\n",
              "      <td>0</td>\n",
              "      <td>0</td>\n",
              "      <td>Benign</td>\n",
              "      <td>DDoS</td>\n",
              "    </tr>\n",
              "    <tr>\n",
              "      <th>2</th>\n",
              "      <td>1.545404e+09</td>\n",
              "      <td>CcFXLynukEDnUlvgl</td>\n",
              "      <td>192.168.1.195</td>\n",
              "      <td>41040</td>\n",
              "      <td>185.244.25.235</td>\n",
              "      <td>80</td>\n",
              "      <td>tcp</td>\n",
              "      <td>-</td>\n",
              "      <td>-</td>\n",
              "      <td>0</td>\n",
              "      <td>0</td>\n",
              "      <td>S0</td>\n",
              "      <td>0</td>\n",
              "      <td>S</td>\n",
              "      <td>1</td>\n",
              "      <td>60</td>\n",
              "      <td>0</td>\n",
              "      <td>0</td>\n",
              "      <td>Benign</td>\n",
              "      <td>DDoS</td>\n",
              "    </tr>\n",
              "    <tr>\n",
              "      <th>3</th>\n",
              "      <td>1.545404e+09</td>\n",
              "      <td>CDrkrSobGYxHhYfth</td>\n",
              "      <td>192.168.1.195</td>\n",
              "      <td>41040</td>\n",
              "      <td>185.244.25.235</td>\n",
              "      <td>80</td>\n",
              "      <td>tcp</td>\n",
              "      <td>http</td>\n",
              "      <td>1.477656</td>\n",
              "      <td>149</td>\n",
              "      <td>128252</td>\n",
              "      <td>SF</td>\n",
              "      <td>2896</td>\n",
              "      <td>ShADadttcfF</td>\n",
              "      <td>94</td>\n",
              "      <td>5525</td>\n",
              "      <td>96</td>\n",
              "      <td>139044</td>\n",
              "      <td>Benign</td>\n",
              "      <td>DDoS</td>\n",
              "    </tr>\n",
              "    <tr>\n",
              "      <th>4</th>\n",
              "      <td>1.545404e+09</td>\n",
              "      <td>CTWZQf2oJSvq6zmPAc</td>\n",
              "      <td>192.168.1.195</td>\n",
              "      <td>41042</td>\n",
              "      <td>185.244.25.235</td>\n",
              "      <td>80</td>\n",
              "      <td>tcp</td>\n",
              "      <td>-</td>\n",
              "      <td>3.147116</td>\n",
              "      <td>0</td>\n",
              "      <td>0</td>\n",
              "      <td>S0</td>\n",
              "      <td>0</td>\n",
              "      <td>S</td>\n",
              "      <td>3</td>\n",
              "      <td>180</td>\n",
              "      <td>0</td>\n",
              "      <td>0</td>\n",
              "      <td>Benign</td>\n",
              "      <td>DDoS</td>\n",
              "    </tr>\n",
              "  </tbody>\n",
              "</table>\n",
              "</div>"
            ],
            "text/plain": [
              "             ts                 uid  ...   label  detailed-label\n",
              "0  1.545404e+09   CrDn63WjJEmrWGjqf  ...  Benign            DDoS\n",
              "1  1.545404e+09  CY9lJW3gh1Eje4usP6  ...  Benign            DDoS\n",
              "2  1.545404e+09   CcFXLynukEDnUlvgl  ...  Benign            DDoS\n",
              "3  1.545404e+09   CDrkrSobGYxHhYfth  ...  Benign            DDoS\n",
              "4  1.545404e+09  CTWZQf2oJSvq6zmPAc  ...  Benign            DDoS\n",
              "\n",
              "[5 rows x 20 columns]"
            ]
          },
          "metadata": {
            "tags": []
          },
          "execution_count": 93
        }
      ]
    },
    {
      "cell_type": "code",
      "metadata": {
        "colab": {
          "base_uri": "https://localhost:8080/"
        },
        "id": "2OnKlrKAPyJF",
        "outputId": "14a6449c-1b4c-484a-f6a8-ddb4db1e17c3"
      },
      "source": [
        "df.shape"
      ],
      "execution_count": 37,
      "outputs": [
        {
          "output_type": "execute_result",
          "data": {
            "text/plain": [
              "(23145, 20)"
            ]
          },
          "metadata": {
            "tags": []
          },
          "execution_count": 37
        }
      ]
    },
    {
      "cell_type": "code",
      "metadata": {
        "colab": {
          "base_uri": "https://localhost:8080/"
        },
        "id": "7A6LB_Bpbzqd",
        "outputId": "71a8ef10-806e-4db0-b0f3-a0eeb1d20ff9"
      },
      "source": [
        "df['detailed-label'].value_counts()"
      ],
      "execution_count": 38,
      "outputs": [
        {
          "output_type": "execute_result",
          "data": {
            "text/plain": [
              "DDoS                         16317\n",
              "C&C                           6706\n",
              "PartOfAHorizontalPortScan      122\n",
              "Name: detailed-label, dtype: int64"
            ]
          },
          "metadata": {
            "tags": []
          },
          "execution_count": 38
        }
      ]
    },
    {
      "cell_type": "code",
      "metadata": {
        "colab": {
          "base_uri": "https://localhost:8080/"
        },
        "id": "pLJN-JdGe0bo",
        "outputId": "762260fa-d6ed-430a-84ec-72bcc4e60f55"
      },
      "source": [
        "df['label'].value_counts()"
      ],
      "execution_count": 39,
      "outputs": [
        {
          "output_type": "execute_result",
          "data": {
            "text/plain": [
              "Malicious    21222\n",
              "Benign        1923\n",
              "Name: label, dtype: int64"
            ]
          },
          "metadata": {
            "tags": []
          },
          "execution_count": 39
        }
      ]
    },
    {
      "cell_type": "code",
      "metadata": {
        "colab": {
          "base_uri": "https://localhost:8080/",
          "height": 405
        },
        "id": "7GeKBxaGfeIC",
        "outputId": "7a58d060-9328-4dc6-ed36-2b0db262f70d"
      },
      "source": [
        "df['detailed-label'].value_counts().plot(kind=\"bar\")"
      ],
      "execution_count": 94,
      "outputs": [
        {
          "output_type": "execute_result",
          "data": {
            "text/plain": [
              "<matplotlib.axes._subplots.AxesSubplot at 0x7fd4fca742e8>"
            ]
          },
          "metadata": {
            "tags": []
          },
          "execution_count": 94
        },
        {
          "output_type": "display_data",
          "data": {
            "image/png": "[encoded data removed]",
            "text/plain": [
              "<Figure size 432x288 with 1 Axes>"
            ]
          },
          "metadata": {
            "tags": [],
            "needs_background": "light"
          }
        }
      ]
    },
    {
      "cell_type": "code",
      "metadata": {
        "colab": {
          "base_uri": "https://localhost:8080/"
        },
        "id": "DwUkjjalkmBg",
        "outputId": "6b6f8135-0f07-4ea6-d5d5-586eddb88e88"
      },
      "source": [
        "df.isnull().sum()"
      ],
      "execution_count": 96,
      "outputs": [
        {
          "output_type": "execute_result",
          "data": {
            "text/plain": [
              "ts                0\n",
              "uid               0\n",
              "id.orig_h         0\n",
              "id.orig_p         0\n",
              "id.resp_h         0\n",
              "id.resp_p         0\n",
              "proto             0\n",
              "service           0\n",
              "duration          0\n",
              "orig_bytes        0\n",
              "resp_bytes        0\n",
              "conn_state        0\n",
              "missed_bytes      0\n",
              "history           0\n",
              "orig_pkts         0\n",
              "orig_ip_bytes     0\n",
              "resp_pkts         0\n",
              "resp_ip_bytes     0\n",
              "label             0\n",
              "detailed-label    0\n",
              "dtype: int64"
            ]
          },
          "metadata": {
            "tags": []
          },
          "execution_count": 96
        }
      ]
    },
    {
      "cell_type": "code",
      "metadata": {
        "colab": {
          "base_uri": "https://localhost:8080/",
          "height": 571
        },
        "id": "ql6M_juViA7x",
        "outputId": "fcf2d7f1-5eab-434d-d51c-8e90163ac0d3"
      },
      "source": [
        "  plt.figure(figsize=(20,10))\r\n",
        "\r\n",
        "sns.heatmap(df.corr(),  annot=True)"
      ],
      "execution_count": 95,
      "outputs": [
        {
          "output_type": "execute_result",
          "data": {
            "text/plain": [
              "<matplotlib.axes._subplots.AxesSubplot at 0x7fd4fcad8ba8>"
            ]
          },
          "metadata": {
            "tags": []
          },
          "execution_count": 95
        },
        {
          "output_type": "display_data",
          "data": {
            "image/png": "[encoded data removed]",
            "text/plain": [
              "<Figure size 1440x720 with 2 Axes>"
            ]
          },
          "metadata": {
            "tags": [],
            "needs_background": "light"
          }
        }
      ]
    },
    {
      "cell_type": "code",
      "metadata": {
        "colab": {
          "base_uri": "https://localhost:8080/",
          "height": 241
        },
        "id": "Fetsyva2IdOD",
        "outputId": "5c0d175b-0ede-43f2-ee31-9eed838167c3"
      },
      "source": [
        "df.head()"
      ],
      "execution_count": 42,
      "outputs": [
        {
          "output_type": "execute_result",
          "data": {
            "text/html": [
              "<div>\n",
              "<style scoped>\n",
              "    .dataframe tbody tr th:only-of-type {\n",
              "        vertical-align: middle;\n",
              "    }\n",
              "\n",
              "    .dataframe tbody tr th {\n",
              "        vertical-align: top;\n",
              "    }\n",
              "\n",
              "    .dataframe thead th {\n",
              "        text-align: right;\n",
              "    }\n",
              "</style>\n",
              "<table border=\"1\" class=\"dataframe\">\n",
              "  <thead>\n",
              "    <tr style=\"text-align: right;\">\n",
              "      <th></th>\n",
              "      <th>ts</th>\n",
              "      <th>uid</th>\n",
              "      <th>id.orig_h</th>\n",
              "      <th>id.orig_p</th>\n",
              "      <th>id.resp_h</th>\n",
              "      <th>id.resp_p</th>\n",
              "      <th>proto</th>\n",
              "      <th>service</th>\n",
              "      <th>duration</th>\n",
              "      <th>orig_bytes</th>\n",
              "      <th>resp_bytes</th>\n",
              "      <th>conn_state</th>\n",
              "      <th>missed_bytes</th>\n",
              "      <th>history</th>\n",
              "      <th>orig_pkts</th>\n",
              "      <th>orig_ip_bytes</th>\n",
              "      <th>resp_pkts</th>\n",
              "      <th>resp_ip_bytes</th>\n",
              "      <th>label</th>\n",
              "      <th>detailed-label</th>\n",
              "    </tr>\n",
              "  </thead>\n",
              "  <tbody>\n",
              "    <tr>\n",
              "      <th>0</th>\n",
              "      <td>1.545404e+09</td>\n",
              "      <td>CrDn63WjJEmrWGjqf</td>\n",
              "      <td>192.168.1.195</td>\n",
              "      <td>41040</td>\n",
              "      <td>185.244.25.235</td>\n",
              "      <td>80</td>\n",
              "      <td>tcp</td>\n",
              "      <td>irc</td>\n",
              "      <td>3.139211</td>\n",
              "      <td>0</td>\n",
              "      <td>0</td>\n",
              "      <td>S0</td>\n",
              "      <td>0</td>\n",
              "      <td>S</td>\n",
              "      <td>3</td>\n",
              "      <td>180</td>\n",
              "      <td>0</td>\n",
              "      <td>0</td>\n",
              "      <td>Benign</td>\n",
              "      <td>DDoS</td>\n",
              "    </tr>\n",
              "    <tr>\n",
              "      <th>1</th>\n",
              "      <td>1.545404e+09</td>\n",
              "      <td>CY9lJW3gh1Eje4usP6</td>\n",
              "      <td>192.168.1.195</td>\n",
              "      <td>41040</td>\n",
              "      <td>185.244.25.235</td>\n",
              "      <td>80</td>\n",
              "      <td>tcp</td>\n",
              "      <td>irc</td>\n",
              "      <td>0.001496</td>\n",
              "      <td>0</td>\n",
              "      <td>0</td>\n",
              "      <td>S0</td>\n",
              "      <td>0</td>\n",
              "      <td>S</td>\n",
              "      <td>1</td>\n",
              "      <td>60</td>\n",
              "      <td>0</td>\n",
              "      <td>0</td>\n",
              "      <td>Benign</td>\n",
              "      <td>DDoS</td>\n",
              "    </tr>\n",
              "    <tr>\n",
              "      <th>2</th>\n",
              "      <td>1.545404e+09</td>\n",
              "      <td>CcFXLynukEDnUlvgl</td>\n",
              "      <td>192.168.1.195</td>\n",
              "      <td>41040</td>\n",
              "      <td>185.244.25.235</td>\n",
              "      <td>80</td>\n",
              "      <td>tcp</td>\n",
              "      <td>irc</td>\n",
              "      <td>0.001496</td>\n",
              "      <td>0</td>\n",
              "      <td>0</td>\n",
              "      <td>S0</td>\n",
              "      <td>0</td>\n",
              "      <td>S</td>\n",
              "      <td>1</td>\n",
              "      <td>60</td>\n",
              "      <td>0</td>\n",
              "      <td>0</td>\n",
              "      <td>Benign</td>\n",
              "      <td>DDoS</td>\n",
              "    </tr>\n",
              "    <tr>\n",
              "      <th>3</th>\n",
              "      <td>1.545404e+09</td>\n",
              "      <td>CDrkrSobGYxHhYfth</td>\n",
              "      <td>192.168.1.195</td>\n",
              "      <td>41040</td>\n",
              "      <td>185.244.25.235</td>\n",
              "      <td>80</td>\n",
              "      <td>tcp</td>\n",
              "      <td>http</td>\n",
              "      <td>1.477656</td>\n",
              "      <td>149</td>\n",
              "      <td>128252</td>\n",
              "      <td>SF</td>\n",
              "      <td>2896</td>\n",
              "      <td>ShADadttcfF</td>\n",
              "      <td>94</td>\n",
              "      <td>5525</td>\n",
              "      <td>96</td>\n",
              "      <td>139044</td>\n",
              "      <td>Benign</td>\n",
              "      <td>DDoS</td>\n",
              "    </tr>\n",
              "    <tr>\n",
              "      <th>4</th>\n",
              "      <td>1.545404e+09</td>\n",
              "      <td>CTWZQf2oJSvq6zmPAc</td>\n",
              "      <td>192.168.1.195</td>\n",
              "      <td>41042</td>\n",
              "      <td>185.244.25.235</td>\n",
              "      <td>80</td>\n",
              "      <td>tcp</td>\n",
              "      <td>irc</td>\n",
              "      <td>3.147116</td>\n",
              "      <td>0</td>\n",
              "      <td>0</td>\n",
              "      <td>S0</td>\n",
              "      <td>0</td>\n",
              "      <td>S</td>\n",
              "      <td>3</td>\n",
              "      <td>180</td>\n",
              "      <td>0</td>\n",
              "      <td>0</td>\n",
              "      <td>Benign</td>\n",
              "      <td>DDoS</td>\n",
              "    </tr>\n",
              "  </tbody>\n",
              "</table>\n",
              "</div>"
            ],
            "text/plain": [
              "             ts                 uid  ...   label  detailed-label\n",
              "0  1.545404e+09   CrDn63WjJEmrWGjqf  ...  Benign            DDoS\n",
              "1  1.545404e+09  CY9lJW3gh1Eje4usP6  ...  Benign            DDoS\n",
              "2  1.545404e+09   CcFXLynukEDnUlvgl  ...  Benign            DDoS\n",
              "3  1.545404e+09   CDrkrSobGYxHhYfth  ...  Benign            DDoS\n",
              "4  1.545404e+09  CTWZQf2oJSvq6zmPAc  ...  Benign            DDoS\n",
              "\n",
              "[5 rows x 20 columns]"
            ]
          },
          "metadata": {
            "tags": []
          },
          "execution_count": 42
        }
      ]
    },
    {
      "cell_type": "code",
      "metadata": {
        "colab": {
          "base_uri": "https://localhost:8080/"
        },
        "id": "h_60ytEtIhT1",
        "outputId": "e81a2f8a-cd58-4ced-b7a4-08493b090c93"
      },
      "source": [
        "df.info()"
      ],
      "execution_count": 97,
      "outputs": [
        {
          "output_type": "stream",
          "text": [
            "<class 'pandas.core.frame.DataFrame'>\n",
            "RangeIndex: 23145 entries, 0 to 23144\n",
            "Data columns (total 20 columns):\n",
            " #   Column          Non-Null Count  Dtype  \n",
            "---  ------          --------------  -----  \n",
            " 0   ts              23145 non-null  float64\n",
            " 1   uid             23145 non-null  object \n",
            " 2   id.orig_h       23145 non-null  object \n",
            " 3   id.orig_p       23145 non-null  int64  \n",
            " 4   id.resp_h       23145 non-null  object \n",
            " 5   id.resp_p       23145 non-null  int64  \n",
            " 6   proto           23145 non-null  object \n",
            " 7   service         23145 non-null  object \n",
            " 8   duration        23145 non-null  object \n",
            " 9   orig_bytes      23145 non-null  object \n",
            " 10  resp_bytes      23145 non-null  object \n",
            " 11  conn_state      23145 non-null  object \n",
            " 12  missed_bytes    23145 non-null  int64  \n",
            " 13  history         23145 non-null  object \n",
            " 14  orig_pkts       23145 non-null  int64  \n",
            " 15  orig_ip_bytes   23145 non-null  int64  \n",
            " 16  resp_pkts       23145 non-null  int64  \n",
            " 17  resp_ip_bytes   23145 non-null  int64  \n",
            " 18  label           23145 non-null  object \n",
            " 19  detailed-label  23145 non-null  object \n",
            "dtypes: float64(1), int64(7), object(12)\n",
            "memory usage: 3.5+ MB\n"
          ],
          "name": "stdout"
        }
      ]
    },
    {
      "cell_type": "code",
      "metadata": {
        "id": "AjZ1kpL3JkS7"
      },
      "source": [
        "data=df\r\n",
        "for column in data.columns:\r\n",
        "    if data[column].dtype == np.int64:\r\n",
        "        maxVal = data[column].max()\r\n",
        "        if maxVal < 120:\r\n",
        "            data[column] = data[column].astype(np.int8)\r\n",
        "        elif maxVal < 32767:\r\n",
        "            data[column] = data[column].astype(np.int16)\r\n",
        "        else:\r\n",
        "            data[column] = data[column].astype(np.int32)\r\n",
        "            \r\n",
        "    if data[column].dtype == np.float64:\r\n",
        "        maxVal = data[column].max()\r\n",
        "        minVal = data[data[column]>0][column].min()\r\n",
        "        if maxVal < 120 and minVal>0.01 :\r\n",
        "            data[column] = data[column].astype(np.float16)\r\n",
        "        else:\r\n",
        "            data[column] = data[column].astype(np.float32)"
      ],
      "execution_count": 98,
      "outputs": []
    },
    {
      "cell_type": "code",
      "metadata": {
        "id": "sml-1P36TmWG"
      },
      "source": [
        ""
      ],
      "execution_count": 44,
      "outputs": []
    },
    {
      "cell_type": "code",
      "metadata": {
        "colab": {
          "base_uri": "https://localhost:8080/"
        },
        "id": "GRdRrkhoJN-h",
        "outputId": "18140fa4-dbd8-4b8b-8d52-57d81c32e181"
      },
      "source": [
        "df.info()"
      ],
      "execution_count": 99,
      "outputs": [
        {
          "output_type": "stream",
          "text": [
            "<class 'pandas.core.frame.DataFrame'>\n",
            "RangeIndex: 23145 entries, 0 to 23144\n",
            "Data columns (total 20 columns):\n",
            " #   Column          Non-Null Count  Dtype  \n",
            "---  ------          --------------  -----  \n",
            " 0   ts              23145 non-null  float32\n",
            " 1   uid             23145 non-null  object \n",
            " 2   id.orig_h       23145 non-null  object \n",
            " 3   id.orig_p       23145 non-null  int32  \n",
            " 4   id.resp_h       23145 non-null  object \n",
            " 5   id.resp_p       23145 non-null  int32  \n",
            " 6   proto           23145 non-null  object \n",
            " 7   service         23145 non-null  object \n",
            " 8   duration        23145 non-null  object \n",
            " 9   orig_bytes      23145 non-null  object \n",
            " 10  resp_bytes      23145 non-null  object \n",
            " 11  conn_state      23145 non-null  object \n",
            " 12  missed_bytes    23145 non-null  int16  \n",
            " 13  history         23145 non-null  object \n",
            " 14  orig_pkts       23145 non-null  int16  \n",
            " 15  orig_ip_bytes   23145 non-null  int32  \n",
            " 16  resp_pkts       23145 non-null  int16  \n",
            " 17  resp_ip_bytes   23145 non-null  int32  \n",
            " 18  label           23145 non-null  object \n",
            " 19  detailed-label  23145 non-null  object \n",
            "dtypes: float32(1), int16(3), int32(4), object(12)\n",
            "memory usage: 2.7+ MB\n"
          ],
          "name": "stdout"
        }
      ]
    },
    {
      "cell_type": "code",
      "metadata": {
        "id": "W130fJqjKQpo"
      },
      "source": [
        "data.drop(['ts','uid','id.orig_h','id.orig_p','id.resp_h','id.resp_p'], axis=1, inplace=True)"
      ],
      "execution_count": 100,
      "outputs": []
    },
    {
      "cell_type": "code",
      "metadata": {
        "colab": {
          "base_uri": "https://localhost:8080/",
          "height": 241
        },
        "id": "MNlPDILJLMyH",
        "outputId": "e94976e3-d0fa-4645-94e5-a43f433555f6"
      },
      "source": [
        "data.head(\r\n",
        "    \r\n",
        ")"
      ],
      "execution_count": 101,
      "outputs": [
        {
          "output_type": "execute_result",
          "data": {
            "text/html": [
              "<div>\n",
              "<style scoped>\n",
              "    .dataframe tbody tr th:only-of-type {\n",
              "        vertical-align: middle;\n",
              "    }\n",
              "\n",
              "    .dataframe tbody tr th {\n",
              "        vertical-align: top;\n",
              "    }\n",
              "\n",
              "    .dataframe thead th {\n",
              "        text-align: right;\n",
              "    }\n",
              "</style>\n",
              "<table border=\"1\" class=\"dataframe\">\n",
              "  <thead>\n",
              "    <tr style=\"text-align: right;\">\n",
              "      <th></th>\n",
              "      <th>proto</th>\n",
              "      <th>service</th>\n",
              "      <th>duration</th>\n",
              "      <th>orig_bytes</th>\n",
              "      <th>resp_bytes</th>\n",
              "      <th>conn_state</th>\n",
              "      <th>missed_bytes</th>\n",
              "      <th>history</th>\n",
              "      <th>orig_pkts</th>\n",
              "      <th>orig_ip_bytes</th>\n",
              "      <th>resp_pkts</th>\n",
              "      <th>resp_ip_bytes</th>\n",
              "      <th>label</th>\n",
              "      <th>detailed-label</th>\n",
              "    </tr>\n",
              "  </thead>\n",
              "  <tbody>\n",
              "    <tr>\n",
              "      <th>0</th>\n",
              "      <td>tcp</td>\n",
              "      <td>-</td>\n",
              "      <td>3.139211</td>\n",
              "      <td>0</td>\n",
              "      <td>0</td>\n",
              "      <td>S0</td>\n",
              "      <td>0</td>\n",
              "      <td>S</td>\n",
              "      <td>3</td>\n",
              "      <td>180</td>\n",
              "      <td>0</td>\n",
              "      <td>0</td>\n",
              "      <td>Benign</td>\n",
              "      <td>DDoS</td>\n",
              "    </tr>\n",
              "    <tr>\n",
              "      <th>1</th>\n",
              "      <td>tcp</td>\n",
              "      <td>-</td>\n",
              "      <td>-</td>\n",
              "      <td>0</td>\n",
              "      <td>0</td>\n",
              "      <td>S0</td>\n",
              "      <td>0</td>\n",
              "      <td>S</td>\n",
              "      <td>1</td>\n",
              "      <td>60</td>\n",
              "      <td>0</td>\n",
              "      <td>0</td>\n",
              "      <td>Benign</td>\n",
              "      <td>DDoS</td>\n",
              "    </tr>\n",
              "    <tr>\n",
              "      <th>2</th>\n",
              "      <td>tcp</td>\n",
              "      <td>-</td>\n",
              "      <td>-</td>\n",
              "      <td>0</td>\n",
              "      <td>0</td>\n",
              "      <td>S0</td>\n",
              "      <td>0</td>\n",
              "      <td>S</td>\n",
              "      <td>1</td>\n",
              "      <td>60</td>\n",
              "      <td>0</td>\n",
              "      <td>0</td>\n",
              "      <td>Benign</td>\n",
              "      <td>DDoS</td>\n",
              "    </tr>\n",
              "    <tr>\n",
              "      <th>3</th>\n",
              "      <td>tcp</td>\n",
              "      <td>http</td>\n",
              "      <td>1.477656</td>\n",
              "      <td>149</td>\n",
              "      <td>128252</td>\n",
              "      <td>SF</td>\n",
              "      <td>2896</td>\n",
              "      <td>ShADadttcfF</td>\n",
              "      <td>94</td>\n",
              "      <td>5525</td>\n",
              "      <td>96</td>\n",
              "      <td>139044</td>\n",
              "      <td>Benign</td>\n",
              "      <td>DDoS</td>\n",
              "    </tr>\n",
              "    <tr>\n",
              "      <th>4</th>\n",
              "      <td>tcp</td>\n",
              "      <td>-</td>\n",
              "      <td>3.147116</td>\n",
              "      <td>0</td>\n",
              "      <td>0</td>\n",
              "      <td>S0</td>\n",
              "      <td>0</td>\n",
              "      <td>S</td>\n",
              "      <td>3</td>\n",
              "      <td>180</td>\n",
              "      <td>0</td>\n",
              "      <td>0</td>\n",
              "      <td>Benign</td>\n",
              "      <td>DDoS</td>\n",
              "    </tr>\n",
              "  </tbody>\n",
              "</table>\n",
              "</div>"
            ],
            "text/plain": [
              "  proto service  duration  ... resp_ip_bytes   label detailed-label\n",
              "0   tcp       -  3.139211  ...             0  Benign           DDoS\n",
              "1   tcp       -         -  ...             0  Benign           DDoS\n",
              "2   tcp       -         -  ...             0  Benign           DDoS\n",
              "3   tcp    http  1.477656  ...        139044  Benign           DDoS\n",
              "4   tcp       -  3.147116  ...             0  Benign           DDoS\n",
              "\n",
              "[5 rows x 14 columns]"
            ]
          },
          "metadata": {
            "tags": []
          },
          "execution_count": 101
        }
      ]
    },
    {
      "cell_type": "code",
      "metadata": {
        "colab": {
          "base_uri": "https://localhost:8080/"
        },
        "id": "hE5iUjQRLOLL",
        "outputId": "a1e51d22-2f8e-4c27-f5c5-da81e679ebf4"
      },
      "source": [
        "data.shape"
      ],
      "execution_count": 48,
      "outputs": [
        {
          "output_type": "execute_result",
          "data": {
            "text/plain": [
              "(23145, 14)"
            ]
          },
          "metadata": {
            "tags": []
          },
          "execution_count": 48
        }
      ]
    },
    {
      "cell_type": "code",
      "metadata": {
        "colab": {
          "base_uri": "https://localhost:8080/"
        },
        "id": "Tux1cLw7Lgiw",
        "outputId": "54ec934e-5958-430f-f2e2-59a80944bd2f"
      },
      "source": [
        "data.drop(['label'], axis=1, inplace=True), "
      ],
      "execution_count": 102,
      "outputs": [
        {
          "output_type": "execute_result",
          "data": {
            "text/plain": [
              "(None,)"
            ]
          },
          "metadata": {
            "tags": []
          },
          "execution_count": 102
        }
      ]
    },
    {
      "cell_type": "code",
      "metadata": {
        "colab": {
          "base_uri": "https://localhost:8080/",
          "height": 241
        },
        "id": "9Jc164hwMWAH",
        "outputId": "cb9945f0-227b-4147-a4ed-cc34bf0c1148"
      },
      "source": [
        "data.head()"
      ],
      "execution_count": 103,
      "outputs": [
        {
          "output_type": "execute_result",
          "data": {
            "text/html": [
              "<div>\n",
              "<style scoped>\n",
              "    .dataframe tbody tr th:only-of-type {\n",
              "        vertical-align: middle;\n",
              "    }\n",
              "\n",
              "    .dataframe tbody tr th {\n",
              "        vertical-align: top;\n",
              "    }\n",
              "\n",
              "    .dataframe thead th {\n",
              "        text-align: right;\n",
              "    }\n",
              "</style>\n",
              "<table border=\"1\" class=\"dataframe\">\n",
              "  <thead>\n",
              "    <tr style=\"text-align: right;\">\n",
              "      <th></th>\n",
              "      <th>proto</th>\n",
              "      <th>service</th>\n",
              "      <th>duration</th>\n",
              "      <th>orig_bytes</th>\n",
              "      <th>resp_bytes</th>\n",
              "      <th>conn_state</th>\n",
              "      <th>missed_bytes</th>\n",
              "      <th>history</th>\n",
              "      <th>orig_pkts</th>\n",
              "      <th>orig_ip_bytes</th>\n",
              "      <th>resp_pkts</th>\n",
              "      <th>resp_ip_bytes</th>\n",
              "      <th>detailed-label</th>\n",
              "    </tr>\n",
              "  </thead>\n",
              "  <tbody>\n",
              "    <tr>\n",
              "      <th>0</th>\n",
              "      <td>tcp</td>\n",
              "      <td>-</td>\n",
              "      <td>3.139211</td>\n",
              "      <td>0</td>\n",
              "      <td>0</td>\n",
              "      <td>S0</td>\n",
              "      <td>0</td>\n",
              "      <td>S</td>\n",
              "      <td>3</td>\n",
              "      <td>180</td>\n",
              "      <td>0</td>\n",
              "      <td>0</td>\n",
              "      <td>DDoS</td>\n",
              "    </tr>\n",
              "    <tr>\n",
              "      <th>1</th>\n",
              "      <td>tcp</td>\n",
              "      <td>-</td>\n",
              "      <td>-</td>\n",
              "      <td>0</td>\n",
              "      <td>0</td>\n",
              "      <td>S0</td>\n",
              "      <td>0</td>\n",
              "      <td>S</td>\n",
              "      <td>1</td>\n",
              "      <td>60</td>\n",
              "      <td>0</td>\n",
              "      <td>0</td>\n",
              "      <td>DDoS</td>\n",
              "    </tr>\n",
              "    <tr>\n",
              "      <th>2</th>\n",
              "      <td>tcp</td>\n",
              "      <td>-</td>\n",
              "      <td>-</td>\n",
              "      <td>0</td>\n",
              "      <td>0</td>\n",
              "      <td>S0</td>\n",
              "      <td>0</td>\n",
              "      <td>S</td>\n",
              "      <td>1</td>\n",
              "      <td>60</td>\n",
              "      <td>0</td>\n",
              "      <td>0</td>\n",
              "      <td>DDoS</td>\n",
              "    </tr>\n",
              "    <tr>\n",
              "      <th>3</th>\n",
              "      <td>tcp</td>\n",
              "      <td>http</td>\n",
              "      <td>1.477656</td>\n",
              "      <td>149</td>\n",
              "      <td>128252</td>\n",
              "      <td>SF</td>\n",
              "      <td>2896</td>\n",
              "      <td>ShADadttcfF</td>\n",
              "      <td>94</td>\n",
              "      <td>5525</td>\n",
              "      <td>96</td>\n",
              "      <td>139044</td>\n",
              "      <td>DDoS</td>\n",
              "    </tr>\n",
              "    <tr>\n",
              "      <th>4</th>\n",
              "      <td>tcp</td>\n",
              "      <td>-</td>\n",
              "      <td>3.147116</td>\n",
              "      <td>0</td>\n",
              "      <td>0</td>\n",
              "      <td>S0</td>\n",
              "      <td>0</td>\n",
              "      <td>S</td>\n",
              "      <td>3</td>\n",
              "      <td>180</td>\n",
              "      <td>0</td>\n",
              "      <td>0</td>\n",
              "      <td>DDoS</td>\n",
              "    </tr>\n",
              "  </tbody>\n",
              "</table>\n",
              "</div>"
            ],
            "text/plain": [
              "  proto service  duration  ... resp_pkts resp_ip_bytes detailed-label\n",
              "0   tcp       -  3.139211  ...         0             0           DDoS\n",
              "1   tcp       -         -  ...         0             0           DDoS\n",
              "2   tcp       -         -  ...         0             0           DDoS\n",
              "3   tcp    http  1.477656  ...        96        139044           DDoS\n",
              "4   tcp       -  3.147116  ...         0             0           DDoS\n",
              "\n",
              "[5 rows x 13 columns]"
            ]
          },
          "metadata": {
            "tags": []
          },
          "execution_count": 103
        }
      ]
    },
    {
      "cell_type": "code",
      "metadata": {
        "id": "ItD3D-2GMX7A",
        "colab": {
          "base_uri": "https://localhost:8080/"
        },
        "outputId": "7d87e4cb-5ef5-45ad-a3db-34d43ce3de13"
      },
      "source": [
        "for i in data :\r\n",
        "  print(i, \" : \", data[i].unique())"
      ],
      "execution_count": 104,
      "outputs": [
        {
          "output_type": "stream",
          "text": [
            "proto  :  ['tcp' 'udp']\n",
            "service  :  ['-' 'http' 'irc' 'dns' 'dhcp']\n",
            "duration  :  ['3.139211' '-' '1.477656' ... '33.498912' '32.840994' '36.290833']\n",
            "orig_bytes  :  ['0' '149' '151' '148' '48' '952' '75' '152' '74' '150' '60' '288' '73'\n",
            " '156' '78' '39' '96' '384' '345' '13115' '2945024' '62' '2572' '595'\n",
            " '470' '75546624' '3643' '3445']\n",
            "resp_bytes  :  ['0' '128252' '128348' '91961' '99303' '48' '164266' '17192' '124067'\n",
            " '84592' '243' '100178' '83792' '242' '103381' '110211' '234' '112443'\n",
            " '124' '288' '241' '197' '103' '206' '94' '39' '384' '192' '240' '300'\n",
            " '144' '18031' '260' '269' '17210' '151' '195' '4324' '198' '4016' '133'\n",
            " '10996' '7313']\n",
            "conn_state  :  ['S0' 'SF' 'S3' 'RSTR' 'S1' 'OTH']\n",
            "missed_bytes  :  [   0 2896 5792]\n",
            "history  :  ['S' 'ShADadttcfF' 'ShADadtcfF' 'Dd' 'D' 'ShADadtctfF' 'DdAtaFf' 'ShAdDaf'\n",
            " 'ShADacdtfF' 'ShADadtctfFR' 'ShAdDaft' 'ShADadttfF' 'ShAdfDr' 'ShAfdtDr'\n",
            " 'ShAdDatf' 'ShAdDatfr' 'ShDadAf' 'ShAdD' 'ShADadf' 'ShAdDfr' 'ShAD' 'C'\n",
            " 'CCCC' 'CCC' 'ShADad' 'ShAdDa']\n",
            "orig_pkts  :  [    3     1    94    96    67    75   114   200    93    62     7     9\n",
            "     8    73    82    11    78     5    10     6     4     2  3069  4088\n",
            "  5110  4084  5105  4080  5100  2206  2038   606  1175  1023   719  2042\n",
            "  2024   239    56    12    23    53    14     0 18444  5086    19  5008\n",
            "    92  3685  3057   226   159]\n",
            "orig_ip_bytes  :  [     180       60     5525     5699     4148     4412       76     6607\n",
            "    11444     5571     3689      447      567      559     4696     4033\n",
            "      446     4309      507      499      571     4802      671     4395\n",
            "      328      631      619      566      506      511      456      683\n",
            "      558      679      623      510      629      388      340      268\n",
            "      134       67      152      551      563      608      498      675\n",
            "      565      448      731      611   122760       40   163520   204400\n",
            "   163360   204200   163200   204000    88240    81520      373    45630\n",
            "    47000    40920  2965156      546      434      554      606      486\n",
            "    81680    80960      120      494      550      598      610      720\n",
            "    15563      618      798     3904      746      964     2216     3782\n",
            "     1480      548      442        0      668      662      562      690\n",
            " 76063056   203440      760   200320     3680   147400   122280      538\n",
            "    15767      664      600    11778]\n",
            "resp_pkts  :  [   0   96   92   65   69    1  117  184   60    6    8    7   71   61\n",
            "   72   81   78    4    2    5    3 1070  289   52    9   39  340  285]\n",
            "resp_ip_bytes  :  [     0 139044 133140  92453  97107     76 168910  28048 131755  84824\n",
            "    563    667    627 100982  85524    562 101341    615 114431    606\n",
            " 110715    328    456    614    613    658    709    253    131    262\n",
            "    122     67    608    304    674    380    561    228  74159    632\n",
            "    589    684    641  32616    179    657   7127    940    474    506\n",
            "   6156     60    706    580    693    494    749  30048    712    758\n",
            "    644  22240]\n",
            "detailed-label  :  ['DDoS' 'C&C' 'PartOfAHorizontalPortScan']\n"
          ],
          "name": "stdout"
        }
      ]
    },
    {
      "cell_type": "code",
      "metadata": {
        "colab": {
          "base_uri": "https://localhost:8080/"
        },
        "id": "dk4d1r3QTrxf",
        "outputId": "bd449a81-02a4-4b37-ff4f-fc8ac7f6a67f"
      },
      "source": [
        "data.info()"
      ],
      "execution_count": 105,
      "outputs": [
        {
          "output_type": "stream",
          "text": [
            "<class 'pandas.core.frame.DataFrame'>\n",
            "RangeIndex: 23145 entries, 0 to 23144\n",
            "Data columns (total 13 columns):\n",
            " #   Column          Non-Null Count  Dtype \n",
            "---  ------          --------------  ----- \n",
            " 0   proto           23145 non-null  object\n",
            " 1   service         23145 non-null  object\n",
            " 2   duration        23145 non-null  object\n",
            " 3   orig_bytes      23145 non-null  object\n",
            " 4   resp_bytes      23145 non-null  object\n",
            " 5   conn_state      23145 non-null  object\n",
            " 6   missed_bytes    23145 non-null  int16 \n",
            " 7   history         23145 non-null  object\n",
            " 8   orig_pkts       23145 non-null  int16 \n",
            " 9   orig_ip_bytes   23145 non-null  int32 \n",
            " 10  resp_pkts       23145 non-null  int16 \n",
            " 11  resp_ip_bytes   23145 non-null  int32 \n",
            " 12  detailed-label  23145 non-null  object\n",
            "dtypes: int16(3), int32(2), object(8)\n",
            "memory usage: 1.7+ MB\n"
          ],
          "name": "stdout"
        }
      ]
    },
    {
      "cell_type": "code",
      "metadata": {
        "id": "My7e38OTl89c"
      },
      "source": [
        "from sklearn.impute import SimpleImputer \r\n",
        "imputer=SimpleImputer(missing_values='-',strategy='most_frequent')\r\n",
        "imputer=imputer.fit(df.loc[:,['duration']])\r\n",
        "df.loc[:,['duration']]=imputer.transform(df.loc[:,['duration']])"
      ],
      "execution_count": 107,
      "outputs": []
    },
    {
      "cell_type": "code",
      "metadata": {
        "id": "CdLxiz7vToRa"
      },
      "source": [
        "data['duration'] = data['duration'].astype(np.float32)\r\n",
        "data['orig_bytes'] = data['orig_bytes'].astype(np.int64)\r\n",
        "data['resp_bytes'] = data['resp_bytes'].astype(np.int64)"
      ],
      "execution_count": 108,
      "outputs": []
    },
    {
      "cell_type": "code",
      "metadata": {
        "colab": {
          "base_uri": "https://localhost:8080/"
        },
        "id": "r5y5rGdRmL54",
        "outputId": "d5699b41-34e2-4544-97a7-f9fa29330d7e"
      },
      "source": [
        "data.info()"
      ],
      "execution_count": 111,
      "outputs": [
        {
          "output_type": "stream",
          "text": [
            "<class 'pandas.core.frame.DataFrame'>\n",
            "RangeIndex: 23145 entries, 0 to 23144\n",
            "Data columns (total 12 columns):\n",
            " #   Column         Non-Null Count  Dtype  \n",
            "---  ------         --------------  -----  \n",
            " 0   proto          23145 non-null  object \n",
            " 1   service        23145 non-null  object \n",
            " 2   duration       23145 non-null  float32\n",
            " 3   orig_bytes     23145 non-null  int64  \n",
            " 4   resp_bytes     23145 non-null  int64  \n",
            " 5   conn_state     23145 non-null  object \n",
            " 6   missed_bytes   23145 non-null  int16  \n",
            " 7   history        23145 non-null  object \n",
            " 8   orig_pkts      23145 non-null  int16  \n",
            " 9   orig_ip_bytes  23145 non-null  int32  \n",
            " 10  resp_pkts      23145 non-null  int16  \n",
            " 11  resp_ip_bytes  23145 non-null  int32  \n",
            "dtypes: float32(1), int16(3), int32(2), int64(2), object(4)\n",
            "memory usage: 1.5+ MB\n"
          ],
          "name": "stdout"
        }
      ]
    },
    {
      "cell_type": "code",
      "metadata": {
        "id": "Zzi4U7P_UKde"
      },
      "source": [
        "%matplotlib inline\r\n",
        "import matplotlib.pyplot as plt\r\n",
        "import pandas as pd\r\n",
        "import numpy as np\r\n",
        "from sklearn.linear_model import LinearRegression\r\n",
        "from sklearn.model_selection import train_test_split\r\n",
        "from sklearn.preprocessing import LabelEncoder\r\n",
        "from sklearn.preprocessing import OneHotEncoder\r\n",
        "from sklearn.compose import ColumnTransformer"
      ],
      "execution_count": 109,
      "outputs": []
    },
    {
      "cell_type": "code",
      "metadata": {
        "id": "RebFNP6OURM2"
      },
      "source": [
        "y = data['detailed-label']\r\n",
        "X = data.drop('detailed-label', 1,inplace=True)"
      ],
      "execution_count": 110,
      "outputs": []
    },
    {
      "cell_type": "code",
      "metadata": {
        "id": "7G9Hs14wnuOl"
      },
      "source": [
        "X=data"
      ],
      "execution_count": 124,
      "outputs": []
    },
    {
      "cell_type": "code",
      "metadata": {
        "id": "uliXHV3lmhwR"
      },
      "source": [
        "from sklearn.impute import SimpleImputer \r\n",
        "imputer=SimpleImputer(missing_values='-',strategy='most_frequent')\r\n",
        "imputer=imputer.fit(X.loc[:,['service']])\r\n",
        "X.loc[:,['service']]=imputer.transform(X.loc[:,['service']])"
      ],
      "execution_count": 127,
      "outputs": []
    },
    {
      "cell_type": "code",
      "metadata": {
        "id": "Y4jM3eOboNV3"
      },
      "source": [
        ""
      ],
      "execution_count": null,
      "outputs": []
    },
    {
      "cell_type": "code",
      "metadata": {
        "id": "1S-VHE9SYBPA"
      },
      "source": [
        "from sklearn.preprocessing import OneHotEncoder\r\n",
        "onehotencoder = OneHotEncoder()\r\n",
        "categorical_cols=['proto','service','conn_state','history']\r\n",
        "\r\n",
        "df1 = pd.get_dummies(data, columns = categorical_cols,drop_first=True)"
      ],
      "execution_count": 130,
      "outputs": []
    },
    {
      "cell_type": "code",
      "metadata": {
        "id": "RWnSwTq9aFS6",
        "colab": {
          "base_uri": "https://localhost:8080/"
        },
        "outputId": "6012156e-05a0-4ae7-aa7d-fbee46a4c45d"
      },
      "source": [
        "X.service.unique()"
      ],
      "execution_count": 129,
      "outputs": [
        {
          "output_type": "execute_result",
          "data": {
            "text/plain": [
              "array(['irc', 'http', 'dns', 'dhcp'], dtype=object)"
            ]
          },
          "metadata": {
            "tags": []
          },
          "execution_count": 129
        }
      ]
    },
    {
      "cell_type": "code",
      "metadata": {
        "colab": {
          "base_uri": "https://localhost:8080/",
          "height": 131
        },
        "id": "MADgHM96ZKah",
        "outputId": "f95a04b0-0ba4-48f8-cb1f-4f59dec573b5"
      },
      "source": [
        "X.head(2)"
      ],
      "execution_count": 133,
      "outputs": [
        {
          "output_type": "execute_result",
          "data": {
            "text/html": [
              "<div>\n",
              "<style scoped>\n",
              "    .dataframe tbody tr th:only-of-type {\n",
              "        vertical-align: middle;\n",
              "    }\n",
              "\n",
              "    .dataframe tbody tr th {\n",
              "        vertical-align: top;\n",
              "    }\n",
              "\n",
              "    .dataframe thead th {\n",
              "        text-align: right;\n",
              "    }\n",
              "</style>\n",
              "<table border=\"1\" class=\"dataframe\">\n",
              "  <thead>\n",
              "    <tr style=\"text-align: right;\">\n",
              "      <th></th>\n",
              "      <th>proto</th>\n",
              "      <th>service</th>\n",
              "      <th>duration</th>\n",
              "      <th>orig_bytes</th>\n",
              "      <th>resp_bytes</th>\n",
              "      <th>conn_state</th>\n",
              "      <th>missed_bytes</th>\n",
              "      <th>history</th>\n",
              "      <th>orig_pkts</th>\n",
              "      <th>orig_ip_bytes</th>\n",
              "      <th>resp_pkts</th>\n",
              "      <th>resp_ip_bytes</th>\n",
              "    </tr>\n",
              "  </thead>\n",
              "  <tbody>\n",
              "    <tr>\n",
              "      <th>0</th>\n",
              "      <td>tcp</td>\n",
              "      <td>irc</td>\n",
              "      <td>3.139211</td>\n",
              "      <td>0</td>\n",
              "      <td>0</td>\n",
              "      <td>S0</td>\n",
              "      <td>0</td>\n",
              "      <td>S</td>\n",
              "      <td>3</td>\n",
              "      <td>180</td>\n",
              "      <td>0</td>\n",
              "      <td>0</td>\n",
              "    </tr>\n",
              "    <tr>\n",
              "      <th>1</th>\n",
              "      <td>tcp</td>\n",
              "      <td>irc</td>\n",
              "      <td>0.001496</td>\n",
              "      <td>0</td>\n",
              "      <td>0</td>\n",
              "      <td>S0</td>\n",
              "      <td>0</td>\n",
              "      <td>S</td>\n",
              "      <td>1</td>\n",
              "      <td>60</td>\n",
              "      <td>0</td>\n",
              "      <td>0</td>\n",
              "    </tr>\n",
              "  </tbody>\n",
              "</table>\n",
              "</div>"
            ],
            "text/plain": [
              "  proto service  duration  ...  orig_ip_bytes  resp_pkts resp_ip_bytes\n",
              "0   tcp     irc  3.139211  ...            180          0             0\n",
              "1   tcp     irc  0.001496  ...             60          0             0\n",
              "\n",
              "[2 rows x 12 columns]"
            ]
          },
          "metadata": {
            "tags": []
          },
          "execution_count": 133
        }
      ]
    },
    {
      "cell_type": "code",
      "metadata": {
        "colab": {
          "base_uri": "https://localhost:8080/",
          "height": 131
        },
        "id": "zsxsDwf4ZR7D",
        "outputId": "fb1fa947-9b8f-4b02-9cdb-a79c926affc6"
      },
      "source": [
        "df1.head(2)"
      ],
      "execution_count": 134,
      "outputs": [
        {
          "output_type": "execute_result",
          "data": {
            "text/html": [
              "<div>\n",
              "<style scoped>\n",
              "    .dataframe tbody tr th:only-of-type {\n",
              "        vertical-align: middle;\n",
              "    }\n",
              "\n",
              "    .dataframe tbody tr th {\n",
              "        vertical-align: top;\n",
              "    }\n",
              "\n",
              "    .dataframe thead th {\n",
              "        text-align: right;\n",
              "    }\n",
              "</style>\n",
              "<table border=\"1\" class=\"dataframe\">\n",
              "  <thead>\n",
              "    <tr style=\"text-align: right;\">\n",
              "      <th></th>\n",
              "      <th>duration</th>\n",
              "      <th>orig_bytes</th>\n",
              "      <th>resp_bytes</th>\n",
              "      <th>missed_bytes</th>\n",
              "      <th>orig_pkts</th>\n",
              "      <th>orig_ip_bytes</th>\n",
              "      <th>resp_pkts</th>\n",
              "      <th>resp_ip_bytes</th>\n",
              "      <th>proto_udp</th>\n",
              "      <th>service_dns</th>\n",
              "      <th>service_http</th>\n",
              "      <th>service_irc</th>\n",
              "      <th>conn_state_RSTR</th>\n",
              "      <th>conn_state_S0</th>\n",
              "      <th>conn_state_S1</th>\n",
              "      <th>conn_state_S3</th>\n",
              "      <th>conn_state_SF</th>\n",
              "      <th>history_CCC</th>\n",
              "      <th>history_CCCC</th>\n",
              "      <th>history_D</th>\n",
              "      <th>history_Dd</th>\n",
              "      <th>history_DdAtaFf</th>\n",
              "      <th>history_S</th>\n",
              "      <th>history_ShAD</th>\n",
              "      <th>history_ShADacdtfF</th>\n",
              "      <th>history_ShADad</th>\n",
              "      <th>history_ShADadf</th>\n",
              "      <th>history_ShADadtcfF</th>\n",
              "      <th>history_ShADadtctfF</th>\n",
              "      <th>history_ShADadtctfFR</th>\n",
              "      <th>history_ShADadttcfF</th>\n",
              "      <th>history_ShADadttfF</th>\n",
              "      <th>history_ShAdD</th>\n",
              "      <th>history_ShAdDa</th>\n",
              "      <th>history_ShAdDaf</th>\n",
              "      <th>history_ShAdDaft</th>\n",
              "      <th>history_ShAdDatf</th>\n",
              "      <th>history_ShAdDatfr</th>\n",
              "      <th>history_ShAdDfr</th>\n",
              "      <th>history_ShAdfDr</th>\n",
              "      <th>history_ShAfdtDr</th>\n",
              "      <th>history_ShDadAf</th>\n",
              "    </tr>\n",
              "  </thead>\n",
              "  <tbody>\n",
              "    <tr>\n",
              "      <th>0</th>\n",
              "      <td>3.139211</td>\n",
              "      <td>0</td>\n",
              "      <td>0</td>\n",
              "      <td>0</td>\n",
              "      <td>3</td>\n",
              "      <td>180</td>\n",
              "      <td>0</td>\n",
              "      <td>0</td>\n",
              "      <td>0</td>\n",
              "      <td>0</td>\n",
              "      <td>0</td>\n",
              "      <td>1</td>\n",
              "      <td>0</td>\n",
              "      <td>1</td>\n",
              "      <td>0</td>\n",
              "      <td>0</td>\n",
              "      <td>0</td>\n",
              "      <td>0</td>\n",
              "      <td>0</td>\n",
              "      <td>0</td>\n",
              "      <td>0</td>\n",
              "      <td>0</td>\n",
              "      <td>1</td>\n",
              "      <td>0</td>\n",
              "      <td>0</td>\n",
              "      <td>0</td>\n",
              "      <td>0</td>\n",
              "      <td>0</td>\n",
              "      <td>0</td>\n",
              "      <td>0</td>\n",
              "      <td>0</td>\n",
              "      <td>0</td>\n",
              "      <td>0</td>\n",
              "      <td>0</td>\n",
              "      <td>0</td>\n",
              "      <td>0</td>\n",
              "      <td>0</td>\n",
              "      <td>0</td>\n",
              "      <td>0</td>\n",
              "      <td>0</td>\n",
              "      <td>0</td>\n",
              "      <td>0</td>\n",
              "    </tr>\n",
              "    <tr>\n",
              "      <th>1</th>\n",
              "      <td>0.001496</td>\n",
              "      <td>0</td>\n",
              "      <td>0</td>\n",
              "      <td>0</td>\n",
              "      <td>1</td>\n",
              "      <td>60</td>\n",
              "      <td>0</td>\n",
              "      <td>0</td>\n",
              "      <td>0</td>\n",
              "      <td>0</td>\n",
              "      <td>0</td>\n",
              "      <td>1</td>\n",
              "      <td>0</td>\n",
              "      <td>1</td>\n",
              "      <td>0</td>\n",
              "      <td>0</td>\n",
              "      <td>0</td>\n",
              "      <td>0</td>\n",
              "      <td>0</td>\n",
              "      <td>0</td>\n",
              "      <td>0</td>\n",
              "      <td>0</td>\n",
              "      <td>1</td>\n",
              "      <td>0</td>\n",
              "      <td>0</td>\n",
              "      <td>0</td>\n",
              "      <td>0</td>\n",
              "      <td>0</td>\n",
              "      <td>0</td>\n",
              "      <td>0</td>\n",
              "      <td>0</td>\n",
              "      <td>0</td>\n",
              "      <td>0</td>\n",
              "      <td>0</td>\n",
              "      <td>0</td>\n",
              "      <td>0</td>\n",
              "      <td>0</td>\n",
              "      <td>0</td>\n",
              "      <td>0</td>\n",
              "      <td>0</td>\n",
              "      <td>0</td>\n",
              "      <td>0</td>\n",
              "    </tr>\n",
              "  </tbody>\n",
              "</table>\n",
              "</div>"
            ],
            "text/plain": [
              "   duration  orig_bytes  ...  history_ShAfdtDr  history_ShDadAf\n",
              "0  3.139211           0  ...                 0                0\n",
              "1  0.001496           0  ...                 0                0\n",
              "\n",
              "[2 rows x 42 columns]"
            ]
          },
          "metadata": {
            "tags": []
          },
          "execution_count": 134
        }
      ]
    },
    {
      "cell_type": "code",
      "metadata": {
        "colab": {
          "base_uri": "https://localhost:8080/"
        },
        "id": "avsDHtuTanqO",
        "outputId": "2330ac88-6c21-49a3-b20a-827cbbf9dfd9"
      },
      "source": [
        "df1.info()"
      ],
      "execution_count": 135,
      "outputs": [
        {
          "output_type": "stream",
          "text": [
            "<class 'pandas.core.frame.DataFrame'>\n",
            "RangeIndex: 23145 entries, 0 to 23144\n",
            "Data columns (total 42 columns):\n",
            " #   Column                Non-Null Count  Dtype  \n",
            "---  ------                --------------  -----  \n",
            " 0   duration              23145 non-null  float32\n",
            " 1   orig_bytes            23145 non-null  int64  \n",
            " 2   resp_bytes            23145 non-null  int64  \n",
            " 3   missed_bytes          23145 non-null  int16  \n",
            " 4   orig_pkts             23145 non-null  int16  \n",
            " 5   orig_ip_bytes         23145 non-null  int32  \n",
            " 6   resp_pkts             23145 non-null  int16  \n",
            " 7   resp_ip_bytes         23145 non-null  int32  \n",
            " 8   proto_udp             23145 non-null  uint8  \n",
            " 9   service_dns           23145 non-null  uint8  \n",
            " 10  service_http          23145 non-null  uint8  \n",
            " 11  service_irc           23145 non-null  uint8  \n",
            " 12  conn_state_RSTR       23145 non-null  uint8  \n",
            " 13  conn_state_S0         23145 non-null  uint8  \n",
            " 14  conn_state_S1         23145 non-null  uint8  \n",
            " 15  conn_state_S3         23145 non-null  uint8  \n",
            " 16  conn_state_SF         23145 non-null  uint8  \n",
            " 17  history_CCC           23145 non-null  uint8  \n",
            " 18  history_CCCC          23145 non-null  uint8  \n",
            " 19  history_D             23145 non-null  uint8  \n",
            " 20  history_Dd            23145 non-null  uint8  \n",
            " 21  history_DdAtaFf       23145 non-null  uint8  \n",
            " 22  history_S             23145 non-null  uint8  \n",
            " 23  history_ShAD          23145 non-null  uint8  \n",
            " 24  history_ShADacdtfF    23145 non-null  uint8  \n",
            " 25  history_ShADad        23145 non-null  uint8  \n",
            " 26  history_ShADadf       23145 non-null  uint8  \n",
            " 27  history_ShADadtcfF    23145 non-null  uint8  \n",
            " 28  history_ShADadtctfF   23145 non-null  uint8  \n",
            " 29  history_ShADadtctfFR  23145 non-null  uint8  \n",
            " 30  history_ShADadttcfF   23145 non-null  uint8  \n",
            " 31  history_ShADadttfF    23145 non-null  uint8  \n",
            " 32  history_ShAdD         23145 non-null  uint8  \n",
            " 33  history_ShAdDa        23145 non-null  uint8  \n",
            " 34  history_ShAdDaf       23145 non-null  uint8  \n",
            " 35  history_ShAdDaft      23145 non-null  uint8  \n",
            " 36  history_ShAdDatf      23145 non-null  uint8  \n",
            " 37  history_ShAdDatfr     23145 non-null  uint8  \n",
            " 38  history_ShAdDfr       23145 non-null  uint8  \n",
            " 39  history_ShAdfDr       23145 non-null  uint8  \n",
            " 40  history_ShAfdtDr      23145 non-null  uint8  \n",
            " 41  history_ShDadAf       23145 non-null  uint8  \n",
            "dtypes: float32(1), int16(3), int32(2), int64(2), uint8(34)\n",
            "memory usage: 1.5 MB\n"
          ],
          "name": "stdout"
        }
      ]
    },
    {
      "cell_type": "code",
      "metadata": {
        "colab": {
          "base_uri": "https://localhost:8080/"
        },
        "id": "pU4pd_7CcjcK",
        "outputId": "c750dd03-4ef6-4238-ee66-168be2fe34c6"
      },
      "source": [
        "y"
      ],
      "execution_count": 136,
      "outputs": [
        {
          "output_type": "execute_result",
          "data": {
            "text/plain": [
              "0        DDoS\n",
              "1        DDoS\n",
              "2        DDoS\n",
              "3        DDoS\n",
              "4        DDoS\n",
              "         ... \n",
              "23140     C&C\n",
              "23141     C&C\n",
              "23142    DDoS\n",
              "23143    DDoS\n",
              "23144    DDoS\n",
              "Name: detailed-label, Length: 23145, dtype: object"
            ]
          },
          "metadata": {
            "tags": []
          },
          "execution_count": 136
        }
      ]
    },
    {
      "cell_type": "code",
      "metadata": {
        "colab": {
          "base_uri": "https://localhost:8080/",
          "height": 419
        },
        "id": "UHi3OdLbdbk8",
        "outputId": "45e0a8ae-2c7e-40b0-921d-e9860ab2f6f8"
      },
      "source": [
        "el=LabelEncoder()\r\n",
        "dlf=pd.DataFrame(y)\r\n",
        "dlf[\"detailed-label\"]=el.fit_transform(dlf[\"detailed-label\"])\r\n",
        "dlf"
      ],
      "execution_count": 137,
      "outputs": [
        {
          "output_type": "execute_result",
          "data": {
            "text/html": [
              "<div>\n",
              "<style scoped>\n",
              "    .dataframe tbody tr th:only-of-type {\n",
              "        vertical-align: middle;\n",
              "    }\n",
              "\n",
              "    .dataframe tbody tr th {\n",
              "        vertical-align: top;\n",
              "    }\n",
              "\n",
              "    .dataframe thead th {\n",
              "        text-align: right;\n",
              "    }\n",
              "</style>\n",
              "<table border=\"1\" class=\"dataframe\">\n",
              "  <thead>\n",
              "    <tr style=\"text-align: right;\">\n",
              "      <th></th>\n",
              "      <th>detailed-label</th>\n",
              "    </tr>\n",
              "  </thead>\n",
              "  <tbody>\n",
              "    <tr>\n",
              "      <th>0</th>\n",
              "      <td>1</td>\n",
              "    </tr>\n",
              "    <tr>\n",
              "      <th>1</th>\n",
              "      <td>1</td>\n",
              "    </tr>\n",
              "    <tr>\n",
              "      <th>2</th>\n",
              "      <td>1</td>\n",
              "    </tr>\n",
              "    <tr>\n",
              "      <th>3</th>\n",
              "      <td>1</td>\n",
              "    </tr>\n",
              "    <tr>\n",
              "      <th>4</th>\n",
              "      <td>1</td>\n",
              "    </tr>\n",
              "    <tr>\n",
              "      <th>...</th>\n",
              "      <td>...</td>\n",
              "    </tr>\n",
              "    <tr>\n",
              "      <th>23140</th>\n",
              "      <td>0</td>\n",
              "    </tr>\n",
              "    <tr>\n",
              "      <th>23141</th>\n",
              "      <td>0</td>\n",
              "    </tr>\n",
              "    <tr>\n",
              "      <th>23142</th>\n",
              "      <td>1</td>\n",
              "    </tr>\n",
              "    <tr>\n",
              "      <th>23143</th>\n",
              "      <td>1</td>\n",
              "    </tr>\n",
              "    <tr>\n",
              "      <th>23144</th>\n",
              "      <td>1</td>\n",
              "    </tr>\n",
              "  </tbody>\n",
              "</table>\n",
              "<p>23145 rows × 1 columns</p>\n",
              "</div>"
            ],
            "text/plain": [
              "       detailed-label\n",
              "0                   1\n",
              "1                   1\n",
              "2                   1\n",
              "3                   1\n",
              "4                   1\n",
              "...               ...\n",
              "23140               0\n",
              "23141               0\n",
              "23142               1\n",
              "23143               1\n",
              "23144               1\n",
              "\n",
              "[23145 rows x 1 columns]"
            ]
          },
          "metadata": {
            "tags": []
          },
          "execution_count": 137
        }
      ]
    },
    {
      "cell_type": "code",
      "metadata": {
        "id": "lT1ydtN7eogU"
      },
      "source": [
        "Y = dlf[\"detailed-label\"]"
      ],
      "execution_count": 138,
      "outputs": []
    },
    {
      "cell_type": "code",
      "metadata": {
        "colab": {
          "base_uri": "https://localhost:8080/"
        },
        "id": "wHnoGboFiPy-",
        "outputId": "2e6ce071-5ad5-442b-9c00-a7c3325d45f5"
      },
      "source": [
        "Y.value_counts()"
      ],
      "execution_count": 139,
      "outputs": [
        {
          "output_type": "execute_result",
          "data": {
            "text/plain": [
              "1    16317\n",
              "0     6706\n",
              "2      122\n",
              "Name: detailed-label, dtype: int64"
            ]
          },
          "metadata": {
            "tags": []
          },
          "execution_count": 139
        }
      ]
    },
    {
      "cell_type": "code",
      "metadata": {
        "id": "3A3BdnZhi057",
        "colab": {
          "base_uri": "https://localhost:8080/"
        },
        "outputId": "a12c7430-00af-48cb-d863-1c2d96014bee"
      },
      "source": [
        "dlf['detailed-label'].value_counts()"
      ],
      "execution_count": 140,
      "outputs": [
        {
          "output_type": "execute_result",
          "data": {
            "text/plain": [
              "1    16317\n",
              "0     6706\n",
              "2      122\n",
              "Name: detailed-label, dtype: int64"
            ]
          },
          "metadata": {
            "tags": []
          },
          "execution_count": 140
        }
      ]
    },
    {
      "cell_type": "code",
      "metadata": {
        "colab": {
          "base_uri": "https://localhost:8080/"
        },
        "id": "7PBedOb3kkWF",
        "outputId": "54067cbe-5556-43f1-b738-d2e9b5d3be0c"
      },
      "source": [
        "from imblearn.combine import SMOTETomek\r\n",
        "\r\n",
        "smt = SMOTETomek(ratio='auto')\r\n",
        "X_smt, y_smt = smt.fit_sample(df1, Y)"
      ],
      "execution_count": 141,
      "outputs": [
        {
          "output_type": "stream",
          "text": [
            "/usr/local/lib/python3.6/dist-packages/sklearn/externals/six.py:31: FutureWarning: The module is deprecated in version 0.21 and will be removed in version 0.23 since we've dropped support for Python 2.7. Please rely on the official version of six (https://pypi.org/project/six/).\n",
            "  \"(https://pypi.org/project/six/).\", FutureWarning)\n",
            "/usr/local/lib/python3.6/dist-packages/sklearn/utils/deprecation.py:144: FutureWarning: The sklearn.neighbors.base module is  deprecated in version 0.22 and will be removed in version 0.24. The corresponding classes / functions should instead be imported from sklearn.neighbors. Anything that cannot be imported from sklearn.neighbors is now part of the private API.\n",
            "  warnings.warn(message, FutureWarning)\n",
            "/usr/local/lib/python3.6/dist-packages/sklearn/utils/deprecation.py:87: FutureWarning: Function safe_indexing is deprecated; safe_indexing is deprecated in version 0.22 and will be removed in version 0.24.\n",
            "  warnings.warn(msg, category=FutureWarning)\n",
            "/usr/local/lib/python3.6/dist-packages/sklearn/utils/deprecation.py:87: FutureWarning: Function safe_indexing is deprecated; safe_indexing is deprecated in version 0.22 and will be removed in version 0.24.\n",
            "  warnings.warn(msg, category=FutureWarning)\n",
            "/usr/local/lib/python3.6/dist-packages/sklearn/utils/deprecation.py:87: FutureWarning: Function safe_indexing is deprecated; safe_indexing is deprecated in version 0.22 and will be removed in version 0.24.\n",
            "  warnings.warn(msg, category=FutureWarning)\n"
          ],
          "name": "stderr"
        }
      ]
    },
    {
      "cell_type": "code",
      "metadata": {
        "colab": {
          "base_uri": "https://localhost:8080/"
        },
        "id": "A9Xc46nNl4rl",
        "outputId": "b46b9e89-8182-45d1-ecca-678bd80f73c8"
      },
      "source": [
        "pd.Series(y_smt).value_counts()\r\n"
      ],
      "execution_count": 142,
      "outputs": [
        {
          "output_type": "execute_result",
          "data": {
            "text/plain": [
              "0    16311\n",
              "2    16307\n",
              "1    16301\n",
              "dtype: int64"
            ]
          },
          "metadata": {
            "tags": []
          },
          "execution_count": 142
        }
      ]
    },
    {
      "cell_type": "code",
      "metadata": {
        "colab": {
          "base_uri": "https://localhost:8080/",
          "height": 350
        },
        "id": "69KAJ5YosMfp",
        "outputId": "3e035826-7840-4e55-99d9-29968a875841"
      },
      "source": [
        "sns.countplot(dlf['detailed-label'])"
      ],
      "execution_count": 143,
      "outputs": [
        {
          "output_type": "stream",
          "text": [
            "/usr/local/lib/python3.6/dist-packages/seaborn/_decorators.py:43: FutureWarning: Pass the following variable as a keyword arg: x. From version 0.12, the only valid positional argument will be `data`, and passing other arguments without an explicit keyword will result in an error or misinterpretation.\n",
            "  FutureWarning\n"
          ],
          "name": "stderr"
        },
        {
          "output_type": "execute_result",
          "data": {
            "text/plain": [
              "<matplotlib.axes._subplots.AxesSubplot at 0x7fd4f1cec4a8>"
            ]
          },
          "metadata": {
            "tags": []
          },
          "execution_count": 143
        },
        {
          "output_type": "display_data",
          "data": {
            "image/png": "[encoded data removed]",
            "text/plain": [
              "<Figure size 432x288 with 1 Axes>"
            ]
          },
          "metadata": {
            "tags": [],
            "needs_background": "light"
          }
        }
      ]
    },
    {
      "cell_type": "code",
      "metadata": {
        "id": "Yek4xK6OrdSn"
      },
      "source": [
        "import seaborn as sns"
      ],
      "execution_count": 144,
      "outputs": []
    },
    {
      "cell_type": "code",
      "metadata": {
        "id": "N-22ICSNrBN4",
        "colab": {
          "base_uri": "https://localhost:8080/",
          "height": 336
        },
        "outputId": "b16dda20-d1d0-42fb-b5dd-977e6c712e06"
      },
      "source": [
        "sns.countplot(pd.Series(y_smt))"
      ],
      "execution_count": 145,
      "outputs": [
        {
          "output_type": "stream",
          "text": [
            "/usr/local/lib/python3.6/dist-packages/seaborn/_decorators.py:43: FutureWarning: Pass the following variable as a keyword arg: x. From version 0.12, the only valid positional argument will be `data`, and passing other arguments without an explicit keyword will result in an error or misinterpretation.\n",
            "  FutureWarning\n"
          ],
          "name": "stderr"
        },
        {
          "output_type": "execute_result",
          "data": {
            "text/plain": [
              "<matplotlib.axes._subplots.AxesSubplot at 0x7fd4f1c607b8>"
            ]
          },
          "metadata": {
            "tags": []
          },
          "execution_count": 145
        },
        {
          "output_type": "display_data",
          "data": {
            "image/png": "[encoded data removed]",
            "text/plain": [
              "<Figure size 432x288 with 1 Axes>"
            ]
          },
          "metadata": {
            "tags": [],
            "needs_background": "light"
          }
        }
      ]
    },
    {
      "cell_type": "code",
      "metadata": {
        "colab": {
          "base_uri": "https://localhost:8080/"
        },
        "id": "sKYl5tGRdSnP",
        "outputId": "d2e6f2e0-cab1-4ebe-f2f1-582e61d0e505"
      },
      "source": [
        "from xgboost import XGBClassifier\r\n",
        "from sklearn.model_selection import train_test_split\r\n",
        "from sklearn.metrics import accuracy_score\r\n",
        "\r\n",
        "\r\n",
        "X_train, X_test, y_train, y_test = train_test_split(X_smt, y_smt, test_size=0.2, random_state=1)\r\n",
        "\r\n",
        "model = XGBClassifier()\r\n",
        "model.fit(X_train, y_train)\r\n",
        "y_pred = model.predict(X_test)\r\n",
        "\r\n",
        "accuracy = accuracy_score(y_test, y_pred)\r\n",
        "print(\"Accuracy: %.2f%%\" % (accuracy * 100.0))"
      ],
      "execution_count": 146,
      "outputs": [
        {
          "output_type": "stream",
          "text": [
            "Accuracy: 99.62%\n"
          ],
          "name": "stdout"
        }
      ]
    },
    {
      "cell_type": "code",
      "metadata": {
        "colab": {
          "base_uri": "https://localhost:8080/"
        },
        "id": "z9ZrazbznnAo",
        "outputId": "862d3031-dc09-45d5-b437-d3f6370798ee"
      },
      "source": [
        "from sklearn.ensemble import RandomForestClassifier\r\n",
        "model = RandomForestClassifier()\r\n",
        "model.fit(X_train, y_train)\r\n",
        "y_pred = model.predict(X_test)\r\n",
        "\r\n",
        "accuracy = accuracy_score(y_test, y_pred)\r\n",
        "print(\"Accuracy: %.2f%%\" % (accuracy * 100.0))"
      ],
      "execution_count": 147,
      "outputs": [
        {
          "output_type": "stream",
          "text": [
            "Accuracy: 99.61%\n"
          ],
          "name": "stdout"
        }
      ]
    },
    {
      "cell_type": "code",
      "metadata": {
        "colab": {
          "base_uri": "https://localhost:8080/"
        },
        "id": "iazsLvA_n9Tt",
        "outputId": "5f05ebf8-d29c-49f1-c9ba-fad98e504ef6"
      },
      "source": [
        "from sklearn.linear_model import LogisticRegression\r\n",
        "model = LogisticRegression()\r\n",
        "model.fit(X_train, y_train)\r\n",
        "y_pred = model.predict(X_test)\r\n",
        "\r\n",
        "accuracy = accuracy_score(y_test, y_pred)\r\n",
        "print(\"Accuracy: %.2f%%\" % (accuracy * 100.0))\r\n"
      ],
      "execution_count": 148,
      "outputs": [
        {
          "output_type": "stream",
          "text": [
            "Accuracy: 97.27%\n"
          ],
          "name": "stdout"
        },
        {
          "output_type": "stream",
          "text": [
            "/usr/local/lib/python3.6/dist-packages/sklearn/linear_model/_logistic.py:940: ConvergenceWarning: lbfgs failed to converge (status=1):\n",
            "STOP: TOTAL NO. of ITERATIONS REACHED LIMIT.\n",
            "\n",
            "Increase the number of iterations (max_iter) or scale the data as shown in:\n",
            "    https://scikit-learn.org/stable/modules/preprocessing.html\n",
            "Please also refer to the documentation for alternative solver options:\n",
            "    https://scikit-learn.org/stable/modules/linear_model.html#logistic-regression\n",
            "  extra_warning_msg=_LOGISTIC_SOLVER_CONVERGENCE_MSG)\n"
          ],
          "name": "stderr"
        }
      ]
    },
    {
      "cell_type": "code",
      "metadata": {
        "colab": {
          "base_uri": "https://localhost:8080/"
        },
        "id": "dEAYr3-EoUvc",
        "outputId": "9eec70d3-b679-4c34-ffbe-3adb4723f5df"
      },
      "source": [
        "from sklearn.tree import DecisionTreeClassifier\r\n",
        "model = DecisionTreeClassifier()\r\n",
        "model.fit(X_train, y_train)\r\n",
        "y_pred = model.predict(X_test)\r\n",
        "\r\n",
        "accuracy = accuracy_score(y_test, y_pred)\r\n",
        "print(\"Accuracy: %.2f%%\" % (accuracy * 100.0))"
      ],
      "execution_count": 149,
      "outputs": [
        {
          "output_type": "stream",
          "text": [
            "Accuracy: 99.61%\n"
          ],
          "name": "stdout"
        }
      ]
    },
    {
      "cell_type": "code",
      "metadata": {
        "id": "Ch67P0PDhZIe"
      },
      "source": [
        "#Feature Scaling\r\n",
        "from sklearn.preprocessing import StandardScaler\r\n",
        "sc = StandardScaler()\r\n",
        "X_train = sc.fit_transform(X_train)\r\n",
        "X_test = sc.transform(X_test)"
      ],
      "execution_count": 150,
      "outputs": []
    },
    {
      "cell_type": "code",
      "metadata": {
        "id": "ek8FXtUxqTDP"
      },
      "source": [
        "import keras\r\n",
        "from keras.models import Sequential\r\n",
        "from keras.layers import Dense, Dropout"
      ],
      "execution_count": 235,
      "outputs": []
    },
    {
      "cell_type": "code",
      "metadata": {
        "id": "X4xRPl3AqWpc"
      },
      "source": [
        "# Initialising the ANN\r\n",
        "classifier = Sequential()"
      ],
      "execution_count": 248,
      "outputs": []
    },
    {
      "cell_type": "code",
      "metadata": {
        "colab": {
          "base_uri": "https://localhost:8080/"
        },
        "id": "Od89xLlDqaQz",
        "outputId": "46e2706d-ceb2-4e9f-e3f3-a6ddb978f01d"
      },
      "source": [
        "X_train.shape"
      ],
      "execution_count": 249,
      "outputs": [
        {
          "output_type": "execute_result",
          "data": {
            "text/plain": [
              "(39135, 42)"
            ]
          },
          "metadata": {
            "tags": []
          },
          "execution_count": 249
        }
      ]
    },
    {
      "cell_type": "code",
      "metadata": {
        "id": "-L8BMmATqby0"
      },
      "source": [
        "classifier.add(Dense(units=50, activation='relu', input_dim=42))\r\n",
        "# Adding dropout to prevent overfitting\r\n",
        "classifier.add(Dropout(rate=0.2))"
      ],
      "execution_count": 250,
      "outputs": []
    },
    {
      "cell_type": "code",
      "metadata": {
        "id": "4gd3hipVuvkx"
      },
      "source": [
        "# Adding the second hidden layer\r\n",
        "classifier.add(Dense(units=40, activation='relu'))\r\n",
        "# Adding dropout to prevent overfitting\r\n",
        "classifier.add(Dropout(rate=0.1))"
      ],
      "execution_count": 251,
      "outputs": []
    },
    {
      "cell_type": "code",
      "metadata": {
        "id": "emkKRbgPvK_f"
      },
      "source": [
        "# Adding the output layer\r\n",
        "classifier.add(Dense(units=3, activation='softmax'))\r\n"
      ],
      "execution_count": 252,
      "outputs": []
    },
    {
      "cell_type": "code",
      "metadata": {
        "id": "nb6RoXjLvbfQ"
      },
      "source": [
        "classifier.compile(optimizer='adam', loss='sparse_categorical_crossentropy', metrics=['accuracy'])"
      ],
      "execution_count": 253,
      "outputs": []
    },
    {
      "cell_type": "code",
      "metadata": {
        "colab": {
          "base_uri": "https://localhost:8080/"
        },
        "id": "kKoR9f2Zy4qp",
        "outputId": "03ac69bc-8471-4dd6-ecfb-4d949c1628fe"
      },
      "source": [
        "classifier.fit(X_train, y_train, batch_size=100, epochs=150)"
      ],
      "execution_count": 255,
      "outputs": [
        {
          "output_type": "stream",
          "text": [
            "Epoch 1/150\n",
            "392/392 [==============================] - 1s 2ms/step - loss: 0.3398 - accuracy: 0.8453\n",
            "Epoch 2/150\n",
            "392/392 [==============================] - 1s 2ms/step - loss: 0.3048 - accuracy: 0.8678\n",
            "Epoch 3/150\n",
            "392/392 [==============================] - 1s 2ms/step - loss: 0.3020 - accuracy: 0.8690\n",
            "Epoch 4/150\n",
            "392/392 [==============================] - 1s 2ms/step - loss: 0.3017 - accuracy: 0.8686\n",
            "Epoch 5/150\n",
            "392/392 [==============================] - 1s 2ms/step - loss: 0.2947 - accuracy: 0.8732\n",
            "Epoch 6/150\n",
            "392/392 [==============================] - 1s 2ms/step - loss: 0.2880 - accuracy: 0.8742\n",
            "Epoch 7/150\n",
            "392/392 [==============================] - 1s 2ms/step - loss: 0.2871 - accuracy: 0.8749\n",
            "Epoch 8/150\n",
            "392/392 [==============================] - 1s 2ms/step - loss: 0.2866 - accuracy: 0.8749\n",
            "Epoch 9/150\n",
            "392/392 [==============================] - 1s 2ms/step - loss: 0.2859 - accuracy: 0.8747\n",
            "Epoch 10/150\n",
            "392/392 [==============================] - 1s 2ms/step - loss: 0.2861 - accuracy: 0.8750\n",
            "Epoch 11/150\n",
            "392/392 [==============================] - 1s 2ms/step - loss: 0.2864 - accuracy: 0.8750\n",
            "Epoch 12/150\n",
            "392/392 [==============================] - 1s 2ms/step - loss: 0.2857 - accuracy: 0.8747\n",
            "Epoch 13/150\n",
            "392/392 [==============================] - 1s 2ms/step - loss: 0.2882 - accuracy: 0.8756\n",
            "Epoch 14/150\n",
            "392/392 [==============================] - 1s 2ms/step - loss: 0.2950 - accuracy: 0.8748\n",
            "Epoch 15/150\n",
            "392/392 [==============================] - 1s 2ms/step - loss: 0.2853 - accuracy: 0.8755\n",
            "Epoch 16/150\n",
            "392/392 [==============================] - 1s 2ms/step - loss: 0.2863 - accuracy: 0.8747\n",
            "Epoch 17/150\n",
            "392/392 [==============================] - 1s 1ms/step - loss: 0.2861 - accuracy: 0.8750\n",
            "Epoch 18/150\n",
            "392/392 [==============================] - 1s 2ms/step - loss: 0.2861 - accuracy: 0.8751\n",
            "Epoch 19/150\n",
            "392/392 [==============================] - 1s 2ms/step - loss: 0.2862 - accuracy: 0.8749\n",
            "Epoch 20/150\n",
            "392/392 [==============================] - 1s 2ms/step - loss: 0.2871 - accuracy: 0.8745\n",
            "Epoch 21/150\n",
            "392/392 [==============================] - 1s 2ms/step - loss: 0.2851 - accuracy: 0.8752\n",
            "Epoch 22/150\n",
            "392/392 [==============================] - 1s 2ms/step - loss: 0.2856 - accuracy: 0.8748\n",
            "Epoch 23/150\n",
            "392/392 [==============================] - 1s 2ms/step - loss: 0.2848 - accuracy: 0.8754\n",
            "Epoch 24/150\n",
            "392/392 [==============================] - 1s 2ms/step - loss: 0.2844 - accuracy: 0.8756\n",
            "Epoch 25/150\n",
            "392/392 [==============================] - 1s 2ms/step - loss: 0.2851 - accuracy: 0.8752\n",
            "Epoch 26/150\n",
            "392/392 [==============================] - 1s 2ms/step - loss: 0.2853 - accuracy: 0.8753\n",
            "Epoch 27/150\n",
            "392/392 [==============================] - 1s 2ms/step - loss: 0.2913 - accuracy: 0.8753\n",
            "Epoch 28/150\n",
            "392/392 [==============================] - 1s 2ms/step - loss: 0.2816 - accuracy: 0.8760\n",
            "Epoch 29/150\n",
            "392/392 [==============================] - 1s 2ms/step - loss: 0.2800 - accuracy: 0.8763\n",
            "Epoch 30/150\n",
            "392/392 [==============================] - 1s 2ms/step - loss: 0.2802 - accuracy: 0.8764\n",
            "Epoch 31/150\n",
            "392/392 [==============================] - 1s 2ms/step - loss: 0.2814 - accuracy: 0.8761\n",
            "Epoch 32/150\n",
            "392/392 [==============================] - 1s 2ms/step - loss: 0.2842 - accuracy: 0.8756\n",
            "Epoch 33/150\n",
            "392/392 [==============================] - 1s 2ms/step - loss: 0.2857 - accuracy: 0.8750\n",
            "Epoch 34/150\n",
            "392/392 [==============================] - 1s 2ms/step - loss: 0.2882 - accuracy: 0.8746\n",
            "Epoch 35/150\n",
            "392/392 [==============================] - 1s 2ms/step - loss: 0.2860 - accuracy: 0.8746\n",
            "Epoch 36/150\n",
            "392/392 [==============================] - 1s 2ms/step - loss: 0.2849 - accuracy: 0.8753\n",
            "Epoch 37/150\n",
            "392/392 [==============================] - 1s 2ms/step - loss: 0.2853 - accuracy: 0.8748\n",
            "Epoch 38/150\n",
            "392/392 [==============================] - 1s 2ms/step - loss: 0.2940 - accuracy: 0.8746\n",
            "Epoch 39/150\n",
            "392/392 [==============================] - 1s 2ms/step - loss: 0.2946 - accuracy: 0.8695\n",
            "Epoch 40/150\n",
            "392/392 [==============================] - 1s 2ms/step - loss: 0.2934 - accuracy: 0.8695\n",
            "Epoch 41/150\n",
            "392/392 [==============================] - 1s 2ms/step - loss: 0.2957 - accuracy: 0.8679\n",
            "Epoch 42/150\n",
            "392/392 [==============================] - 1s 2ms/step - loss: 0.2946 - accuracy: 0.8693\n",
            "Epoch 43/150\n",
            "392/392 [==============================] - 1s 2ms/step - loss: 0.2945 - accuracy: 0.8689\n",
            "Epoch 44/150\n",
            "392/392 [==============================] - 1s 2ms/step - loss: 0.2947 - accuracy: 0.8687\n",
            "Epoch 45/150\n",
            "392/392 [==============================] - 1s 2ms/step - loss: 0.2953 - accuracy: 0.8683\n",
            "Epoch 46/150\n",
            "392/392 [==============================] - 1s 2ms/step - loss: 0.2936 - accuracy: 0.8698\n",
            "Epoch 47/150\n",
            "392/392 [==============================] - 1s 2ms/step - loss: 0.2935 - accuracy: 0.8695\n",
            "Epoch 48/150\n",
            "392/392 [==============================] - 1s 2ms/step - loss: 0.2929 - accuracy: 0.8699\n",
            "Epoch 49/150\n",
            "392/392 [==============================] - 1s 2ms/step - loss: 0.2845 - accuracy: 0.8751\n",
            "Epoch 50/150\n",
            "392/392 [==============================] - 1s 2ms/step - loss: 0.2850 - accuracy: 0.8749\n",
            "Epoch 51/150\n",
            "392/392 [==============================] - 1s 2ms/step - loss: 0.2852 - accuracy: 0.8754\n",
            "Epoch 52/150\n",
            "392/392 [==============================] - 1s 2ms/step - loss: 0.2846 - accuracy: 0.8753\n",
            "Epoch 53/150\n",
            "392/392 [==============================] - 1s 2ms/step - loss: 0.2892 - accuracy: 0.8750\n",
            "Epoch 54/150\n",
            "392/392 [==============================] - 1s 2ms/step - loss: 0.2907 - accuracy: 0.8748\n",
            "Epoch 55/150\n",
            "392/392 [==============================] - 1s 2ms/step - loss: 0.2888 - accuracy: 0.8751\n",
            "Epoch 56/150\n",
            "392/392 [==============================] - 1s 2ms/step - loss: 0.2898 - accuracy: 0.8749\n",
            "Epoch 57/150\n",
            "392/392 [==============================] - 1s 2ms/step - loss: 0.2870 - accuracy: 0.8754\n",
            "Epoch 58/150\n",
            "392/392 [==============================] - 1s 2ms/step - loss: 0.2890 - accuracy: 0.8751\n",
            "Epoch 59/150\n",
            "392/392 [==============================] - 1s 1ms/step - loss: 0.2885 - accuracy: 0.8749\n",
            "Epoch 60/150\n",
            "392/392 [==============================] - 1s 2ms/step - loss: 0.2890 - accuracy: 0.8749\n",
            "Epoch 61/150\n",
            "392/392 [==============================] - 1s 2ms/step - loss: 0.2949 - accuracy: 0.8736\n",
            "Epoch 62/150\n",
            "392/392 [==============================] - 1s 2ms/step - loss: 0.3112 - accuracy: 0.8696\n",
            "Epoch 63/150\n",
            "392/392 [==============================] - 1s 2ms/step - loss: 0.3124 - accuracy: 0.8690\n",
            "Epoch 64/150\n",
            "392/392 [==============================] - 1s 2ms/step - loss: 0.3124 - accuracy: 0.8689\n",
            "Epoch 65/150\n",
            "392/392 [==============================] - 1s 2ms/step - loss: 0.3118 - accuracy: 0.8692\n",
            "Epoch 66/150\n",
            "392/392 [==============================] - 1s 2ms/step - loss: 0.3120 - accuracy: 0.8690\n",
            "Epoch 67/150\n",
            "392/392 [==============================] - 1s 2ms/step - loss: 0.3131 - accuracy: 0.8684\n",
            "Epoch 68/150\n",
            "392/392 [==============================] - 1s 2ms/step - loss: 0.3107 - accuracy: 0.8695\n",
            "Epoch 69/150\n",
            "392/392 [==============================] - 1s 2ms/step - loss: 0.3098 - accuracy: 0.8701\n",
            "Epoch 70/150\n",
            "392/392 [==============================] - 1s 2ms/step - loss: 0.3118 - accuracy: 0.8690\n",
            "Epoch 71/150\n",
            "392/392 [==============================] - 1s 2ms/step - loss: 0.3129 - accuracy: 0.8687\n",
            "Epoch 72/150\n",
            "392/392 [==============================] - 1s 2ms/step - loss: 0.3089 - accuracy: 0.8707\n",
            "Epoch 73/150\n",
            "392/392 [==============================] - 1s 2ms/step - loss: 0.3164 - accuracy: 0.8680\n",
            "Epoch 74/150\n",
            "392/392 [==============================] - 1s 2ms/step - loss: 0.3106 - accuracy: 0.8696\n",
            "Epoch 75/150\n",
            "392/392 [==============================] - 1s 2ms/step - loss: 0.3114 - accuracy: 0.8694\n",
            "Epoch 76/150\n",
            "392/392 [==============================] - 1s 2ms/step - loss: 0.3152 - accuracy: 0.8695\n",
            "Epoch 77/150\n",
            "392/392 [==============================] - 1s 2ms/step - loss: 0.3125 - accuracy: 0.8689\n",
            "Epoch 78/150\n",
            "392/392 [==============================] - 1s 2ms/step - loss: 0.3105 - accuracy: 0.8700\n",
            "Epoch 79/150\n",
            "392/392 [==============================] - 1s 2ms/step - loss: 0.3126 - accuracy: 0.8686\n",
            "Epoch 80/150\n",
            "392/392 [==============================] - 1s 2ms/step - loss: 0.3110 - accuracy: 0.8697\n",
            "Epoch 81/150\n",
            "392/392 [==============================] - 1s 2ms/step - loss: 0.3136 - accuracy: 0.8683\n",
            "Epoch 82/150\n",
            "392/392 [==============================] - 1s 2ms/step - loss: 0.3114 - accuracy: 0.8693\n",
            "Epoch 83/150\n",
            "392/392 [==============================] - 1s 2ms/step - loss: 0.3075 - accuracy: 0.8708\n",
            "Epoch 84/150\n",
            "392/392 [==============================] - 1s 2ms/step - loss: 0.2909 - accuracy: 0.8748\n",
            "Epoch 85/150\n",
            "392/392 [==============================] - 1s 2ms/step - loss: 0.2901 - accuracy: 0.8748\n",
            "Epoch 86/150\n",
            "392/392 [==============================] - 1s 2ms/step - loss: 0.2895 - accuracy: 0.8749\n",
            "Epoch 87/150\n",
            "392/392 [==============================] - 1s 2ms/step - loss: 0.2891 - accuracy: 0.8751\n",
            "Epoch 88/150\n",
            "392/392 [==============================] - 1s 2ms/step - loss: 0.2889 - accuracy: 0.8752\n",
            "Epoch 89/150\n",
            "392/392 [==============================] - 1s 2ms/step - loss: 0.2886 - accuracy: 0.8751\n",
            "Epoch 90/150\n",
            "392/392 [==============================] - 1s 2ms/step - loss: 0.2903 - accuracy: 0.8748\n",
            "Epoch 91/150\n",
            "392/392 [==============================] - 1s 2ms/step - loss: 0.2870 - accuracy: 0.8757\n",
            "Epoch 92/150\n",
            "392/392 [==============================] - 1s 2ms/step - loss: 0.2893 - accuracy: 0.8752\n",
            "Epoch 93/150\n",
            "392/392 [==============================] - 1s 2ms/step - loss: 0.2905 - accuracy: 0.8749\n",
            "Epoch 94/150\n",
            "392/392 [==============================] - 1s 2ms/step - loss: 0.2873 - accuracy: 0.8757\n",
            "Epoch 95/150\n",
            "392/392 [==============================] - 1s 2ms/step - loss: 0.2892 - accuracy: 0.8749\n",
            "Epoch 96/150\n",
            "392/392 [==============================] - 1s 2ms/step - loss: 0.2875 - accuracy: 0.8752\n",
            "Epoch 97/150\n",
            "392/392 [==============================] - 1s 2ms/step - loss: 0.2915 - accuracy: 0.8748\n",
            "Epoch 98/150\n",
            "392/392 [==============================] - 1s 2ms/step - loss: 0.2903 - accuracy: 0.8746\n",
            "Epoch 99/150\n",
            "392/392 [==============================] - 1s 2ms/step - loss: 0.2912 - accuracy: 0.8744\n",
            "Epoch 100/150\n",
            "392/392 [==============================] - 1s 2ms/step - loss: 0.2902 - accuracy: 0.8748\n",
            "Epoch 101/150\n",
            "392/392 [==============================] - 1s 2ms/step - loss: 0.2898 - accuracy: 0.8749\n",
            "Epoch 102/150\n",
            "392/392 [==============================] - 1s 2ms/step - loss: 0.2957 - accuracy: 0.8734\n",
            "Epoch 103/150\n",
            "392/392 [==============================] - 1s 2ms/step - loss: 0.3130 - accuracy: 0.8679\n",
            "Epoch 104/150\n",
            "392/392 [==============================] - 1s 2ms/step - loss: 0.3117 - accuracy: 0.8695\n",
            "Epoch 105/150\n",
            "392/392 [==============================] - 1s 2ms/step - loss: 0.3128 - accuracy: 0.8688\n",
            "Epoch 106/150\n",
            "392/392 [==============================] - 1s 2ms/step - loss: 0.3114 - accuracy: 0.8696\n",
            "Epoch 107/150\n",
            "392/392 [==============================] - 1s 2ms/step - loss: 0.3089 - accuracy: 0.8706\n",
            "Epoch 108/150\n",
            "392/392 [==============================] - 1s 2ms/step - loss: 0.3120 - accuracy: 0.8687\n",
            "Epoch 109/150\n",
            "392/392 [==============================] - 1s 2ms/step - loss: 0.3109 - accuracy: 0.8693\n",
            "Epoch 110/150\n",
            "392/392 [==============================] - 1s 2ms/step - loss: 0.3079 - accuracy: 0.8701\n",
            "Epoch 111/150\n",
            "392/392 [==============================] - 1s 2ms/step - loss: 0.3079 - accuracy: 0.8696\n",
            "Epoch 112/150\n",
            "392/392 [==============================] - 1s 2ms/step - loss: 0.3057 - accuracy: 0.8700\n",
            "Epoch 113/150\n",
            "392/392 [==============================] - 1s 2ms/step - loss: 0.2987 - accuracy: 0.8712\n",
            "Epoch 114/150\n",
            "392/392 [==============================] - 1s 2ms/step - loss: 0.2867 - accuracy: 0.8752\n",
            "Epoch 115/150\n",
            "392/392 [==============================] - 1s 2ms/step - loss: 0.2858 - accuracy: 0.8755\n",
            "Epoch 116/150\n",
            "392/392 [==============================] - 1s 2ms/step - loss: 0.2851 - accuracy: 0.8755\n",
            "Epoch 117/150\n",
            "392/392 [==============================] - 1s 2ms/step - loss: 0.2867 - accuracy: 0.8748\n",
            "Epoch 118/150\n",
            "392/392 [==============================] - 1s 2ms/step - loss: 0.2840 - accuracy: 0.8746\n",
            "Epoch 119/150\n",
            "392/392 [==============================] - 1s 2ms/step - loss: 0.2828 - accuracy: 0.8753\n",
            "Epoch 120/150\n",
            "392/392 [==============================] - 1s 2ms/step - loss: 0.2819 - accuracy: 0.8757\n",
            "Epoch 121/150\n",
            "392/392 [==============================] - 1s 2ms/step - loss: 0.2826 - accuracy: 0.8754\n",
            "Epoch 122/150\n",
            "392/392 [==============================] - 1s 2ms/step - loss: 0.2875 - accuracy: 0.8729\n",
            "Epoch 123/150\n",
            "392/392 [==============================] - 1s 2ms/step - loss: 0.2867 - accuracy: 0.8742\n",
            "Epoch 124/150\n",
            "392/392 [==============================] - 1s 2ms/step - loss: 0.2935 - accuracy: 0.8701\n",
            "Epoch 125/150\n",
            "392/392 [==============================] - 1s 2ms/step - loss: 0.2944 - accuracy: 0.8697\n",
            "Epoch 126/150\n",
            "392/392 [==============================] - 1s 2ms/step - loss: 0.2947 - accuracy: 0.8689\n",
            "Epoch 127/150\n",
            "392/392 [==============================] - 1s 2ms/step - loss: 0.2939 - accuracy: 0.8694\n",
            "Epoch 128/150\n",
            "392/392 [==============================] - 1s 2ms/step - loss: 0.2948 - accuracy: 0.8685\n",
            "Epoch 129/150\n",
            "392/392 [==============================] - 1s 2ms/step - loss: 0.2950 - accuracy: 0.8682\n",
            "Epoch 130/150\n",
            "392/392 [==============================] - 1s 2ms/step - loss: 0.2952 - accuracy: 0.8679\n",
            "Epoch 131/150\n",
            "392/392 [==============================] - 1s 2ms/step - loss: 0.3034 - accuracy: 0.8523\n",
            "Epoch 132/150\n",
            "392/392 [==============================] - 1s 2ms/step - loss: 0.3046 - accuracy: 0.8490\n",
            "Epoch 133/150\n",
            "392/392 [==============================] - 1s 2ms/step - loss: 0.3714 - accuracy: 0.7829\n",
            "Epoch 134/150\n",
            "392/392 [==============================] - 1s 2ms/step - loss: 0.3494 - accuracy: 0.8352\n",
            "Epoch 135/150\n",
            "392/392 [==============================] - 1s 2ms/step - loss: 0.3270 - accuracy: 0.8535\n",
            "Epoch 136/150\n",
            "392/392 [==============================] - 1s 2ms/step - loss: 0.3198 - accuracy: 0.8618\n",
            "Epoch 137/150\n",
            "392/392 [==============================] - 1s 2ms/step - loss: 0.3136 - accuracy: 0.8651\n",
            "Epoch 138/150\n",
            "392/392 [==============================] - 1s 2ms/step - loss: 0.3026 - accuracy: 0.8681\n",
            "Epoch 139/150\n",
            "392/392 [==============================] - 1s 2ms/step - loss: 0.2940 - accuracy: 0.8710\n",
            "Epoch 140/150\n",
            "392/392 [==============================] - 1s 2ms/step - loss: 0.2942 - accuracy: 0.8712\n",
            "Epoch 141/150\n",
            "392/392 [==============================] - 1s 2ms/step - loss: 0.2932 - accuracy: 0.8714\n",
            "Epoch 142/150\n",
            "392/392 [==============================] - 1s 2ms/step - loss: 0.2919 - accuracy: 0.8716\n",
            "Epoch 143/150\n",
            "392/392 [==============================] - 1s 2ms/step - loss: 0.2916 - accuracy: 0.8720\n",
            "Epoch 144/150\n",
            "392/392 [==============================] - 1s 2ms/step - loss: 0.2908 - accuracy: 0.8724\n",
            "Epoch 145/150\n",
            "392/392 [==============================] - 1s 2ms/step - loss: 0.2899 - accuracy: 0.8721\n",
            "Epoch 146/150\n",
            "392/392 [==============================] - 1s 2ms/step - loss: 0.2880 - accuracy: 0.8730\n",
            "Epoch 147/150\n",
            "392/392 [==============================] - 1s 2ms/step - loss: 0.2886 - accuracy: 0.8728\n",
            "Epoch 148/150\n",
            "392/392 [==============================] - 1s 2ms/step - loss: 0.2879 - accuracy: 0.8732\n",
            "Epoch 149/150\n",
            "392/392 [==============================] - 1s 2ms/step - loss: 0.2882 - accuracy: 0.8731\n",
            "Epoch 150/150\n",
            "392/392 [==============================] - 1s 2ms/step - loss: 0.2869 - accuracy: 0.8736\n"
          ],
          "name": "stdout"
        },
        {
          "output_type": "execute_result",
          "data": {
            "text/plain": [
              "<tensorflow.python.keras.callbacks.History at 0x7fd4adccf4a8>"
            ]
          },
          "metadata": {
            "tags": []
          },
          "execution_count": 255
        }
      ]
    },
    {
      "cell_type": "code",
      "metadata": {
        "colab": {
          "base_uri": "https://localhost:8080/"
        },
        "id": "Wd7m5zWw5XkL",
        "outputId": "6078137f-d808-4975-83f1-169eee0b1812"
      },
      "source": [
        "classifier.evaluate(X_test,y_test)"
      ],
      "execution_count": 256,
      "outputs": [
        {
          "output_type": "stream",
          "text": [
            "306/306 [==============================] - 0s 898us/step - loss: 0.2720 - accuracy: 0.8784\n"
          ],
          "name": "stdout"
        },
        {
          "output_type": "execute_result",
          "data": {
            "text/plain": [
              "[0.2719813287258148, 0.878372848033905]"
            ]
          },
          "metadata": {
            "tags": []
          },
          "execution_count": 256
        }
      ]
    },
    {
      "cell_type": "code",
      "metadata": {
        "id": "4qov0Mtq5wQ1"
      },
      "source": [
        "y_pred = classifier.predict(X_test)"
      ],
      "execution_count": 257,
      "outputs": []
    },
    {
      "cell_type": "code",
      "metadata": {
        "colab": {
          "base_uri": "https://localhost:8080/"
        },
        "id": "q-yJU1dF6xfs",
        "outputId": "d1d0bb27-0977-4494-9cd4-790a8338138f"
      },
      "source": [
        "np.array(y_predicted_labels)"
      ],
      "execution_count": 273,
      "outputs": [
        {
          "output_type": "execute_result",
          "data": {
            "text/plain": [
              "array([0, 1, 2, ..., 0, 2, 1])"
            ]
          },
          "metadata": {
            "tags": []
          },
          "execution_count": 273
        }
      ]
    },
    {
      "cell_type": "code",
      "metadata": {
        "id": "6Ps-4vSI6D4D"
      },
      "source": [
        "y_predicted_labels = np.array([i.argmax() for i in y_pred])"
      ],
      "execution_count": 274,
      "outputs": []
    },
    {
      "cell_type": "code",
      "metadata": {
        "id": "ATqOpTiD50QW"
      },
      "source": [
        "# Making the Confusion Matrix\r\n",
        "from sklearn.metrics import confusion_matrix\r\n",
        "cm = confusion_matrix(y_test, y_predicted_labels)"
      ],
      "execution_count": 275,
      "outputs": []
    },
    {
      "cell_type": "code",
      "metadata": {
        "colab": {
          "base_uri": "https://localhost:8080/",
          "height": 282
        },
        "id": "ajzZ1AtE7R05",
        "outputId": "ad5d8a43-f548-4857-b33f-cc41e02aa26f"
      },
      "source": [
        "sns.heatmap(cm,annot=True,fmt='1g')"
      ],
      "execution_count": 280,
      "outputs": [
        {
          "output_type": "execute_result",
          "data": {
            "text/plain": [
              "<matplotlib.axes._subplots.AxesSubplot at 0x7fd4aab9e668>"
            ]
          },
          "metadata": {
            "tags": []
          },
          "execution_count": 280
        },
        {
          "output_type": "display_data",
          "data": {
            "image/png": "[encoded data removed]",
            "text/plain": [
              "<Figure size 432x288 with 2 Axes>"
            ]
          },
          "metadata": {
            "tags": [],
            "needs_background": "light"
          }
        }
      ]
    }
  ]
}