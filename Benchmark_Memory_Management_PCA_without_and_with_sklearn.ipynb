{
  "nbformat": 4,
  "nbformat_minor": 0,
  "metadata": {
    "colab": {
      "name": "Benchmark.ipynb",
      "provenance": [],
      "collapsed_sections": []
    },
    "kernelspec": {
      "name": "python3",
      "display_name": "Python 3"
    }
  },
  "cells": [
    {
      "cell_type": "code",
      "metadata": {
        "id": "mX0zSV61FsL5"
      },
      "source": [
        "import pandas as pd\n",
        "import os\n",
        "import numpy as np\n",
        "import matplotlib.pyplot as plt\n",
        "import seaborn as sns"
      ],
      "execution_count": 33,
      "outputs": []
    },
    {
      "cell_type": "code",
      "metadata": {
        "colab": {
          "base_uri": "https://localhost:8080/",
          "height": 241
        },
        "id": "lGjqd8WbFwHx",
        "outputId": "27ac672e-4e87-40c9-e718-3268c606e607"
      },
      "source": [
        "df1 = pd.read_csv('/content/drive/MyDrive/iot imbalanced data 1-1', sep='\\t')\n",
        "\n",
        "df1.head(5)"
      ],
      "execution_count": 34,
      "outputs": [
        {
          "output_type": "execute_result",
          "data": {
            "text/html": [
              "<div>\n",
              "<style scoped>\n",
              "    .dataframe tbody tr th:only-of-type {\n",
              "        vertical-align: middle;\n",
              "    }\n",
              "\n",
              "    .dataframe tbody tr th {\n",
              "        vertical-align: top;\n",
              "    }\n",
              "\n",
              "    .dataframe thead th {\n",
              "        text-align: right;\n",
              "    }\n",
              "</style>\n",
              "<table border=\"1\" class=\"dataframe\">\n",
              "  <thead>\n",
              "    <tr style=\"text-align: right;\">\n",
              "      <th></th>\n",
              "      <th>ts</th>\n",
              "      <th>uid</th>\n",
              "      <th>id.orig_h</th>\n",
              "      <th>id.orig_p</th>\n",
              "      <th>id.resp_h</th>\n",
              "      <th>id.resp_p</th>\n",
              "      <th>proto</th>\n",
              "      <th>service</th>\n",
              "      <th>duration</th>\n",
              "      <th>orig_bytes</th>\n",
              "      <th>resp_bytes</th>\n",
              "      <th>conn_state</th>\n",
              "      <th>local_orig</th>\n",
              "      <th>local_resp</th>\n",
              "      <th>missed_bytes</th>\n",
              "      <th>history</th>\n",
              "      <th>orig_pkts</th>\n",
              "      <th>orig_ip_bytes</th>\n",
              "      <th>resp_pkts</th>\n",
              "      <th>resp_ip_bytes</th>\n",
              "      <th>tunnel_parents</th>\n",
              "      <th>label</th>\n",
              "      <th>detailed-label</th>\n",
              "    </tr>\n",
              "  </thead>\n",
              "  <tbody>\n",
              "    <tr>\n",
              "      <th>0</th>\n",
              "      <td>1.545404e+09</td>\n",
              "      <td>CrDn63WjJEmrWGjqf</td>\n",
              "      <td>192.168.1.195</td>\n",
              "      <td>41040</td>\n",
              "      <td>185.244.25.235</td>\n",
              "      <td>80</td>\n",
              "      <td>tcp</td>\n",
              "      <td>-</td>\n",
              "      <td>3.139211</td>\n",
              "      <td>0</td>\n",
              "      <td>0</td>\n",
              "      <td>S0</td>\n",
              "      <td>-</td>\n",
              "      <td>-</td>\n",
              "      <td>0</td>\n",
              "      <td>S</td>\n",
              "      <td>3</td>\n",
              "      <td>180</td>\n",
              "      <td>0</td>\n",
              "      <td>0</td>\n",
              "      <td>-</td>\n",
              "      <td>Benign</td>\n",
              "      <td>-</td>\n",
              "    </tr>\n",
              "    <tr>\n",
              "      <th>1</th>\n",
              "      <td>1.545404e+09</td>\n",
              "      <td>CY9lJW3gh1Eje4usP6</td>\n",
              "      <td>192.168.1.195</td>\n",
              "      <td>41040</td>\n",
              "      <td>185.244.25.235</td>\n",
              "      <td>80</td>\n",
              "      <td>tcp</td>\n",
              "      <td>-</td>\n",
              "      <td>-</td>\n",
              "      <td>-</td>\n",
              "      <td>-</td>\n",
              "      <td>S0</td>\n",
              "      <td>-</td>\n",
              "      <td>-</td>\n",
              "      <td>0</td>\n",
              "      <td>S</td>\n",
              "      <td>1</td>\n",
              "      <td>60</td>\n",
              "      <td>0</td>\n",
              "      <td>0</td>\n",
              "      <td>-</td>\n",
              "      <td>Benign</td>\n",
              "      <td>-</td>\n",
              "    </tr>\n",
              "    <tr>\n",
              "      <th>2</th>\n",
              "      <td>1.545404e+09</td>\n",
              "      <td>CcFXLynukEDnUlvgl</td>\n",
              "      <td>192.168.1.195</td>\n",
              "      <td>41040</td>\n",
              "      <td>185.244.25.235</td>\n",
              "      <td>80</td>\n",
              "      <td>tcp</td>\n",
              "      <td>-</td>\n",
              "      <td>-</td>\n",
              "      <td>-</td>\n",
              "      <td>-</td>\n",
              "      <td>S0</td>\n",
              "      <td>-</td>\n",
              "      <td>-</td>\n",
              "      <td>0</td>\n",
              "      <td>S</td>\n",
              "      <td>1</td>\n",
              "      <td>60</td>\n",
              "      <td>0</td>\n",
              "      <td>0</td>\n",
              "      <td>-</td>\n",
              "      <td>Benign</td>\n",
              "      <td>-</td>\n",
              "    </tr>\n",
              "    <tr>\n",
              "      <th>3</th>\n",
              "      <td>1.545404e+09</td>\n",
              "      <td>CDrkrSobGYxHhYfth</td>\n",
              "      <td>192.168.1.195</td>\n",
              "      <td>41040</td>\n",
              "      <td>185.244.25.235</td>\n",
              "      <td>80</td>\n",
              "      <td>tcp</td>\n",
              "      <td>http</td>\n",
              "      <td>1.477656</td>\n",
              "      <td>149</td>\n",
              "      <td>128252</td>\n",
              "      <td>SF</td>\n",
              "      <td>-</td>\n",
              "      <td>-</td>\n",
              "      <td>2896</td>\n",
              "      <td>ShADadttcfF</td>\n",
              "      <td>94</td>\n",
              "      <td>5525</td>\n",
              "      <td>96</td>\n",
              "      <td>139044</td>\n",
              "      <td>-</td>\n",
              "      <td>Benign</td>\n",
              "      <td>-</td>\n",
              "    </tr>\n",
              "    <tr>\n",
              "      <th>4</th>\n",
              "      <td>1.545404e+09</td>\n",
              "      <td>CTWZQf2oJSvq6zmPAc</td>\n",
              "      <td>192.168.1.195</td>\n",
              "      <td>41042</td>\n",
              "      <td>185.244.25.235</td>\n",
              "      <td>80</td>\n",
              "      <td>tcp</td>\n",
              "      <td>-</td>\n",
              "      <td>3.147116</td>\n",
              "      <td>0</td>\n",
              "      <td>0</td>\n",
              "      <td>S0</td>\n",
              "      <td>-</td>\n",
              "      <td>-</td>\n",
              "      <td>0</td>\n",
              "      <td>S</td>\n",
              "      <td>3</td>\n",
              "      <td>180</td>\n",
              "      <td>0</td>\n",
              "      <td>0</td>\n",
              "      <td>-</td>\n",
              "      <td>Benign</td>\n",
              "      <td>-</td>\n",
              "    </tr>\n",
              "  </tbody>\n",
              "</table>\n",
              "</div>"
            ],
            "text/plain": [
              "             ts                 uid  ...   label  detailed-label\n",
              "0  1.545404e+09   CrDn63WjJEmrWGjqf  ...  Benign               -\n",
              "1  1.545404e+09  CY9lJW3gh1Eje4usP6  ...  Benign               -\n",
              "2  1.545404e+09   CcFXLynukEDnUlvgl  ...  Benign               -\n",
              "3  1.545404e+09   CDrkrSobGYxHhYfth  ...  Benign               -\n",
              "4  1.545404e+09  CTWZQf2oJSvq6zmPAc  ...  Benign               -\n",
              "\n",
              "[5 rows x 23 columns]"
            ]
          },
          "metadata": {
            "tags": []
          },
          "execution_count": 34
        }
      ]
    },
    {
      "cell_type": "code",
      "metadata": {
        "id": "uagzdmYiHrB1"
      },
      "source": [
        "usecol =['id.orig_h','id.orig_p','id.resp_h','id.resp_p','proto','service','duration','orig_bytes','resp_bytes','conn_state','missed_bytes','history','orig_pkts','orig_ip_bytes','resp_pkts','label','detailed-label']"
      ],
      "execution_count": 35,
      "outputs": []
    },
    {
      "cell_type": "code",
      "metadata": {
        "colab": {
          "base_uri": "https://localhost:8080/"
        },
        "id": "OqsrDxV3GEA3",
        "outputId": "96464f6f-9436-461b-c288-5d7cc5fc7265"
      },
      "source": [
        "for col in df1.columns :\n",
        "  print(df1[col].unique() , \":::\", len(df1[col].unique()),\"==\", col)"
      ],
      "execution_count": 36,
      "outputs": [
        {
          "output_type": "stream",
          "text": [
            "[1.54540382e+09 1.54540382e+09 1.54540383e+09 ... 1.54549020e+09\n",
            " 1.54549018e+09 1.54549020e+09] ::: 23145 == ts\n",
            "['CrDn63WjJEmrWGjqf' 'CY9lJW3gh1Eje4usP6' 'CcFXLynukEDnUlvgl' ...\n",
            " 'CXLZ3A2QY5E8weqpDk' 'CuXpFN3fWesWBXUhq1' 'Ct2Yhy4d33oL3yyZY9'] ::: 23145 == uid\n",
            "['192.168.1.195' '192.168.1.1'] ::: 2 == id.orig_h\n",
            "[41040 41042 41044 ... 57086 57110 57092] ::: 4383 == id.orig_p\n",
            "['185.244.25.235' '147.231.100.5' '195.113.144.201' '82.113.53.40'\n",
            " '81.2.248.189' '89.221.210.188' '192.168.1.195' '81.2.254.224'\n",
            " '192.168.1.1' '194.182.80.233' '83.167.252.118' '212.96.160.147'\n",
            " '193.150.14.191' '77.78.107.252' '31.31.74.35' '109.224.76.139'\n",
            " '37.187.104.44' '78.108.102.237' '81.200.57.13' '81.0.208.219'\n",
            " '147.251.48.140' '81.2.254.32' '217.30.75.147' '185.189.115.149'\n",
            " '46.28.110.244' '94.124.107.190' '82.113.53.36' '46.28.109.26'\n",
            " '89.221.212.46' '5.1.56.123' '80.79.25.111' '37.157.194.44'\n",
            " '89.239.10.102' '89.221.214.130' '80.241.208.120' '80.190.97.205'\n",
            " '104.238.179.228' '80.151.151.109' '66.67.61.168' '1.1.1.1' '50.50.50.53'\n",
            " '136.243.177.133' '172.98.77.203' '146.0.32.144' '82.113.53.35'\n",
            " '195.21.137.209' '123.59.209.185' '74.91.117.248' '71.61.66.148'] ::: 49 == id.resp_h\n",
            "[   80   123  6667    22    53 63798    67     1   256  5376] ::: 10 == id.resp_p\n",
            "['tcp' 'udp'] ::: 2 == proto\n",
            "['-' 'http' 'irc' 'dns' 'dhcp'] ::: 5 == service\n",
            "['3.139211' '-' '1.477656' ... '33.498912' '32.840994' '36.290833'] ::: 4654 == duration\n",
            "['0' '-' '149' '151' '148' '48' '952' '75' '152' '74' '150' '60' '288'\n",
            " '73' '156' '78' '39' '96' '384' '345' '13115' '2945024' '62' '2572' '595'\n",
            " '470' '75546624' '3643' '3445'] ::: 29 == orig_bytes\n",
            "['0' '-' '128252' '128348' '91961' '99303' '48' '164266' '17192' '124067'\n",
            " '84592' '243' '100178' '83792' '242' '103381' '110211' '234' '112443'\n",
            " '124' '288' '241' '197' '103' '206' '94' '39' '384' '192' '240' '300'\n",
            " '144' '18031' '260' '269' '17210' '151' '195' '4324' '198' '4016' '133'\n",
            " '10996' '7313'] ::: 44 == resp_bytes\n",
            "['S0' 'SF' 'S3' 'RSTR' 'S1' 'OTH'] ::: 6 == conn_state\n",
            "['-'] ::: 1 == local_orig\n",
            "['-'] ::: 1 == local_resp\n",
            "[   0 2896 5792] ::: 3 == missed_bytes\n",
            "['S' 'ShADadttcfF' 'ShADadtcfF' 'Dd' 'D' 'ShADadtctfF' 'DdAtaFf' 'ShAdDaf'\n",
            " 'ShADacdtfF' 'ShADadtctfFR' 'ShAdDaft' 'ShADadttfF' 'ShAdfDr' 'ShAfdtDr'\n",
            " 'ShAdDatf' 'ShAdDatfr' 'ShDadAf' 'ShAdD' 'ShADadf' 'ShAdDfr' 'ShAD' 'C'\n",
            " 'CCCC' 'CCC' 'ShADad' 'ShAdDa'] ::: 26 == history\n",
            "[    3     1    94    96    67    75   114   200    93    62     7     9\n",
            "     8    73    82    11    78     5    10     6     4     2  3069  4088\n",
            "  5110  4084  5105  4080  5100  2206  2038   606  1175  1023   719  2042\n",
            "  2024   239    56    12    23    53    14     0 18444  5086    19  5008\n",
            "    92  3685  3057   226   159] ::: 53 == orig_pkts\n",
            "[     180       60     5525     5699     4148     4412       76     6607\n",
            "    11444     5571     3689      447      567      559     4696     4033\n",
            "      446     4309      507      499      571     4802      671     4395\n",
            "      328      631      619      566      506      511      456      683\n",
            "      558      679      623      510      629      388      340      268\n",
            "      134       67      152      551      563      608      498      675\n",
            "      565      448      731      611   122760       40   163520   204400\n",
            "   163360   204200   163200   204000    88240    81520      373    45630\n",
            "    47000    40920  2965156      546      434      554      606      486\n",
            "    81680    80960      120      494      550      598      610      720\n",
            "    15563      618      798     3904      746      964     2216     3782\n",
            "     1480      548      442        0      668      662      562      690\n",
            " 76063056   203440      760   200320     3680   147400   122280      538\n",
            "    15767      664      600    11778] ::: 108 == orig_ip_bytes\n",
            "[   0   96   92   65   69    1  117  184   60    6    8    7   71   61\n",
            "   72   81   78    4    2    5    3 1070  289   52    9   39  340  285] ::: 28 == resp_pkts\n",
            "[     0 139044 133140  92453  97107     76 168910  28048 131755  84824\n",
            "    563    667    627 100982  85524    562 101341    615 114431    606\n",
            " 110715    328    456    614    613    658    709    253    131    262\n",
            "    122     67    608    304    674    380    561    228  74159    632\n",
            "    589    684    641  32616    179    657   7127    940    474    506\n",
            "   6156     60    706    580    693    494    749  30048    712    758\n",
            "    644  22240] ::: 62 == resp_ip_bytes\n",
            "['-'] ::: 1 == tunnel_parents\n",
            "['Benign' 'Malicious'] ::: 2 == label\n",
            "['-' 'C&C' 'PartOfAHorizontalPortScan' 'DDoS'] ::: 4 == detailed-label\n"
          ],
          "name": "stdout"
        }
      ]
    },
    {
      "cell_type": "code",
      "metadata": {
        "id": "3gjjTpR7GB5y"
      },
      "source": [
        "chunksize = 4000\n",
        "chunks = []\n",
        "a = ''\n",
        "for chunk in pd.read_csv('/content/drive/MyDrive/iot imbalanced data 1-1', sep='\\t', chunksize=chunksize, low_memory=False,usecols=usecol):\n",
        "    \n",
        "    data=chunk\n",
        "    for column in data.columns:\n",
        "        if data[column].dtype == np.int64:\n",
        "            maxVal = data[column].max()\n",
        "            if maxVal < 120:\n",
        "                data[column] = data[column].astype(np.int8)\n",
        "            elif maxVal < 32767:\n",
        "                data[column] = data[column].astype(np.int16)\n",
        "            else:\n",
        "                data[column] = data[column].astype(np.int32)\n",
        "                \n",
        "        elif data[column].dtype == np.float64:\n",
        "            maxVal = data[column].max()\n",
        "            minVal = data[data[column]>0][column].min()\n",
        "            if maxVal < 120 and minVal>0.01 :\n",
        "                data[column] = data[column].astype(np.float16)\n",
        "            else:\n",
        "                data[column] = data[column].astype(np.float32)\n",
        "        elif data[column].dtype == np.object and len(data[column].unique())/len(data[column])<=0.3:\n",
        "            \n",
        "            data[column] = data[column].astype('category')\n",
        "        else :\n",
        "          #print(column)\n",
        "          data[column] = data[column]\n",
        "    #print(chunk.info(memory_usage='deep'))\n",
        "    chunks.append(data)\n",
        "    a=data.dtypes\n",
        "df = pd.concat(chunks)\n",
        "for col in df.columns :\n",
        "  if df[col].dtype == np.object :\n",
        "    df[col] = df[col].astype('category')\n"
      ],
      "execution_count": 37,
      "outputs": []
    },
    {
      "cell_type": "code",
      "metadata": {
        "colab": {
          "base_uri": "https://localhost:8080/",
          "height": 148
        },
        "id": "NrRXcXPEJwbx",
        "outputId": "a9f39b96-f725-4b50-a2cb-65ac9a7e03b4"
      },
      "source": [
        "df.head(2)"
      ],
      "execution_count": 38,
      "outputs": [
        {
          "output_type": "execute_result",
          "data": {
            "text/html": [
              "<div>\n",
              "<style scoped>\n",
              "    .dataframe tbody tr th:only-of-type {\n",
              "        vertical-align: middle;\n",
              "    }\n",
              "\n",
              "    .dataframe tbody tr th {\n",
              "        vertical-align: top;\n",
              "    }\n",
              "\n",
              "    .dataframe thead th {\n",
              "        text-align: right;\n",
              "    }\n",
              "</style>\n",
              "<table border=\"1\" class=\"dataframe\">\n",
              "  <thead>\n",
              "    <tr style=\"text-align: right;\">\n",
              "      <th></th>\n",
              "      <th>id.orig_h</th>\n",
              "      <th>id.orig_p</th>\n",
              "      <th>id.resp_h</th>\n",
              "      <th>id.resp_p</th>\n",
              "      <th>proto</th>\n",
              "      <th>service</th>\n",
              "      <th>duration</th>\n",
              "      <th>orig_bytes</th>\n",
              "      <th>resp_bytes</th>\n",
              "      <th>conn_state</th>\n",
              "      <th>missed_bytes</th>\n",
              "      <th>history</th>\n",
              "      <th>orig_pkts</th>\n",
              "      <th>orig_ip_bytes</th>\n",
              "      <th>resp_pkts</th>\n",
              "      <th>label</th>\n",
              "      <th>detailed-label</th>\n",
              "    </tr>\n",
              "  </thead>\n",
              "  <tbody>\n",
              "    <tr>\n",
              "      <th>0</th>\n",
              "      <td>192.168.1.195</td>\n",
              "      <td>41040</td>\n",
              "      <td>185.244.25.235</td>\n",
              "      <td>80</td>\n",
              "      <td>tcp</td>\n",
              "      <td>-</td>\n",
              "      <td>3.139211</td>\n",
              "      <td>0</td>\n",
              "      <td>0</td>\n",
              "      <td>S0</td>\n",
              "      <td>0</td>\n",
              "      <td>S</td>\n",
              "      <td>3</td>\n",
              "      <td>180</td>\n",
              "      <td>0</td>\n",
              "      <td>Benign</td>\n",
              "      <td>-</td>\n",
              "    </tr>\n",
              "    <tr>\n",
              "      <th>1</th>\n",
              "      <td>192.168.1.195</td>\n",
              "      <td>41040</td>\n",
              "      <td>185.244.25.235</td>\n",
              "      <td>80</td>\n",
              "      <td>tcp</td>\n",
              "      <td>-</td>\n",
              "      <td>-</td>\n",
              "      <td>-</td>\n",
              "      <td>-</td>\n",
              "      <td>S0</td>\n",
              "      <td>0</td>\n",
              "      <td>S</td>\n",
              "      <td>1</td>\n",
              "      <td>60</td>\n",
              "      <td>0</td>\n",
              "      <td>Benign</td>\n",
              "      <td>-</td>\n",
              "    </tr>\n",
              "  </tbody>\n",
              "</table>\n",
              "</div>"
            ],
            "text/plain": [
              "       id.orig_h  id.orig_p       id.resp_h  ...  resp_pkts   label detailed-label\n",
              "0  192.168.1.195      41040  185.244.25.235  ...          0  Benign              -\n",
              "1  192.168.1.195      41040  185.244.25.235  ...          0  Benign              -\n",
              "\n",
              "[2 rows x 17 columns]"
            ]
          },
          "metadata": {
            "tags": []
          },
          "execution_count": 38
        }
      ]
    },
    {
      "cell_type": "code",
      "metadata": {
        "colab": {
          "base_uri": "https://localhost:8080/"
        },
        "id": "r7IpYnlyJ2OI",
        "outputId": "5c2cef82-184d-44eb-8cab-0e231c3b4ce6"
      },
      "source": [
        "df.isna().sum()"
      ],
      "execution_count": 39,
      "outputs": [
        {
          "output_type": "execute_result",
          "data": {
            "text/plain": [
              "id.orig_h         0\n",
              "id.orig_p         0\n",
              "id.resp_h         0\n",
              "id.resp_p         0\n",
              "proto             0\n",
              "service           0\n",
              "duration          0\n",
              "orig_bytes        0\n",
              "resp_bytes        0\n",
              "conn_state        0\n",
              "missed_bytes      0\n",
              "history           0\n",
              "orig_pkts         0\n",
              "orig_ip_bytes     0\n",
              "resp_pkts         0\n",
              "label             0\n",
              "detailed-label    0\n",
              "dtype: int64"
            ]
          },
          "metadata": {
            "tags": []
          },
          "execution_count": 39
        }
      ]
    },
    {
      "cell_type": "code",
      "metadata": {
        "colab": {
          "base_uri": "https://localhost:8080/"
        },
        "id": "WGuvxWnwJvRR",
        "outputId": "374b6317-de25-460f-f986-f90631bbaaa7"
      },
      "source": [
        "df1.info(memory_usage='deep',verbose=False)"
      ],
      "execution_count": 40,
      "outputs": [
        {
          "output_type": "stream",
          "text": [
            "<class 'pandas.core.frame.DataFrame'>\n",
            "RangeIndex: 23145 entries, 0 to 23144\n",
            "Columns: 23 entries, ts to detailed-label\n",
            "dtypes: float64(1), int64(7), object(15)\n",
            "memory usage: 21.9 MB\n"
          ],
          "name": "stdout"
        }
      ]
    },
    {
      "cell_type": "code",
      "metadata": {
        "colab": {
          "base_uri": "https://localhost:8080/"
        },
        "id": "qYMVg7vkJ-vr",
        "outputId": "4386e5ee-0e1a-4466-a1e0-b77b0f0632da"
      },
      "source": [
        "df.info(memory_usage='deep',verbose=False)"
      ],
      "execution_count": 41,
      "outputs": [
        {
          "output_type": "stream",
          "text": [
            "<class 'pandas.core.frame.DataFrame'>\n",
            "RangeIndex: 23145 entries, 0 to 23144\n",
            "Columns: 17 entries, id.orig_h to detailed-label\n",
            "dtypes: category(11), int16(3), int32(3)\n",
            "memory usage: 1.1 MB\n"
          ],
          "name": "stdout"
        }
      ]
    },
    {
      "cell_type": "code",
      "metadata": {
        "id": "qBLClKoLSnPu"
      },
      "source": [
        "from sklearn.impute import SimpleImputer\n",
        "my_imputer = SimpleImputer(missing_values='-',strategy='most_frequent')\n",
        "df.loc[:,['proto']] = my_imputer.fit_transform(df.loc[:,['proto']] )\n",
        "df.loc[:,['service']] = my_imputer.fit_transform(df.loc[:,['service']] )\n",
        "df.loc[:,['label']] = my_imputer.fit_transform(df.loc[:,['label']] )\n",
        "df.loc[:,['detailed-label']] = my_imputer.fit_transform(df.loc[:,['detailed-label']] )"
      ],
      "execution_count": 42,
      "outputs": []
    },
    {
      "cell_type": "code",
      "metadata": {
        "id": "Ocp2ryLad23t"
      },
      "source": [
        "from sklearn.impute import KNNImputer \n",
        "imputer = KNNImputer(n_neighbors=5) \n",
        "df['duration']=df['duration'].replace('-',np.nan)\n",
        "df.loc[:,['duration']] = imputer.fit_transform(df.loc[:,['duration']])"
      ],
      "execution_count": 43,
      "outputs": []
    },
    {
      "cell_type": "code",
      "metadata": {
        "id": "ceT1SUurfolc"
      },
      "source": [
        "df['orig_bytes']=df['orig_bytes'].replace('-',np.nan)\n",
        "df['resp_bytes']=df['resp_bytes'].replace('-',np.nan)\n",
        "df.loc[:,['orig_bytes']] = imputer.fit_transform(df.loc[:,['orig_bytes']])\n",
        "df.loc[:,['resp_bytes']] = imputer.fit_transform(df.loc[:,['resp_bytes']])"
      ],
      "execution_count": 44,
      "outputs": []
    },
    {
      "cell_type": "code",
      "metadata": {
        "colab": {
          "base_uri": "https://localhost:8080/",
          "height": 241
        },
        "id": "1k-d9T90c6G6",
        "outputId": "4c0aa439-19fb-4b8e-84f7-b330700b272b"
      },
      "source": [
        "df.head()"
      ],
      "execution_count": 45,
      "outputs": [
        {
          "output_type": "execute_result",
          "data": {
            "text/html": [
              "<div>\n",
              "<style scoped>\n",
              "    .dataframe tbody tr th:only-of-type {\n",
              "        vertical-align: middle;\n",
              "    }\n",
              "\n",
              "    .dataframe tbody tr th {\n",
              "        vertical-align: top;\n",
              "    }\n",
              "\n",
              "    .dataframe thead th {\n",
              "        text-align: right;\n",
              "    }\n",
              "</style>\n",
              "<table border=\"1\" class=\"dataframe\">\n",
              "  <thead>\n",
              "    <tr style=\"text-align: right;\">\n",
              "      <th></th>\n",
              "      <th>id.orig_h</th>\n",
              "      <th>id.orig_p</th>\n",
              "      <th>id.resp_h</th>\n",
              "      <th>id.resp_p</th>\n",
              "      <th>proto</th>\n",
              "      <th>service</th>\n",
              "      <th>duration</th>\n",
              "      <th>orig_bytes</th>\n",
              "      <th>resp_bytes</th>\n",
              "      <th>conn_state</th>\n",
              "      <th>missed_bytes</th>\n",
              "      <th>history</th>\n",
              "      <th>orig_pkts</th>\n",
              "      <th>orig_ip_bytes</th>\n",
              "      <th>resp_pkts</th>\n",
              "      <th>label</th>\n",
              "      <th>detailed-label</th>\n",
              "    </tr>\n",
              "  </thead>\n",
              "  <tbody>\n",
              "    <tr>\n",
              "      <th>0</th>\n",
              "      <td>192.168.1.195</td>\n",
              "      <td>41040</td>\n",
              "      <td>185.244.25.235</td>\n",
              "      <td>80</td>\n",
              "      <td>tcp</td>\n",
              "      <td>irc</td>\n",
              "      <td>3.139211</td>\n",
              "      <td>0.000000</td>\n",
              "      <td>0.000000</td>\n",
              "      <td>S0</td>\n",
              "      <td>0</td>\n",
              "      <td>S</td>\n",
              "      <td>3</td>\n",
              "      <td>180</td>\n",
              "      <td>0</td>\n",
              "      <td>Benign</td>\n",
              "      <td>DDoS</td>\n",
              "    </tr>\n",
              "    <tr>\n",
              "      <th>1</th>\n",
              "      <td>192.168.1.195</td>\n",
              "      <td>41040</td>\n",
              "      <td>185.244.25.235</td>\n",
              "      <td>80</td>\n",
              "      <td>tcp</td>\n",
              "      <td>irc</td>\n",
              "      <td>22.806503</td>\n",
              "      <td>14788.684646</td>\n",
              "      <td>350.429431</td>\n",
              "      <td>S0</td>\n",
              "      <td>0</td>\n",
              "      <td>S</td>\n",
              "      <td>1</td>\n",
              "      <td>60</td>\n",
              "      <td>0</td>\n",
              "      <td>Benign</td>\n",
              "      <td>DDoS</td>\n",
              "    </tr>\n",
              "    <tr>\n",
              "      <th>2</th>\n",
              "      <td>192.168.1.195</td>\n",
              "      <td>41040</td>\n",
              "      <td>185.244.25.235</td>\n",
              "      <td>80</td>\n",
              "      <td>tcp</td>\n",
              "      <td>irc</td>\n",
              "      <td>22.806503</td>\n",
              "      <td>14788.684646</td>\n",
              "      <td>350.429431</td>\n",
              "      <td>S0</td>\n",
              "      <td>0</td>\n",
              "      <td>S</td>\n",
              "      <td>1</td>\n",
              "      <td>60</td>\n",
              "      <td>0</td>\n",
              "      <td>Benign</td>\n",
              "      <td>DDoS</td>\n",
              "    </tr>\n",
              "    <tr>\n",
              "      <th>3</th>\n",
              "      <td>192.168.1.195</td>\n",
              "      <td>41040</td>\n",
              "      <td>185.244.25.235</td>\n",
              "      <td>80</td>\n",
              "      <td>tcp</td>\n",
              "      <td>http</td>\n",
              "      <td>1.477656</td>\n",
              "      <td>149.000000</td>\n",
              "      <td>128252.000000</td>\n",
              "      <td>SF</td>\n",
              "      <td>2896</td>\n",
              "      <td>ShADadttcfF</td>\n",
              "      <td>94</td>\n",
              "      <td>5525</td>\n",
              "      <td>96</td>\n",
              "      <td>Benign</td>\n",
              "      <td>DDoS</td>\n",
              "    </tr>\n",
              "    <tr>\n",
              "      <th>4</th>\n",
              "      <td>192.168.1.195</td>\n",
              "      <td>41042</td>\n",
              "      <td>185.244.25.235</td>\n",
              "      <td>80</td>\n",
              "      <td>tcp</td>\n",
              "      <td>irc</td>\n",
              "      <td>3.147116</td>\n",
              "      <td>0.000000</td>\n",
              "      <td>0.000000</td>\n",
              "      <td>S0</td>\n",
              "      <td>0</td>\n",
              "      <td>S</td>\n",
              "      <td>3</td>\n",
              "      <td>180</td>\n",
              "      <td>0</td>\n",
              "      <td>Benign</td>\n",
              "      <td>DDoS</td>\n",
              "    </tr>\n",
              "  </tbody>\n",
              "</table>\n",
              "</div>"
            ],
            "text/plain": [
              "       id.orig_h  id.orig_p       id.resp_h  ...  resp_pkts   label detailed-label\n",
              "0  192.168.1.195      41040  185.244.25.235  ...          0  Benign           DDoS\n",
              "1  192.168.1.195      41040  185.244.25.235  ...          0  Benign           DDoS\n",
              "2  192.168.1.195      41040  185.244.25.235  ...          0  Benign           DDoS\n",
              "3  192.168.1.195      41040  185.244.25.235  ...         96  Benign           DDoS\n",
              "4  192.168.1.195      41042  185.244.25.235  ...          0  Benign           DDoS\n",
              "\n",
              "[5 rows x 17 columns]"
            ]
          },
          "metadata": {
            "tags": []
          },
          "execution_count": 45
        }
      ]
    },
    {
      "cell_type": "code",
      "metadata": {
        "colab": {
          "base_uri": "https://localhost:8080/"
        },
        "id": "ZPdB1KxAan62",
        "outputId": "03a9fa6d-cdad-496f-c27f-36fd5842daa8"
      },
      "source": [
        "for col in df.columns :\n",
        "  print(df[col].unique() , \":::\", len(df[col].unique()),\"==\", col)"
      ],
      "execution_count": 46,
      "outputs": [
        {
          "output_type": "stream",
          "text": [
            "['192.168.1.195', '192.168.1.1']\n",
            "Categories (2, object): ['192.168.1.195', '192.168.1.1'] ::: 2 == id.orig_h\n",
            "[41040 41042 41044 ... 57086 57110 57092] ::: 4383 == id.orig_p\n",
            "['185.244.25.235', '147.231.100.5', '195.113.144.201', '82.113.53.40', '81.2.248.189', ..., '82.113.53.35', '195.21.137.209', '123.59.209.185', '74.91.117.248', '71.61.66.148']\n",
            "Length: 49\n",
            "Categories (49, object): ['185.244.25.235', '147.231.100.5', '195.113.144.201', '82.113.53.40', ...,\n",
            "                          '195.21.137.209', '123.59.209.185', '74.91.117.248', '71.61.66.148'] ::: 49 == id.resp_h\n",
            "[   80   123  6667    22    53 63798    67     1   256  5376] ::: 10 == id.resp_p\n",
            "['tcp' 'udp'] ::: 2 == proto\n",
            "['irc' 'http' 'dns' 'dhcp'] ::: 4 == service\n",
            "[ 3.139211   22.80650261  1.477656   ... 33.498912   32.840994\n",
            " 36.290833  ] ::: 4654 == duration\n",
            "[0.00000000e+00 1.47886846e+04 1.49000000e+02 1.51000000e+02\n",
            " 1.48000000e+02 4.80000000e+01 9.52000000e+02 7.50000000e+01\n",
            " 1.52000000e+02 7.40000000e+01 1.50000000e+02 6.00000000e+01\n",
            " 2.88000000e+02 7.30000000e+01 1.56000000e+02 7.80000000e+01\n",
            " 3.90000000e+01 9.60000000e+01 3.84000000e+02 3.45000000e+02\n",
            " 1.31150000e+04 2.94502400e+06 6.20000000e+01 2.57200000e+03\n",
            " 5.95000000e+02 4.70000000e+02 7.55466240e+07 3.64300000e+03\n",
            " 3.44500000e+03] ::: 29 == orig_bytes\n",
            "[0.00000000e+00 3.50429431e+02 1.28252000e+05 1.28348000e+05\n",
            " 9.19610000e+04 9.93030000e+04 4.80000000e+01 1.64266000e+05\n",
            " 1.71920000e+04 1.24067000e+05 8.45920000e+04 2.43000000e+02\n",
            " 1.00178000e+05 8.37920000e+04 2.42000000e+02 1.03381000e+05\n",
            " 1.10211000e+05 2.34000000e+02 1.12443000e+05 1.24000000e+02\n",
            " 2.88000000e+02 2.41000000e+02 1.97000000e+02 1.03000000e+02\n",
            " 2.06000000e+02 9.40000000e+01 3.90000000e+01 3.84000000e+02\n",
            " 1.92000000e+02 2.40000000e+02 3.00000000e+02 1.44000000e+02\n",
            " 1.80310000e+04 2.60000000e+02 2.69000000e+02 1.72100000e+04\n",
            " 1.51000000e+02 1.95000000e+02 4.32400000e+03 1.98000000e+02\n",
            " 4.01600000e+03 1.33000000e+02 1.09960000e+04 7.31300000e+03] ::: 44 == resp_bytes\n",
            "['S0', 'SF', 'S3', 'RSTR', 'S1', 'OTH']\n",
            "Categories (6, object): ['S0', 'SF', 'S3', 'RSTR', 'S1', 'OTH'] ::: 6 == conn_state\n",
            "[   0 2896 5792] ::: 3 == missed_bytes\n",
            "['S', 'ShADadttcfF', 'ShADadtcfF', 'Dd', 'D', ..., 'C', 'CCCC', 'CCC', 'ShADad', 'ShAdDa']\n",
            "Length: 26\n",
            "Categories (26, object): ['S', 'ShADadttcfF', 'ShADadtcfF', 'Dd', ..., 'CCCC', 'CCC', 'ShADad',\n",
            "                          'ShAdDa'] ::: 26 == history\n",
            "[    3     1    94    96    67    75   114   200    93    62     7     9\n",
            "     8    73    82    11    78     5    10     6     4     2  3069  4088\n",
            "  5110  4084  5105  4080  5100  2206  2038   606  1175  1023   719  2042\n",
            "  2024   239    56    12    23    53    14     0 18444  5086    19  5008\n",
            "    92  3685  3057   226   159] ::: 53 == orig_pkts\n",
            "[     180       60     5525     5699     4148     4412       76     6607\n",
            "    11444     5571     3689      447      567      559     4696     4033\n",
            "      446     4309      507      499      571     4802      671     4395\n",
            "      328      631      619      566      506      511      456      683\n",
            "      558      679      623      510      629      388      340      268\n",
            "      134       67      152      551      563      608      498      675\n",
            "      565      448      731      611   122760       40   163520   204400\n",
            "   163360   204200   163200   204000    88240    81520      373    45630\n",
            "    47000    40920  2965156      546      434      554      606      486\n",
            "    81680    80960      120      494      550      598      610      720\n",
            "    15563      618      798     3904      746      964     2216     3782\n",
            "     1480      548      442        0      668      662      562      690\n",
            " 76063056   203440      760   200320     3680   147400   122280      538\n",
            "    15767      664      600    11778] ::: 108 == orig_ip_bytes\n",
            "[   0   96   92   65   69    1  117  184   60    6    8    7   71   61\n",
            "   72   81   78    4    2    5    3 1070  289   52    9   39  340  285] ::: 28 == resp_pkts\n",
            "['Benign' 'Malicious'] ::: 2 == label\n",
            "['DDoS' 'C&C' 'PartOfAHorizontalPortScan'] ::: 3 == detailed-label\n"
          ],
          "name": "stdout"
        }
      ]
    },
    {
      "cell_type": "code",
      "metadata": {
        "id": "8w1LPGgzgw63"
      },
      "source": [
        "for col in df.columns :\n",
        "  if df[col].dtype == np.object :\n",
        "    df[col] = df[col].astype('category')"
      ],
      "execution_count": 47,
      "outputs": []
    },
    {
      "cell_type": "code",
      "metadata": {
        "id": "j4BLuUecK8Mf"
      },
      "source": [
        "df['duration'] = df['duration'].astype('float16')\n",
        "df['orig_bytes'] = df['orig_bytes'].astype('float64')\n",
        "df['resp_bytes'] = df['resp_bytes'].astype('float64')"
      ],
      "execution_count": 48,
      "outputs": []
    },
    {
      "cell_type": "code",
      "metadata": {
        "colab": {
          "base_uri": "https://localhost:8080/"
        },
        "id": "S39nkWcCLcse",
        "outputId": "fd36f8f6-9840-49d0-cdcf-af70fc8bf2d2"
      },
      "source": [
        "df.info()"
      ],
      "execution_count": 49,
      "outputs": [
        {
          "output_type": "stream",
          "text": [
            "<class 'pandas.core.frame.DataFrame'>\n",
            "RangeIndex: 23145 entries, 0 to 23144\n",
            "Data columns (total 17 columns):\n",
            " #   Column          Non-Null Count  Dtype   \n",
            "---  ------          --------------  -----   \n",
            " 0   id.orig_h       23145 non-null  category\n",
            " 1   id.orig_p       23145 non-null  int32   \n",
            " 2   id.resp_h       23145 non-null  category\n",
            " 3   id.resp_p       23145 non-null  int32   \n",
            " 4   proto           23145 non-null  category\n",
            " 5   service         23145 non-null  category\n",
            " 6   duration        23145 non-null  float16 \n",
            " 7   orig_bytes      23145 non-null  float64 \n",
            " 8   resp_bytes      23145 non-null  float64 \n",
            " 9   conn_state      23145 non-null  category\n",
            " 10  missed_bytes    23145 non-null  int16   \n",
            " 11  history         23145 non-null  category\n",
            " 12  orig_pkts       23145 non-null  int16   \n",
            " 13  orig_ip_bytes   23145 non-null  int32   \n",
            " 14  resp_pkts       23145 non-null  int16   \n",
            " 15  label           23145 non-null  category\n",
            " 16  detailed-label  23145 non-null  category\n",
            "dtypes: category(8), float16(1), float64(2), int16(3), int32(3)\n",
            "memory usage: 998.5 KB\n"
          ],
          "name": "stdout"
        }
      ]
    },
    {
      "cell_type": "code",
      "metadata": {
        "id": "9GK7210EMo4X"
      },
      "source": [
        "import seaborn as sn"
      ],
      "execution_count": 50,
      "outputs": []
    },
    {
      "cell_type": "code",
      "metadata": {
        "colab": {
          "base_uri": "https://localhost:8080/",
          "height": 670
        },
        "id": "KIqqdOxrMlbH",
        "outputId": "48a898b6-8e99-48d4-9c53-869939036cd6"
      },
      "source": [
        "plt.figure(figsize=(10,10))\n",
        "sn.heatmap(df.corr(),annot=True)"
      ],
      "execution_count": 51,
      "outputs": [
        {
          "output_type": "execute_result",
          "data": {
            "text/plain": [
              "<matplotlib.axes._subplots.AxesSubplot at 0x7f0e41d2f550>"
            ]
          },
          "metadata": {
            "tags": []
          },
          "execution_count": 51
        },
        {
          "output_type": "display_data",
          "data": {
            "image/png": "[encoded data removed]",
            "text/plain": [
              "<Figure size 720x720 with 2 Axes>"
            ]
          },
          "metadata": {
            "tags": [],
            "needs_background": "light"
          }
        }
      ]
    },
    {
      "cell_type": "code",
      "metadata": {
        "id": "otD9JfDUV3AR"
      },
      "source": [
        "from sklearn.preprocessing import LabelEncoder\n",
        "le = LabelEncoder()\n",
        "for col in df.columns :\n",
        "  if df[col].dtype.name=='category' :\n",
        "    df[col] = le.fit_transform(df[col])\n"
      ],
      "execution_count": 52,
      "outputs": []
    },
    {
      "cell_type": "code",
      "metadata": {
        "id": "xti8Ins2PlHe"
      },
      "source": [
        "df['id.orig_h'] = df['id.orig_h'].astype(np.int8)\n",
        "df['id.orig_p'] = df['id.orig_p'].astype(np.int64)\n",
        "df['id.resp_h'] = df['id.resp_h'].astype(np.int8)\n",
        "df['id.resp_p'] = df['id.resp_p'].astype(np.int8)\n",
        "df['proto'] = df['proto'].astype(np.int8)"
      ],
      "execution_count": 53,
      "outputs": []
    },
    {
      "cell_type": "code",
      "metadata": {
        "colab": {
          "base_uri": "https://localhost:8080/",
          "height": 148
        },
        "id": "gzZdgYQsWV_m",
        "outputId": "db73197e-8332-4bd3-cf07-f97fb7497b6e"
      },
      "source": [
        "df.head(2)"
      ],
      "execution_count": 54,
      "outputs": [
        {
          "output_type": "execute_result",
          "data": {
            "text/html": [
              "<div>\n",
              "<style scoped>\n",
              "    .dataframe tbody tr th:only-of-type {\n",
              "        vertical-align: middle;\n",
              "    }\n",
              "\n",
              "    .dataframe tbody tr th {\n",
              "        vertical-align: top;\n",
              "    }\n",
              "\n",
              "    .dataframe thead th {\n",
              "        text-align: right;\n",
              "    }\n",
              "</style>\n",
              "<table border=\"1\" class=\"dataframe\">\n",
              "  <thead>\n",
              "    <tr style=\"text-align: right;\">\n",
              "      <th></th>\n",
              "      <th>id.orig_h</th>\n",
              "      <th>id.orig_p</th>\n",
              "      <th>id.resp_h</th>\n",
              "      <th>id.resp_p</th>\n",
              "      <th>proto</th>\n",
              "      <th>service</th>\n",
              "      <th>duration</th>\n",
              "      <th>orig_bytes</th>\n",
              "      <th>resp_bytes</th>\n",
              "      <th>conn_state</th>\n",
              "      <th>missed_bytes</th>\n",
              "      <th>history</th>\n",
              "      <th>orig_pkts</th>\n",
              "      <th>orig_ip_bytes</th>\n",
              "      <th>resp_pkts</th>\n",
              "      <th>label</th>\n",
              "      <th>detailed-label</th>\n",
              "    </tr>\n",
              "  </thead>\n",
              "  <tbody>\n",
              "    <tr>\n",
              "      <th>0</th>\n",
              "      <td>1</td>\n",
              "      <td>41040</td>\n",
              "      <td>10</td>\n",
              "      <td>80</td>\n",
              "      <td>0</td>\n",
              "      <td>3</td>\n",
              "      <td>3.138672</td>\n",
              "      <td>0.000000</td>\n",
              "      <td>0.000000</td>\n",
              "      <td>2</td>\n",
              "      <td>0</td>\n",
              "      <td>6</td>\n",
              "      <td>3</td>\n",
              "      <td>180</td>\n",
              "      <td>0</td>\n",
              "      <td>0</td>\n",
              "      <td>1</td>\n",
              "    </tr>\n",
              "    <tr>\n",
              "      <th>1</th>\n",
              "      <td>1</td>\n",
              "      <td>41040</td>\n",
              "      <td>10</td>\n",
              "      <td>80</td>\n",
              "      <td>0</td>\n",
              "      <td>3</td>\n",
              "      <td>22.812500</td>\n",
              "      <td>14788.684646</td>\n",
              "      <td>350.429431</td>\n",
              "      <td>2</td>\n",
              "      <td>0</td>\n",
              "      <td>6</td>\n",
              "      <td>1</td>\n",
              "      <td>60</td>\n",
              "      <td>0</td>\n",
              "      <td>0</td>\n",
              "      <td>1</td>\n",
              "    </tr>\n",
              "  </tbody>\n",
              "</table>\n",
              "</div>"
            ],
            "text/plain": [
              "   id.orig_h  id.orig_p  id.resp_h  ...  resp_pkts  label  detailed-label\n",
              "0          1      41040         10  ...          0      0               1\n",
              "1          1      41040         10  ...          0      0               1\n",
              "\n",
              "[2 rows x 17 columns]"
            ]
          },
          "metadata": {
            "tags": []
          },
          "execution_count": 54
        }
      ]
    },
    {
      "cell_type": "code",
      "metadata": {
        "colab": {
          "base_uri": "https://localhost:8080/"
        },
        "id": "iFyJpbslSVAY",
        "outputId": "2d53051f-eae6-4f05-a36a-8d3440e43726"
      },
      "source": [
        "df['detailed-label'].value_counts()"
      ],
      "execution_count": 55,
      "outputs": [
        {
          "output_type": "execute_result",
          "data": {
            "text/plain": [
              "1    16317\n",
              "0     6706\n",
              "2      122\n",
              "Name: detailed-label, dtype: int64"
            ]
          },
          "metadata": {
            "tags": []
          },
          "execution_count": 55
        }
      ]
    },
    {
      "cell_type": "code",
      "metadata": {
        "colab": {
          "base_uri": "https://localhost:8080/"
        },
        "id": "_trwBvbnzqiK",
        "outputId": "e70c544c-d516-4e4c-f541-5cfe6a2af5dc"
      },
      "source": [
        "df.columns"
      ],
      "execution_count": 56,
      "outputs": [
        {
          "output_type": "execute_result",
          "data": {
            "text/plain": [
              "Index(['id.orig_h', 'id.orig_p', 'id.resp_h', 'id.resp_p', 'proto', 'service',\n",
              "       'duration', 'orig_bytes', 'resp_bytes', 'conn_state', 'missed_bytes',\n",
              "       'history', 'orig_pkts', 'orig_ip_bytes', 'resp_pkts', 'label',\n",
              "       'detailed-label'],\n",
              "      dtype='object')"
            ]
          },
          "metadata": {
            "tags": []
          },
          "execution_count": 56
        }
      ]
    },
    {
      "cell_type": "code",
      "metadata": {
        "colab": {
          "base_uri": "https://localhost:8080/"
        },
        "id": "lTwQGDp-2Abe",
        "outputId": "2a994aa1-3a36-4c5f-f328-ef5f58143273"
      },
      "source": [
        "from imblearn.combine import SMOTETomek\n",
        "\n",
        "smt = SMOTETomek(ratio='auto')\n",
        "X_smt, y_smt = smt.fit_sample(df.drop(['detailed-label','orig_bytes','resp_bytes','missed_bytes'],axis=1), df['detailed-label'])"
      ],
      "execution_count": 91,
      "outputs": [
        {
          "output_type": "stream",
          "text": [
            "/usr/local/lib/python3.7/dist-packages/sklearn/utils/deprecation.py:87: FutureWarning: Function safe_indexing is deprecated; safe_indexing is deprecated in version 0.22 and will be removed in version 0.24.\n",
            "  warnings.warn(msg, category=FutureWarning)\n",
            "/usr/local/lib/python3.7/dist-packages/sklearn/utils/deprecation.py:87: FutureWarning: Function safe_indexing is deprecated; safe_indexing is deprecated in version 0.22 and will be removed in version 0.24.\n",
            "  warnings.warn(msg, category=FutureWarning)\n",
            "/usr/local/lib/python3.7/dist-packages/sklearn/utils/deprecation.py:87: FutureWarning: Function safe_indexing is deprecated; safe_indexing is deprecated in version 0.22 and will be removed in version 0.24.\n",
            "  warnings.warn(msg, category=FutureWarning)\n"
          ],
          "name": "stderr"
        }
      ]
    },
    {
      "cell_type": "code",
      "metadata": {
        "colab": {
          "base_uri": "https://localhost:8080/"
        },
        "id": "2JpLz64R3t-3",
        "outputId": "d28e1bf9-0392-4f88-ba3d-298420fc9d34"
      },
      "source": [
        "pd.Series(y_smt).value_counts()"
      ],
      "execution_count": 92,
      "outputs": [
        {
          "output_type": "execute_result",
          "data": {
            "text/plain": [
              "0    16317\n",
              "2    16293\n",
              "1    16293\n",
              "dtype: int64"
            ]
          },
          "metadata": {
            "tags": []
          },
          "execution_count": 92
        }
      ]
    },
    {
      "cell_type": "code",
      "metadata": {
        "id": "BU3jfsh_S1l6"
      },
      "source": [
        "from xgboost import XGBClassifier\n",
        "from sklearn.model_selection import train_test_split\n",
        "from sklearn.metrics import accuracy_score\n",
        "from sklearn.linear_model import LogisticRegression,LinearRegression\n",
        "from sklearn.preprocessing import StandardScaler\n",
        "sc = StandardScaler()\n",
        "\n",
        "X_train, X_test, y_train, y_test = train_test_split(X_smt, y_smt, test_size=0.2, random_state=1)\n",
        "\n"
      ],
      "execution_count": 93,
      "outputs": []
    },
    {
      "cell_type": "markdown",
      "metadata": {
        "id": "4HniUV_SspK8"
      },
      "source": [
        "# **Steps Involved in the PCA**\n",
        "\n",
        "\n",
        "```\n",
        "Step 1: Standardize the dataset.\n",
        "Step 2: Calculate the covariance matrix for the features in the dataset.\n",
        "Step 3: Calculate the eigenvalues and eigenvectors for the covariance matrix.\n",
        "Step 4: Sort eigenvalues and their corresponding eigenvectors.\n",
        "Step 5: Pick k eigenvalues and form a matrix of eigenvectors.\n",
        "Step 6: Transform the original matrix.\n",
        "```\n",
        "\n"
      ]
    },
    {
      "cell_type": "code",
      "metadata": {
        "id": "JXNH8ntXtGia"
      },
      "source": [
        "#Step 1: Standardize the dataset.\n",
        "X_scaled = sc.fit_transform(X_train)\n",
        "X_scaled_test = sc.transform(X_test)\n"
      ],
      "execution_count": 94,
      "outputs": []
    },
    {
      "cell_type": "code",
      "metadata": {
        "colab": {
          "base_uri": "https://localhost:8080/"
        },
        "id": "6Iu6Px0ktzZj",
        "outputId": "0f9e9533-8d04-4b0e-ad89-00b7bb804c53"
      },
      "source": [
        "X_scaled[0]"
      ],
      "execution_count": 95,
      "outputs": [
        {
          "output_type": "execute_result",
          "data": {
            "text/plain": [
              "array([ 0.00505586,  0.85060621, -1.07863357,  0.98757085, -0.20049785,\n",
              "        0.06337784,  0.0061047 , -1.3280089 , -1.09343   , -0.17031085,\n",
              "       -0.02817236, -0.09256158,  0.199883  ])"
            ]
          },
          "metadata": {
            "tags": []
          },
          "execution_count": 95
        }
      ]
    },
    {
      "cell_type": "code",
      "metadata": {
        "colab": {
          "base_uri": "https://localhost:8080/"
        },
        "id": "Tu44BS7Ct116",
        "outputId": "ea8a9678-e614-4371-ae9a-f495377ff8a8"
      },
      "source": [
        "#Step 2: Calculate the covariance matrix for the features in the dataset.\n",
        "mean_vec = np.mean(X_scaled, axis=0)\n",
        "cov_mat = (X_scaled - mean_vec).T.dot((X_scaled - mean_vec)) / (X_scaled.shape[0]-1)\n",
        "print('Covariance matrix \\n%s' %cov_mat)"
      ],
      "execution_count": 81,
      "outputs": [
        {
          "output_type": "stream",
          "text": [
            "Covariance matrix \n",
            "[[ 1.00002556e+00  1.85844383e-03  8.28409400e-04  4.50482293e-03\n",
            "   1.01048131e-03 -3.37437784e-04 -8.61964616e-03 -1.39293005e-02\n",
            "   1.67135768e-04 -6.99133835e-04 -1.76088377e-05 -1.34358205e-01\n",
            "   2.52163699e-02]\n",
            " [ 1.85844383e-03  1.00002556e+00 -6.46705601e-01 -8.34137782e-02\n",
            "  -4.14268758e-01  9.48572138e-03  4.77584911e-03 -4.63549971e-01\n",
            "  -2.21047098e-01 -1.37719463e-01 -1.35022245e-02  1.08560580e-02\n",
            "   4.10455241e-01]\n",
            " [ 8.28409400e-04 -6.46705601e-01  1.00002556e+00 -5.02559047e-02\n",
            "   8.69655437e-02  1.79524078e-02 -1.44356312e-03  4.44860102e-01\n",
            "   3.09029606e-01  1.97242753e-01  1.61328030e-02 -3.28446815e-02\n",
            "  -8.81311035e-02]\n",
            " [ 4.50482293e-03 -8.34137782e-02 -5.02559047e-02  1.00002556e+00\n",
            "   4.02539615e-01 -1.01030161e-02 -3.26594092e-03 -5.37221160e-01\n",
            "  -6.70243124e-01  1.41349954e-02 -1.60953448e-02 -9.54169780e-02\n",
            "  -4.09721543e-01]\n",
            " [ 1.01048131e-03 -4.14268758e-01  8.69655437e-02  4.02539615e-01\n",
            "   1.00002556e+00 -3.25946804e-01 -7.64359267e-03  2.77122540e-01\n",
            "  -7.09996063e-02 -7.27705556e-03  5.39866837e-02 -3.47611452e-03\n",
            "  -9.61510350e-01]\n",
            " [-3.37437784e-04  9.48572138e-03  1.79524078e-02 -1.01030161e-02\n",
            "  -3.25946804e-01  1.00002556e+00  3.72677965e-03 -5.93888530e-02\n",
            "   2.31873671e-02  1.07419108e-02  1.65147485e-03 -2.28392999e-02\n",
            "   3.32895885e-01]\n",
            " [-8.61964616e-03  4.77584911e-03 -1.44356312e-03 -3.26594092e-03\n",
            "  -7.64359267e-03  3.72677965e-03  1.00002556e+00 -3.86457886e-03\n",
            "   2.53524841e-02 -4.69204871e-03 -6.00367831e-04  9.32094361e-01\n",
            "   7.05900904e-03]\n",
            " [-1.39293005e-02 -4.63549971e-01  4.44860102e-01 -5.37221160e-01\n",
            "   2.77122540e-01 -5.93888530e-02 -3.86457886e-03  1.00002556e+00\n",
            "   8.60081202e-01  5.32315696e-02  7.98827158e-03  1.64997131e-01\n",
            "  -2.78298712e-01]\n",
            " [ 1.67135768e-04 -2.21047098e-01  3.09029606e-01 -6.70243124e-01\n",
            "  -7.09996063e-02  2.31873671e-02  2.53524841e-02  8.60081202e-01\n",
            "   1.00002556e+00  2.96762966e-02 -2.27161932e-03  2.37014420e-01\n",
            "   6.45754847e-02]\n",
            " [-6.99133835e-04 -1.37719463e-01  1.97242753e-01  1.41349954e-02\n",
            "  -7.27705556e-03  1.07419108e-02 -4.69204871e-03  5.32315696e-02\n",
            "   2.96762966e-02  1.00002556e+00  2.32618505e-01 -8.11051746e-03\n",
            "   3.14323647e-02]\n",
            " [-1.76088377e-05 -1.35022245e-02  1.61328030e-02 -1.60953448e-02\n",
            "   5.39866837e-02  1.65147485e-03 -6.00367831e-04  7.98827158e-03\n",
            "  -2.27161932e-03  2.32618505e-01  1.00002556e+00 -1.47879794e-03\n",
            "   4.93312734e-03]\n",
            " [-1.34358205e-01  1.08560580e-02 -3.28446815e-02 -9.54169780e-02\n",
            "  -3.47611452e-03 -2.28392999e-02  9.32094361e-01  1.64997131e-01\n",
            "   2.37014420e-01 -8.11051746e-03 -1.47879794e-03  1.00002556e+00\n",
            "  -1.81162120e-02]\n",
            " [ 2.52163699e-02  4.10455241e-01 -8.81311035e-02 -4.09721543e-01\n",
            "  -9.61510350e-01  3.32895885e-01  7.05900904e-03 -2.78298712e-01\n",
            "   6.45754847e-02  3.14323647e-02  4.93312734e-03 -1.81162120e-02\n",
            "   1.00002556e+00]]\n"
          ],
          "name": "stdout"
        }
      ]
    },
    {
      "cell_type": "code",
      "metadata": {
        "colab": {
          "base_uri": "https://localhost:8080/",
          "height": 704
        },
        "id": "5G-QOhMqvUfu",
        "outputId": "b42bc751-ea9b-4c14-a553-122f7bfd4de4"
      },
      "source": [
        "plt.figure(figsize=(12,12))\n",
        "sns.heatmap(cov_mat, vmax=1, square=True,annot=True,cmap='cubehelix')\n",
        "\n",
        "plt.title('Correlation between different features')"
      ],
      "execution_count": 86,
      "outputs": [
        {
          "output_type": "execute_result",
          "data": {
            "text/plain": [
              "Text(0.5, 1.0, 'Correlation between different features')"
            ]
          },
          "metadata": {
            "tags": []
          },
          "execution_count": 86
        },
        {
          "output_type": "display_data",
          "data": {
            "image/png": "[encoded data removed]",
            "text/plain": [
              "<Figure size 864x864 with 2 Axes>"
            ]
          },
          "metadata": {
            "tags": [],
            "needs_background": "light"
          }
        }
      ]
    },
    {
      "cell_type": "code",
      "metadata": {
        "colab": {
          "base_uri": "https://localhost:8080/"
        },
        "id": "zBbukZxy7pmG",
        "outputId": "2a8054d6-b1d9-45fb-bee2-477ad8c1a1d5"
      },
      "source": [
        "#Step 3: Calculate the eigenvalues and eigenvectors for the covariance matrix.\n",
        "eig_vals, eig_vecs =np.linalg.eig(cov_mat)\n",
        "print(pd.DataFrame(eig_vecs))\n",
        "eig_vals,  "
      ],
      "execution_count": 90,
      "outputs": [
        {
          "output_type": "stream",
          "text": [
            "          0         1         2   ...        10        11        12\n",
            "0   0.017309  0.012123 -0.104251  ... -0.074250 -0.054197  0.000412\n",
            "1   0.433649 -0.124045  0.104657  ...  0.002359  0.003268 -0.048724\n",
            "2  -0.365241 -0.057082 -0.167851  ... -0.095020 -0.033612  0.118161\n",
            "3   0.130144  0.507984  0.107688  ...  0.110172  0.066911 -0.214257\n",
            "4  -0.330828  0.461878  0.087784  ... -0.308243  0.638774  0.123164\n",
            "5   0.124243 -0.193398 -0.081431  ... -0.026383 -0.018338  0.054550\n",
            "6  -0.059493 -0.118330  0.673142  ...  0.597585  0.260477 -0.054590\n",
            "7  -0.509021 -0.223465 -0.083597  ...  0.041248 -0.033946 -0.775096\n",
            "8  -0.376092 -0.404622 -0.066346  ...  0.203718  0.153451  0.516746\n",
            "9  -0.083249 -0.017366 -0.077194  ...  0.009237 -0.004889  0.008094\n",
            "10 -0.027322  0.006586 -0.023484  ...  0.019166 -0.035855 -0.006524\n",
            "11 -0.122208 -0.179024  0.665716  ... -0.634165 -0.272839  0.040292\n",
            "12  0.331253 -0.460840 -0.099355  ... -0.273269  0.644032 -0.217028\n",
            "\n",
            "[13 rows x 13 columns]\n"
          ],
          "name": "stdout"
        },
        {
          "output_type": "execute_result",
          "data": {
            "text/plain": [
              "(array([2.91145241, 2.571584  , 1.91980257, 1.34536391, 0.9980521 ,\n",
              "        1.12714214, 0.82007403, 0.67593713, 0.300207  , 0.217288  ,\n",
              "        0.02042664, 0.03895155, 0.05405079]),)"
            ]
          },
          "metadata": {
            "tags": []
          },
          "execution_count": 90
        }
      ]
    },
    {
      "cell_type": "code",
      "metadata": {
        "colab": {
          "base_uri": "https://localhost:8080/"
        },
        "id": "OMleW-En9EaF",
        "outputId": "b91b0d4d-2ffe-4f80-f595-f6973bb1bb2d"
      },
      "source": [
        "#Step 4: Sort eigenvalues and their corresponding eigenvectors.\n",
        "# Make a list of (eigenvalue, eigenvector) tuples\n",
        "eig_pairs = [(np.abs(eig_vals[i]), eig_vecs[:,i]) for i in range(len(eig_vals))]\n",
        "\n",
        "# Sort the (eigenvalue, eigenvector) tuples from high to low\n",
        "eig_pairs.sort(key=lambda x: x[0], reverse=True)\n",
        "\n",
        "# Visually confirm that the list is correctly sorted by decreasing eigenvalues\n",
        "print('Eigenvalues in descending order:')\n",
        "for i in eig_pairs:\n",
        "    print(i[0])\n"
      ],
      "execution_count": 97,
      "outputs": [
        {
          "output_type": "stream",
          "text": [
            "Eigenvalues in descending order:\n",
            "2.9114524067737717\n",
            "2.5715840024793777\n",
            "1.919802570770896\n",
            "1.3453639135879716\n",
            "1.1271421406364555\n",
            "0.9980521031909216\n",
            "0.820074028893256\n",
            "0.6759371315094537\n",
            "0.300207001573756\n",
            "0.21728800272513452\n",
            "0.05405078943709106\n",
            "0.0389515467606554\n",
            "0.02042663852414061\n"
          ],
          "name": "stdout"
        }
      ]
    },
    {
      "cell_type": "code",
      "metadata": {
        "colab": {
          "base_uri": "https://localhost:8080/",
          "height": 441
        },
        "id": "IRMTjX8k-rqK",
        "outputId": "599b4c61-60cf-4f92-bd59-f6fa0981b97a"
      },
      "source": [
        "#Step 5: Pick k eigenvalues and form a matrix of eigenvectors.\n",
        "tot = sum(eig_vals)\n",
        "var_exp = [(i / tot)*100 for i in sorted(eig_vals, reverse=True)]\n",
        "with plt.style.context('dark_background'):\n",
        "    plt.figure(figsize=(8, 6))\n",
        "\n",
        "    plt.bar(range(13), var_exp, alpha=0.5, align='center',\n",
        "            label='individual explained variance')\n",
        "    plt.ylabel('Explained variance ratio')\n",
        "    plt.xlabel('Principal components')\n",
        "    plt.legend(loc='best')\n",
        "    plt.tight_layout()"
      ],
      "execution_count": 101,
      "outputs": [
        {
          "output_type": "display_data",
          "data": {
            "image/png": "[encoded data removed]",
            "text/plain": [
              "<Figure size 576x432 with 1 Axes>"
            ]
          },
          "metadata": {
            "tags": []
          }
        }
      ]
    },
    {
      "cell_type": "code",
      "metadata": {
        "colab": {
          "base_uri": "https://localhost:8080/"
        },
        "id": "Urnx6XLL_5Pq",
        "outputId": "15fa8eb8-98bb-4457-cd7d-c685e1afead0"
      },
      "source": [
        "eig_pairs[0][1]"
      ],
      "execution_count": 102,
      "outputs": [
        {
          "output_type": "execute_result",
          "data": {
            "text/plain": [
              "array([ 0.01730906,  0.43364889, -0.36524085,  0.13014432, -0.33082773,\n",
              "        0.12424253, -0.0594928 , -0.50902079, -0.37609246, -0.08324865,\n",
              "       -0.0273221 , -0.12220815,  0.33125316])"
            ]
          },
          "metadata": {
            "tags": []
          },
          "execution_count": 102
        }
      ]
    },
    {
      "cell_type": "code",
      "metadata": {
        "colab": {
          "base_uri": "https://localhost:8080/"
        },
        "id": "GySFQfNHADZD",
        "outputId": "09ca5ebb-6e74-40c4-d9ef-d95524f38fb4"
      },
      "source": [
        "eig_pairs[0][1].reshape(13,1)"
      ],
      "execution_count": 103,
      "outputs": [
        {
          "output_type": "execute_result",
          "data": {
            "text/plain": [
              "array([[ 0.01730906],\n",
              "       [ 0.43364889],\n",
              "       [-0.36524085],\n",
              "       [ 0.13014432],\n",
              "       [-0.33082773],\n",
              "       [ 0.12424253],\n",
              "       [-0.0594928 ],\n",
              "       [-0.50902079],\n",
              "       [-0.37609246],\n",
              "       [-0.08324865],\n",
              "       [-0.0273221 ],\n",
              "       [-0.12220815],\n",
              "       [ 0.33125316]])"
            ]
          },
          "metadata": {
            "tags": []
          },
          "execution_count": 103
        }
      ]
    },
    {
      "cell_type": "code",
      "metadata": {
        "id": "aF8AKWL2ATz_"
      },
      "source": [
        "[eig_pairs[i][1].reshape(13,1) for i in range(13)]"
      ],
      "execution_count": 111,
      "outputs": []
    },
    {
      "cell_type": "code",
      "metadata": {
        "colab": {
          "base_uri": "https://localhost:8080/"
        },
        "id": "PoFa1F74_miG",
        "outputId": "ea80a990-a4e9-43ee-8112-2caa25e17dee"
      },
      "source": [
        "#Step 6: Transform the original matrix.\n",
        "matrix_w = np.hstack(tuple([eig_pairs[i][1].reshape(13,1) for i in range(6)]))\n",
        "print('Matrix W:\\n', matrix_w)"
      ],
      "execution_count": 112,
      "outputs": [
        {
          "output_type": "stream",
          "text": [
            "Matrix W:\n",
            " [[ 1.73090623e-02  1.21231321e-02 -1.04250903e-01 -9.28879141e-03\n",
            "   8.64140746e-03  9.88940022e-01]\n",
            " [ 4.33648886e-01 -1.24044886e-01  1.04657103e-01 -2.73648456e-01\n",
            "  -2.95822245e-01 -8.39860337e-05]\n",
            " [-3.65240849e-01 -5.70820604e-02 -1.67851029e-01  3.73940738e-01\n",
            "   3.10206488e-01  3.05030279e-03]\n",
            " [ 1.30144318e-01  5.07984133e-01  1.07687706e-01  2.39728057e-01\n",
            "   2.08479415e-01  8.27924867e-04]\n",
            " [-3.30827733e-01  4.61878445e-01  8.77840706e-02 -1.41728084e-01\n",
            "  -1.07545978e-01  1.42106115e-02]\n",
            " [ 1.24242532e-01 -1.93397741e-01 -8.14314401e-02  3.36148371e-01\n",
            "   4.28718172e-01 -4.11944454e-02]\n",
            " [-5.94928046e-02 -1.18329604e-01  6.73142404e-01  1.56659947e-01\n",
            "   7.74854641e-02  1.40324666e-01]\n",
            " [-5.09020794e-01 -2.23464905e-01 -8.35965569e-02 -1.66881684e-01\n",
            "  -5.75012926e-02 -5.76934365e-03]\n",
            " [-3.76092459e-01 -4.04621990e-01 -6.63457811e-02 -1.85066640e-01\n",
            "  -8.54329780e-02  1.05811823e-02]\n",
            " [-8.32486524e-02 -1.73658636e-02 -7.71944463e-02  5.73530944e-01\n",
            "  -3.59435660e-01 -2.66741422e-03]\n",
            " [-2.73221005e-02  6.58602043e-03 -2.34844078e-02  3.82015295e-01\n",
            "  -6.53444106e-01  4.09126539e-03]\n",
            " [-1.22208154e-01 -1.79023768e-01  6.65716238e-01  6.44569277e-02\n",
            "   1.01269302e-02  8.72147975e-03]\n",
            " [ 3.31253157e-01 -4.60839884e-01 -9.93551944e-02  1.70225807e-01\n",
            "   6.68015596e-02  1.23505610e-02]]\n"
          ],
          "name": "stdout"
        }
      ]
    },
    {
      "cell_type": "code",
      "metadata": {
        "colab": {
          "base_uri": "https://localhost:8080/"
        },
        "id": "lU_-mFQYB1g9",
        "outputId": "3df1dad0-0e48-44c8-c802-3e43ed5f7b0f"
      },
      "source": [
        "Y = X_scaled.dot(matrix_w)\n",
        "Y"
      ],
      "execution_count": 113,
      "outputs": [
        {
          "output_type": "execute_result",
          "data": {
            "text/plain": [
              "array([[ 2.14496747,  1.01862168,  0.47313271, -0.00513776, -0.06927129,\n",
              "        -0.00405501],\n",
              "       [-0.78859299, -0.23258293, -0.39013194,  0.57696011,  0.72787205,\n",
              "         0.00654727],\n",
              "       [-0.22113138, -0.39490483, -0.25318038,  0.21887088,  0.34076678,\n",
              "         0.00643736],\n",
              "       ...,\n",
              "       [-2.2465456 ,  2.08790142,  0.19649505, -0.50121169,  0.18338618,\n",
              "        -0.05809196],\n",
              "       [ 2.14496747,  1.01862168,  0.47313271, -0.00513776, -0.06927129,\n",
              "        -0.00405501],\n",
              "       [-0.65770543, -0.2700232 , -0.35854345,  0.49436523,  0.63858449,\n",
              "         0.00652192]])"
            ]
          },
          "metadata": {
            "tags": []
          },
          "execution_count": 113
        }
      ]
    },
    {
      "cell_type": "markdown",
      "metadata": {
        "id": "R74BvpMQEF7K"
      },
      "source": [
        "##Even with manual approach we approached nearer to the eigen values in comparision with sklearn PCA"
      ]
    },
    {
      "cell_type": "code",
      "metadata": {
        "colab": {
          "base_uri": "https://localhost:8080/"
        },
        "id": "-xmEpmRjCgv0",
        "outputId": "4ae3eeed-8eb5-4718-f496-7218dd7ed96d"
      },
      "source": [
        "[i/100 for i in var_exp]"
      ],
      "execution_count": 123,
      "outputs": [
        {
          "output_type": "execute_result",
          "data": {
            "text/plain": [
              "[0.22395215328114182,\n",
              " 0.19780909808406283,\n",
              " 0.14767334633343426,\n",
              " 0.10348688671460807,\n",
              " 0.08670102553012951,\n",
              " 0.07677127645169407,\n",
              " 0.06308100527190129,\n",
              " 0.05199383501238974,\n",
              " 0.023092256042412416,\n",
              " 0.01671403454139777,\n",
              " 0.004157646765174381,\n",
              " 0.0029961962456897164,\n",
              " 0.0015712397259641255]"
            ]
          },
          "metadata": {
            "tags": []
          },
          "execution_count": 123
        }
      ]
    },
    {
      "cell_type": "code",
      "metadata": {
        "colab": {
          "base_uri": "https://localhost:8080/"
        },
        "id": "5ME8EDztCwAe",
        "outputId": "a04d3fcb-2255-4adb-d4fb-8becf6ac7a17"
      },
      "source": [
        "(pca.explained_variance_ratio_)"
      ],
      "execution_count": 119,
      "outputs": [
        {
          "output_type": "execute_result",
          "data": {
            "text/plain": [
              "array([0.22409827, 0.19681157, 0.14725868, 0.10350623, 0.08665451,\n",
              "       0.07675076, 0.06379437, 0.05177486, 0.02325129, 0.01689124,\n",
              "       0.00422633, 0.00321606, 0.00176586])"
            ]
          },
          "metadata": {
            "tags": []
          },
          "execution_count": 119
        }
      ]
    },
    {
      "cell_type": "markdown",
      "metadata": {
        "id": "2AWrrxTzEPqX"
      },
      "source": [
        "# Could see in both approaches we were approached to prove that 90% varience is at 6 principle components"
      ]
    },
    {
      "cell_type": "code",
      "metadata": {
        "colab": {
          "base_uri": "https://localhost:8080/",
          "height": 296
        },
        "id": "lOzct9vjCX8N",
        "outputId": "a415d56f-63b3-41f2-b6cc-a150df81debb"
      },
      "source": [
        "plt.plot(np.cumsum(var_exp))\n",
        "plt.xlim(0,X_scaled.shape[1],1)\n",
        "plt.xlabel('Number of components')\n",
        "plt.ylabel('Cumulative explained variance')"
      ],
      "execution_count": 120,
      "outputs": [
        {
          "output_type": "execute_result",
          "data": {
            "text/plain": [
              "Text(0, 0.5, 'Cumulative explained variance')"
            ]
          },
          "metadata": {
            "tags": []
          },
          "execution_count": 120
        },
        {
          "output_type": "display_data",
          "data": {
            "image/png": "[encoded data removed]",
            "text/plain": [
              "<Figure size 432x288 with 1 Axes>"
            ]
          },
          "metadata": {
            "tags": [],
            "needs_background": "light"
          }
        }
      ]
    },
    {
      "cell_type": "code",
      "metadata": {
        "colab": {
          "base_uri": "https://localhost:8080/",
          "height": 296
        },
        "id": "5vtjhq_UbxQH",
        "outputId": "022886c1-618a-424a-ca15-6836f8049200"
      },
      "source": [
        "from sklearn.decomposition import  PCA\n",
        "pca = PCA().fit(X_scaled)\n",
        "plt.plot(np.cumsum(pca.explained_variance_ratio_))\n",
        "plt.xlim(0,X_scaled.shape[1],1)\n",
        "plt.xlabel('Number of components')\n",
        "plt.ylabel('Cumulative explained variance')"
      ],
      "execution_count": 124,
      "outputs": [
        {
          "output_type": "execute_result",
          "data": {
            "text/plain": [
              "Text(0, 0.5, 'Cumulative explained variance')"
            ]
          },
          "metadata": {
            "tags": []
          },
          "execution_count": 124
        },
        {
          "output_type": "display_data",
          "data": {
            "image/png": "[encoded data removed]",
            "text/plain": [
              "<Figure size 432x288 with 1 Axes>"
            ]
          },
          "metadata": {
            "tags": [],
            "needs_background": "light"
          }
        }
      ]
    },
    {
      "cell_type": "markdown",
      "metadata": {
        "id": "VMxZDLqtc08G"
      },
      "source": [
        "**The above plot shows almost 90% variance by the first 6 components. Therfore we can drop remaining component.** "
      ]
    },
    {
      "cell_type": "code",
      "metadata": {
        "id": "T8OLCNvjc9_d"
      },
      "source": [
        "sklearn_pca = PCA(n_components=6)\n",
        "X_scaled_pca = sklearn_pca.fit_transform(X_scaled)"
      ],
      "execution_count": 115,
      "outputs": []
    },
    {
      "cell_type": "code",
      "metadata": {
        "colab": {
          "base_uri": "https://localhost:8080/"
        },
        "id": "ERoj_5z0dQI0",
        "outputId": "c5ad1886-f1b6-48a8-8d45-eb701837d750"
      },
      "source": [
        "X_scaled_pca"
      ],
      "execution_count": 116,
      "outputs": [
        {
          "output_type": "execute_result",
          "data": {
            "text/plain": [
              "array([[-2.13980391, -1.02799634,  0.47326779, -0.00312928,  0.07805988,\n",
              "         0.00454776],\n",
              "       [ 0.78743389,  0.23125802, -0.38965774,  0.56706143, -0.73343269,\n",
              "        -0.0060557 ],\n",
              "       [ 0.21848499,  0.39471804, -0.25270019,  0.21060506, -0.35319384,\n",
              "        -0.00631898],\n",
              "       ...,\n",
              "       [ 2.25349889, -2.08041257,  0.20298248, -0.54298537, -0.20815646,\n",
              "         0.05831128],\n",
              "       [-2.13980391, -1.02799634,  0.47326779, -0.00312928,  0.07805988,\n",
              "         0.00454776],\n",
              "       [ 0.65620328,  0.2689608 , -0.35806787,  0.48484318, -0.6457289 ,\n",
              "        -0.00611643]])"
            ]
          },
          "metadata": {
            "tags": []
          },
          "execution_count": 116
        }
      ]
    },
    {
      "cell_type": "code",
      "metadata": {
        "id": "txxypd6KbvX2"
      },
      "source": [
        "\n",
        "model = LogisticRegression()\n",
        "model.fit(X_scaled_pca, y_train)\n",
        "y_pred = model.predict(sklearn_pca.transform(X_scaled_test))\n",
        "\n",
        "accuracy = accuracy_score(y_test, y_pred)\n",
        "print(\"Accuracy: %.2f%%\" % (accuracy * 100.0))"
      ],
      "execution_count": null,
      "outputs": []
    },
    {
      "cell_type": "code",
      "metadata": {
        "id": "4ewkZJZ43XiP"
      },
      "source": [
        "list=list1 = [[21.9,1000,1.1,(21.9-1.1)*100/21.9,'No Change'],[21.9,4000,1.1,(21.9-1.1)*100/21.9,'No Change'],[21.9,8000,1.1,(21.9-1.1)*100/21.9,'No Change'],[21.9,10000,1.1,(21.9-1.1)*100/21.9,'No Change']]"
      ],
      "execution_count": null,
      "outputs": []
    },
    {
      "cell_type": "code",
      "metadata": {
        "id": "wGmgMqrZ3YLY"
      },
      "source": [
        "BenchMark = pd.DataFrame(list1,columns=['Actual size(MB)','Chunksize','Reduced Size(MB)','Percentage Reduced','Model Percentage'])"
      ],
      "execution_count": null,
      "outputs": []
    },
    {
      "cell_type": "code",
      "metadata": {
        "id": "L8vk7clW4fZT"
      },
      "source": [
        "BenchMark"
      ],
      "execution_count": null,
      "outputs": []
    },
    {
      "cell_type": "markdown",
      "metadata": {
        "id": "f4gMDYKV4tZo"
      },
      "source": [
        "**Conclusion : *Eventhough we have different chunck size and Data size will be same after concatinating the iterated data for different chucks. As we will get data with same size in all of different sized chuncks, there won't be any change in model accuracy*** \n",
        "\n"
      ]
    },
    {
      "cell_type": "code",
      "metadata": {
        "id": "8Lg856zM7AEu"
      },
      "source": [
        ""
      ],
      "execution_count": null,
      "outputs": []
    }
  ]
}